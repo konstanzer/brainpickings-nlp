{
 "cells": [
  {
   "cell_type": "code",
   "execution_count": 1,
   "metadata": {},
   "outputs": [],
   "source": [
    "%load_ext autoreload\n",
    "%autoreload 2"
   ]
  },
  {
   "cell_type": "code",
   "execution_count": 2,
   "metadata": {},
   "outputs": [],
   "source": [
    "import warnings\n",
    "warnings.filterwarnings('ignore')\n",
    "\n",
    "from collections import Counter\n",
    "import numpy as np\n",
    "import pandas as pd\n",
    "import re\n",
    "import matplotlib.pyplot as plt"
   ]
  },
  {
   "cell_type": "code",
   "execution_count": 3,
   "metadata": {},
   "outputs": [],
   "source": [
    "from sklearn.feature_extraction.text import TfidfVectorizer, CountVectorizer\n",
    "from sklearn.decomposition import NMF\n",
    "from sklearn.linear_model import LogisticRegression\n",
    "from sklearn.model_selection import GridSearchCV\n",
    "from sklearn.model_selection import validation_curve\n",
    "from sklearn.model_selection import cross_val_score\n",
    "from sklearn.preprocessing import StandardScaler\n",
    "from sklearn import metrics\n",
    "from sklearn.model_selection import train_test_split\n",
    "from sklearn.ensemble import RandomForestClassifier\n",
    "#from sklearn.ensemble import GradientBoostingClassifier\n",
    "from sklearn.base import TransformerMixin\n",
    "from sklearn.pipeline import Pipeline\n",
    "from sklearn.naive_bayes import GaussianNB"
   ]
  },
  {
   "cell_type": "code",
   "execution_count": null,
   "metadata": {},
   "outputs": [],
   "source": [
    "import spacy\n",
    "import nltk\n",
    "from spacy import displacy\n",
    "from imblearn.over_sampling import SMOTE\n",
    "from imblearn.under_sampling import NearMiss\n",
    "from nltk.stem.wordnet import WordNetLemmatizer\n",
    "from nltk.corpus import stopwords"
   ]
  },
  {
   "cell_type": "code",
   "execution_count": 4,
   "metadata": {},
   "outputs": [],
   "source": [
    "df = pd.read_csv('data/articles.csv', index_col='index') #parser.py uses BeautifulSoup to make a clean .csv from html files\n",
    "df.date = pd.to_datetime(df.date)"
   ]
  },
  {
   "cell_type": "markdown",
   "metadata": {
    "jupyter": {
     "source_hidden": true
    },
    "tags": []
   },
   "source": [
    "BrainPickings.org has 5000+ articles containing 5 million words. The author is interested in the evolving themes in her work. While this can be visualized with a stacked barchart (years on x, count on y, stacking is based on tags), I want to turn this into an NLP problem involving vectorization of the articles and then classification. The classification can be done in two ways: time and tags. Time would predict Early (written before 2014) or Late (written 2014-present) while tags would divide articles by popular tags and then try to guess which tag the article is filed under. Tags should be different, like Science an Art, two popular ones. In order to use rarer tags, you will have to undersample the more popular class \n",
    "\n",
    "Classifying articles into one of many tage is a multi-label problem. You'll want to calculate probabilities for each tag for every document. When making the model, think about the target and how to best transform the \"natural language\" into a vector that captures the essence of the target. Suppose you want to classify an article as being about Art or Science. A basic model would be to look for the words \"art\" and \"science\" in the article and return a vector of the counts. So if an article says \"art\" once and \"science\" three times th vector is [1,3]. You want the simplest representation of the article that gives the clearest signal of what the classification should be.\n",
    "\n",
    "If the classification is about whether the author wrote the article early in their career or later, then you'll want to represent the article as a different vector. Maybe the inexperinced writer used a lot of curse words or said \"like\" to much. Maybe the stronger writer writes longer sentences or uses a wider vocabulary. In this case, using too small a vocabulary will not be a good idea. You want to represent the early articles as sparser with more reliance on commoner words. \n",
    "\n",
    "In choosing the right vector to capture the right signal, you'll want to think about the particular problem. Do you need rare words, do you need to filter out words that occur in most articles, do you need stems or lemmas, do you need puncutation, do you want a few stop words or many? Be careful as well you don't make a useless model. Suppose you left t4he date in the article and the model just used that to predict when it was written. Or maybe the author always signed off with a phrase and then stopped doing it, so the model just sees that.\n",
    "\n",
    "Topic modeling is the process of discovering salient feautures in a corpus in an unsupervied way. "
   ]
  },
  {
   "cell_type": "markdown",
   "metadata": {},
   "source": [
    "### 1.1 Make classes based on date\n",
    "The reason for doing this classification may be to distinguish Maria's early and late writing style. Summer (June 21) 2014 is my dividing line. This date divides the total word count more or less evenly (I figured this date out in EDA.) This division creates a class imbalance because earlier articles are shorter so I'm going to drop stubs until the classes are equal. In practice, this meant dropping 1,128 articles of under 280 words written prior to Summer 2014. As average article length is about 1,100 words, I think dropping very short ones, which involve less thoughtfulness from the writer anyway, is a good idea. Interestingly, I replaced punctuation before using the vectorizer and it made no difference."
   ]
  },
  {
   "cell_type": "code",
   "execution_count": 5,
   "metadata": {},
   "outputs": [],
   "source": [
    "df[\"early\"]=1\n",
    "df.early[(df.date > '2014-06-20')]=0"
   ]
  },
  {
   "cell_type": "code",
   "execution_count": 6,
   "metadata": {},
   "outputs": [
    {
     "data": {
      "text/plain": [
       "0    2285\n",
       "1    2285\n",
       "Name: early, dtype: int64"
      ]
     },
     "execution_count": 6,
     "metadata": {},
     "output_type": "execute_result"
    }
   ],
   "source": [
    "early, late = df.early.value_counts()[1], df.early.value_counts()[0]\n",
    "early_stubs = np.argsort(df.words[df.early==1].values)[:early-late]\n",
    "early_stubs += 1 #original index started at 1\n",
    "\n",
    "df=df.drop(index=early_stubs) #now we have balanced classes, when left out, 0 class suffered\n",
    "df=df.reset_index(drop=True)\n",
    "df.early.value_counts()"
   ]
  },
  {
   "cell_type": "code",
   "execution_count": 7,
   "metadata": {},
   "outputs": [],
   "source": [
    "#the corpus will include articles and their titles\n",
    "documents = df.title + df.content"
   ]
  },
  {
   "cell_type": "markdown",
   "metadata": {},
   "source": [
    "### 1.2 Feature Extraction with Tf-Idf vectorizer\n",
    "\n",
    "Stop words decreases accuracy and are sort of redundant with max_df. I did notice the model fitting to years mentioned in the text, which I don't want, because that isn't stylistic, so I made a list of years my stopwords."
   ]
  },
  {
   "cell_type": "code",
   "execution_count": null,
   "metadata": {},
   "outputs": [],
   "source": [
    "stopwords = ['2000', '2001', '2004', '2005', '2006', '2007', '2008', '2009',\n",
    "             '2010', '2011', '2012', '2013', '2014', '2015', '2016', '2017',\n",
    "             '2018', '2019', '2020', '2021', 'it', 'into', 'the', 'a', 'of',\n",
    "             'and', 'at', 'do', 'that', 'is', 'but', 'as', 'in', 'their',\n",
    "             '1995', '1996', '1997', '1998', '1999'] "
   ]
  },
  {
   "cell_type": "code",
   "execution_count": 8,
   "metadata": {
    "tags": []
   },
   "outputs": [
    {
     "data": {
      "text/plain": [
       "<4570x10758 sparse matrix of type '<class 'numpy.float64'>'\n",
       "\twith 2525973 stored elements in Compressed Sparse Row format>"
      ]
     },
     "execution_count": 8,
     "metadata": {},
     "output_type": "execute_result"
    }
   ],
   "source": [
    "TFIDF = TfidfVectorizer(strip_accents=\"unicode\",\n",
    "                        min_df=70,\n",
    "                        max_df=.70,\n",
    "                        stop_words=stopwords,\n",
    "                        ngram_range=(1,2)) \n",
    "X = TFIDF.fit_transform(documents)\n",
    "X"
   ]
  },
  {
   "cell_type": "code",
   "execution_count": 9,
   "metadata": {
    "tags": []
   },
   "outputs": [
    {
     "name": "stdout",
     "output_type": "stream",
     "text": [
      "['illustrations courtesy' 'szymborska' 'splendor of' 'serenade'\n",
      " 'serenade to' 'its totality' 'the trailblazing' 'totality complement'\n",
      " '2015' 'most elemental' 'vitalizing' 'astrophysicist janna'\n",
      " 'particular fragment' 'largehearted' 'in consonance']\n"
     ]
    }
   ],
   "source": [
    "vocabulary = np.array(list(TFIDF.vocabulary_.keys()))\n",
    "print(vocabulary[-15:])"
   ]
  },
  {
   "cell_type": "markdown",
   "metadata": {},
   "source": [
    "### 1.3 Modeling"
   ]
  },
  {
   "cell_type": "code",
   "execution_count": 10,
   "metadata": {},
   "outputs": [],
   "source": [
    "X = StandardScaler().fit_transform(X.todense())\n",
    "y = df.early"
   ]
  },
  {
   "cell_type": "code",
   "execution_count": 11,
   "metadata": {},
   "outputs": [],
   "source": [
    "X_train, X_test, y_train, y_test = train_test_split(X, y, test_size=0.2,\n",
    "                                                    stratify=y, random_state=36)"
   ]
  },
  {
   "cell_type": "code",
   "execution_count": 17,
   "metadata": {
    "collapsed": true,
    "jupyter": {
     "outputs_hidden": true
    },
    "tags": []
   },
   "outputs": [
    {
     "name": "stdout",
     "output_type": "stream",
     "text": [
      "['000', '10', '100', '11', '12', '13', '14', '15', '150', '16', '17', '17th', '17th century', '18', '1882', '1892', '18th', '19', '1900', '1907', '1910', '1912', '1913', '1914', '1920', '1922', '1923', '1924', '1925', '1926', '1927', '1928', '1929', '1930', '1930s', '1932', '1933', '1934', '1936', '1937', '1939', '1940', '1941', '1942', '1943', '1944', '1945', '1946', '1947', '1948', '1949', '1950', '1950s', '1951', '1953', '1954', '1955', '1956', '1957', '1958', '1959', '1960', '1960s', '1961', '1962', '1963', '1964', '1965', '1966', '1967', '1968', '1969', '1970', '1970s', '1971', '1972', '1973', '1974', '1975', '1976', '1977', '1978', '1980', '1980s', '1985', '1987', '1988', '1989', '1990', '1993', '1995', '1996', '1997', '1998', '1999', '19th', '19th century', '20', '200', '2000', '2001', '2004', '2005', '2006', '2007', '2008', '2009', '2010', '2011', '2012', '2013', '2014', '2015', '20th', '20th century', '21', '22', '23', '24', '25', '26', '27', '28', '29', '30', '300', '31', '40', '50', '500', '60', '80', 'abandon', 'abandoned', 'abiding', 'ability', 'ability to', 'able', 'able to', 'about and', 'about being', 'about her', 'about his', 'about how', 'about it', 'about life', 'about love', 'about my', 'about our', 'about that', 'about the', 'about their', 'about them', 'about this', 'about to', 'about what', 'about your', 'above', 'above all', 'above the', 'absence', 'absence of', 'absolute', 'absolutely', 'absorbed', 'absorbing', 'abstract', 'abstraction', 'absurd', 'absurdity', 'abundance', 'abuse', 'abyss', 'academic', 'academy', 'academy of', 'accept', 'accept the', 'acceptance', 'acceptance speech', 'accepted', 'accepting', 'access', 'access to', 'accessible', 'accident', 'acclaim', 'acclaimed', 'accompanied', 'accompanied by', 'accompanying', 'accomplished', 'according', 'according to', 'account', 'account of', 'accounts', 'accurate', 'achieve', 'achieved', 'achievement', 'achievements', 'ackerman', 'acknowledge', 'acquire', 'acquired', 'across', 'across the', 'act', 'act of', 'acting', 'action', 'actions', 'active', 'actively', 'activist', 'activities', 'activity', 'actor', 'acts', 'acts of', 'actual', 'actually', 'acute', 'acutely', 'ad', 'ada', 'adam', 'adaptation', 'adaptation of', 'adapted', 'add', 'added', 'adding', 'addition', 'addition to', 'additional', 'address', 'address on', 'addressed', 'addresses', 'addressing', 'adds', 'adds the', 'adds to', 'admirable', 'admiration', 'admire', 'admired', 'admit', 'admitted', 'admonished', 'admonishes', 'admonition', 'admonition against', 'adrienne', 'adrienne rich', 'adult', 'adulthood', 'adults', 'advance', 'advanced', 'advances', 'advancing', 'advantage', 'advantage of', 'advantages', 'adventure', 'adventures', 'adventures in', 'advertising', 'advice', 'advice on', 'advice to', 'advised', 'advocate', 'aesthetic', 'aesthetics', 'affair', 'affairs', 'affect', 'affected', 'affection', 'affectionate', 'affects', 'afford', 'afraid', 'afraid of', 'africa', 'african', 'after', 'after all', 'after he', 'after her', 'after his', 'after it', 'after the', 'afternoon', 'again', 'again and', 'again in', 'again the', 'again to', 'against', 'against the', 'age', 'age and', 'age of', 'aged', 'agency', 'agent', 'ages', 'ago', 'agree', 'agreed', 'ah', 'ahead', 'ahead of', 'aid', 'aim', 'aimed', 'aimed at', 'aims', 'air', 'air and', 'akin', 'alain', 'alain de', 'alan', 'alan lightman', 'alan watts', 'albert', 'albert camus', 'albert einstein', 'album', 'aldous', 'aldous huxley', 'alexander', 'alfred', 'alice', 'alice in', 'alien', 'alike', 'alive', 'alive and', 'alive in', 'aliveness', 'all about', 'all and', 'all around', 'all but', 'all day', 'all great', 'all have', 'all his', 'all human', 'all in', 'all is', 'all it', 'all its', 'all kinds', 'all know', 'all my', 'all of', 'all other', 'all our', 'all over', 'all that', 'all the', 'all their', 'all there', 'all these', 'all things', 'all this', 'all those', 'all time', 'all to', 'all too', 'all we', 'all you', 'all your', 'allegory', 'allen', 'allow', 'allowed', 'allowed to', 'allowing', 'allows', 'allows us', 'allure', 'allure of', 'alluring', 'almost', 'alone', 'alone and', 'alone in', 'along', 'along the', 'along with', 'alongside', 'alphabet', 'already', 'also', 'also an', 'also be', 'also gave', 'also in', 'also one', 'also the', 'also to', 'alter', 'altered', 'alternative', 'although', 'although the', 'altogether', 'altogether fantastic', 'always', 'always be', 'always been', 'always the', 'am', 'am not', 'amanda', 'amanda palmer', 'amazing', 'amazon', 'ambition', 'ambitious', 'america', 'american', 'americans', 'amid', 'amid the', 'amidst', 'among', 'among the', 'among them', 'amount', 'amount of', 'ample', 'amusing', 'an absolute', 'an act', 'an active', 'an age', 'an almost', 'an ambitious', 'an answer', 'an antidote', 'an art', 'an artist', 'an early', 'an effort', 'an end', 'an enormous', 'an entire', 'an entirely', 'an era', 'an essay', 'an essential', 'an even', 'an excellent', 'an experience', 'an exquisite', 'an extraordinary', 'an eye', 'an hour', 'an idea', 'an illustrated', 'an image', 'an important', 'an individual', 'an instrument', 'an invitation', 'an object', 'an old', 'an open', 'an unusual', 'anais', 'anais nin', 'analog', 'analogy', 'analysis', 'anatomy', 'ancestors', 'anchor', 'ancient', 'and above', 'and after', 'and again', 'and all', 'and almost', 'and also', 'and always', 'and am', 'and an', 'and another', 'and are', 'and art', 'and artist', 'and artists', 'and as', 'and asked', 'and at', 'and be', 'and beautiful', 'and beauty', 'and became', 'and because', 'and become', 'and began', 'and being', 'and beyond', 'and by', 'and can', 'and cannot', 'and creative', 'and creativity', 'and cultural', 'and culture', 'and death', 'and deeply', 'and design', 'and do', 'and don', 'and each', 'and emotional', 'and especially', 'and even', 'and eventually', 'and every', 'and everything', 'and evil', 'and experience', 'and far', 'and feel', 'and feeling', 'and finally', 'and find', 'and for', 'and found', 'and freedom', 'and from', 'and future', 'and get', 'and give', 'and go', 'and good', 'and great', 'and had', 'and half', 'and happiness', 'and has', 'and have', 'and he', 'and her', 'and here', 'and his', 'and hope', 'and how', 'and human', 'and ideas', 'and if', 'and illustrated', 'and illustrator', 'and imaginative', 'and in', 'and indeed', 'and influential', 'and instead', 'and intellectual', 'and into', 'and is', 'and it', 'and its', 'and james', 'and john', 'and just', 'and know', 'and later', 'and learning', 'and legacy', 'and less', 'and let', 'and life', 'and light', 'and like', 'and literary', 'and literature', 'and little', 'and live', 'and living', 'and look', 'and love', 'and made', 'and make', 'and makes', 'and making', 'and many', 'and meaning', 'and mental', 'and mind', 'and moral', 'and more', 'and most', 'and much', 'and music', 'and must', 'and my', 'and never', 'and new', 'and no', 'and not', 'and nothing', 'and now', 'and of', 'and often', 'and on', 'and one', 'and only', 'and other', 'and others', 'and our', 'and out', 'and over', 'and people', 'and perhaps', 'and personal', 'and philosopher', 'and philosophy', 'and place', 'and poet', 'and poetic', 'and poetry', 'and political', 'and power', 'and profound', 'and public', 'and purpose', 'and rather', 'and read', 'and religion', 'and said', 'and say', 'and science', 'and scientific', 'and see', 'and self', 'and set', 'and she', 'and since', 'and so', 'and social', 'and some', 'and sometimes', 'and soul', 'and space', 'and spirit', 'and spiritual', 'and spirituality', 'and still', 'and susan', 'and take', 'and technology', 'and that', 'and their', 'and then', 'and there', 'and therefore', 'and these', 'and they', 'and think', 'and this', 'and those', 'and though', 'and thought', 'and through', 'and thus', 'and time', 'and timeless', 'and to', 'and try', 'and two', 'and ultimately', 'and understanding', 'and very', 'and was', 'and we', 'and well', 'and went', 'and were', 'and what', 'and when', 'and where', 'and which', 'and while', 'and white', 'and who', 'and whose', 'and why', 'and will', 'and wisdom', 'and with', 'and without', 'and women', 'and wonder', 'and wonderful', 'and work', 'and would', 'and write', 'and writer', 'and writers', 'and writes', 'and writing', 'and yet', 'and you', 'and your', 'anderson', 'andrew', 'andy', 'anecdote', 'angelou', 'anger', 'angle', 'angry', 'anguish', 'animal', 'animals', 'animated', 'animated by', 'animating', 'animation', 'ann', 'anna', 'anne', 'anne lamott', 'annie', 'annie dillard', 'anniversary', 'annual', 'anonymous', 'another', 'another and', 'answer', 'answer to', 'answered', 'answering', 'answers', 'answers to', 'anthology', 'anthology of', 'anthropologist', 'anthropology', 'anti', 'anticipated', 'antidote', 'antidote to', 'anxiety', 'anxious', 'any', 'any given', 'any kind', 'any more', 'any of', 'any one', 'any other', 'anybody', 'anymore', 'anyone', 'anyone who', 'anything', 'anything but', 'anything else', 'anything that', 'anyway', 'anywhere', 'apart', 'apart from', 'apartment', 'apparent', 'apparently', 'appeal', 'appeal to', 'appear', 'appear to', 'appearance', 'appeared', 'appeared in', 'appears', 'appears to', 'appetite', 'apple', 'application', 'applied', 'applies', 'applies to', 'apply', 'appreciate', 'appreciation', 'approach', 'approach to', 'approached', 'approaches', 'approaching', 'appropriate', 'approval', 'april', 'apt', 'aptly', 'architect', 'architectural', 'architecture', 'archival', 'archive', 'archives', 'are able', 'are about', 'are all', 'are also', 'are always', 'are an', 'are and', 'are as', 'are at', 'are being', 'are born', 'are but', 'are capable', 'are doing', 'are going', 'are in', 'are just', 'are like', 'are made', 'are many', 'are more', 'are no', 'are not', 'are now', 'are of', 'are often', 'are only', 'are so', 'are some', 'are still', 'are the', 'are those', 'are to', 'are too', 'are two', 'are very', 'are we', 'are what', 'are you', 'area', 'areas', 'aren', 'arendt', 'arguably', 'argue', 'argued', 'argued that', 'argues', 'argues is', 'argues that', 'arguing', 'argument', 'arguments', 'arise', 'arises', 'aristotle', 'arm', 'arms', 'army', 'around', 'around and', 'around the', 'around us', 'around you', 'arranged', 'arrangement', 'array', 'arrival', 'arrive', 'arrive at', 'arrived', 'arrived at', 'arrives', 'art', 'art and', 'art as', 'art but', 'art by', 'art from', 'art in', 'art is', 'art of', 'art science', 'art that', 'art the', 'art to', 'arthur', 'article', 'articles', 'articulate', 'articulated', 'articulates', 'artificial', 'artist', 'artist and', 'artist in', 'artist is', 'artist who', 'artistic', 'artists', 'artists and', 'artists to', 'artists writers', 'arts', 'arts and', 'artwork', 'as an', 'as being', 'as child', 'as far', 'as for', 'as free', 'as good', 'as he', 'as her', 'as his', 'as human', 'as if', 'as in', 'as individuals', 'as is', 'as it', 'as its', 'as kind', 'as long', 'as lover', 'as man', 'as many', 'as much', 'as my', 'as one', 'as our', 'as part', 'as possible', 'as print', 'as result', 'as she', 'as something', 'as soon', 'as such', 'as that', 'as the', 'as they', 'as this', 'as those', 'as though', 'as to', 'as tool', 'as way', 'as we', 'as well', 'as whole', 'as with', 'as writer', 'as you', 'as young', 'aside', 'asimov', 'ask', 'asked', 'asked to', 'asking', 'asks', 'asleep', 'aspect', 'aspect of', 'aspects', 'aspects of', 'aspiration', 'aspirations', 'aspiring', 'aspiring writers', 'assault', 'asserted', 'asserted in', 'asserted that', 'asserting', 'assertion', 'assertion that', 'associated', 'associated with', 'association', 'assume', 'assume that', 'assumed', 'assumption', 'assumptions', 'assurance', 'astonishing', 'astounding', 'astronomer', 'astronomer maria', 'astronomical', 'astronomy', 'astrophysicist', 'astrophysicist janna', 'at all', 'at an', 'at any', 'at first', 'at her', 'at his', 'at home', 'at how', 'at it', 'at its', 'at last', 'at least', 'at me', 'at my', 'at night', 'at once', 'at one', 'at our', 'at some', 'at that', 'at the', 'at their', 'at this', 'at time', 'at times', 'at what', 'at which', 'at work', 'at your', 'atlantic', 'atmosphere', 'atom', 'atoms', 'attached', 'attached to', 'attack', 'attain', 'attained', 'attempt', 'attempt to', 'attempted', 'attempted to', 'attempts', 'attempts to', 'attend', 'attention', 'attention and', 'attention to', 'attentive', 'attitude', 'attitudes', 'attraction', 'attractive', 'audience', 'audiences', 'audio', 'august', 'authentic', 'authenticity', 'author', 'author and', 'author of', 'authority', 'authors', 'autobiographical', 'autobiography', 'automatically', 'autumn', 'available', 'available as', 'available to', 'average', 'avoid', 'awake', 'awakened', 'awakening', 'award', 'awarded', 'aware', 'aware of', 'aware that', 'awareness', 'awareness of', 'awareness that', 'away', 'away and', 'away from', 'away the', 'away with', 'awe', 'awful', 'awkward', 'babies', 'baby', 'back', 'back and', 'back in', 'back into', 'back of', 'back on', 'back to', 'backdrop', 'background', 'bad', 'badly', 'bag', 'balance', 'balance of', 'baldwin', 'ball', 'band', 'bank', 'bar', 'bare', 'barely', 'base', 'based', 'based on', 'basic', 'basis', 'basis of', 'battle', 'bbc', 'be able', 'be an', 'be and', 'be as', 'be at', 'be better', 'be called', 'be done', 'be found', 'be free', 'be good', 'be happy', 'be human', 'be in', 'be it', 'be like', 'be made', 'be more', 'be no', 'be of', 'be on', 'be one', 'be said', 'be seen', 'be so', 'be sure', 'be taken', 'be that', 'be the', 'be there', 'be to', 'be true', 'be understood', 'be used', 'be very', 'beach', 'beam', 'bear', 'bearing', 'bears', 'beast', 'beat', 'beats', 'beautiful', 'beautiful and', 'beautiful letter', 'beautiful meditation', 'beautifully', 'beauty', 'beauty and', 'beauty in', 'beauty of', 'beauvoir', 'became', 'became the', 'because', 'because he', 'because it', 'because of', 'because the', 'because there', 'because they', 'because we', 'because you', 'become', 'become an', 'become one', 'become the', 'becomes', 'becomes the', 'becoming', 'bed', 'bedroom', 'been', 'been able', 'been in', 'been so', 'been the', 'beethoven', 'before', 'before and', 'before he', 'before her', 'before his', 'before it', 'before she', 'before the', 'before they', 'before we', 'before you', 'began', 'began to', 'begin', 'begin to', 'begin with', 'beginning', 'beginning of', 'beginning to', 'beginning with', 'begins', 'begins by', 'begins to', 'begins with', 'begun', 'begun to', 'behave', 'behavior', 'behavioral', 'behaviors', 'behind', 'behind the', 'behold', 'being', 'being able', 'being an', 'being and', 'being human', 'being in', 'being is', 'being the', 'beings', 'belief', 'belief in', 'belief that', 'beliefs', 'beliefs and', 'believe', 'believe in', 'believe it', 'believe that', 'believed', 'believed that', 'believes', 'believing', 'bell', 'belong', 'belong to', 'belonging', 'belonging and', 'belonging to', 'belongs', 'belongs to', 'beloved', 'beloved author', 'below', 'below the', 'ben', 'bend', 'bending', 'beneath', 'beneath the', 'benefit', 'benefits', 'benefits of', 'benjamin', 'bent', 'bertrand', 'bertrand russell', 'beside', 'besides', 'best', 'best known', 'best of', 'best way', 'better', 'better and', 'better known', 'better than', 'between', 'between our', 'between the', 'between them', 'between two', 'between us', 'bewitching', 'beyond', 'beyond the', 'bias', 'bible', 'bicycle', 'big', 'bigger', 'biggest', 'bike', 'bill', 'billion', 'biographies', 'biography', 'biography of', 'biological', 'biologist', 'biology', 'bird', 'birds', 'birth', 'birth of', 'birthday', 'bit', 'bit of', 'bits', 'bitter', 'bittersweet', 'bizarre', 'black', 'black and', 'blake', 'blame', 'blank', 'blend', 'blend of', 'blind', 'bliss', 'block', 'blocks', 'blocks of', 'blog', 'blood', 'blossom', 'blow', 'blue', 'board', 'boat', 'bob', 'bodies', 'bodily', 'body', 'body and', 'body is', 'body of', 'bold', 'bond', 'bone', 'bones', 'book', 'book about', 'book and', 'book as', 'book author', 'book by', 'book for', 'book in', 'book is', 'book of', 'book on', 'book that', 'book the', 'book to', 'book was', 'book which', 'books', 'books about', 'books and', 'books are', 'books by', 'books for', 'books in', 'books of', 'books on', 'books that', 'books the', 'books to', 'boredom', 'borges', 'boring', 'born', 'born in', 'borrow', 'borrowed', 'boston', 'both', 'both in', 'both of', 'both the', 'bottle', 'bottom', 'bottom of', 'botton', 'bought', 'bound', 'bound to', 'boundaries', 'boundless', 'box', 'boy', 'boys', 'bradbury', 'brain', 'brain and', 'brain pickings', 'brains', 'branch', 'branches', 'brand', 'brave', 'bravery', 'bread', 'break', 'break the', 'breakfast', 'breaking', 'breaks', 'breakthrough', 'breath', 'breathe', 'breathing', 'breathtaking', 'brian', 'bridge', 'bridges', 'bridging', 'brief', 'bright', 'brilliance', 'brilliant', 'brilliantly', 'brimming', 'brimming with', 'bring', 'bring to', 'bringing', 'brings', 'brings us', 'british', 'broad', 'broader', 'broke', 'broken', 'brooklyn', 'brooklyn based', 'brother', 'brothers', 'brothers grimm', 'brought', 'brought to', 'brown', 'brush', 'buddhist', 'build', 'building', 'building blocks', 'buildings', 'builds', 'built', 'bukowski', 'bullshit', 'bunch', 'burden', 'buried', 'burn', 'burned', 'burning', 'burst', 'business', 'business of', 'busy', 'but all', 'but also', 'but am', 'but an', 'but as', 'but at', 'but because', 'but by', 'but can', 'but despite', 'but do', 'but don', 'but even', 'but for', 'but have', 'but he', 'but his', 'but how', 'but if', 'but in', 'but is', 'but it', 'but its', 'but just', 'but more', 'but most', 'but my', 'but never', 'but no', 'but not', 'but now', 'but of', 'but on', 'but one', 'but only', 'but our', 'but perhaps', 'but rather', 'but she', 'but still', 'but that', 'but the', 'but then', 'but there', 'but they', 'but this', 'but to', 'but was', 'but we', 'but what', 'but when', 'but while', 'but with', 'but you', 'butler', 'butterflies', 'butterfly', 'buy', 'buying', 'by all', 'by an', 'by and', 'by any', 'by artist', 'by being', 'by her', 'by his', 'by it', 'by its', 'by john', 'by lisbeth', 'by making', 'by maria', 'by maurice', 'by my', 'by one', 'by our', 'by some', 'by such', 'by that', 'by the', 'by their', 'by this', 'by those', 'by way', 'by what', 'by which', 'cage', 'california', 'call', 'call for', 'call it', 'call the', 'call to', 'called', 'called the', 'calling', 'calls', 'calls the', 'calls to', 'calm', 'calvino', 'cambridge', 'came', 'came from', 'came out', 'came to', 'camera', 'campaign', 'camus', 'can also', 'can and', 'can be', 'can do', 'can find', 'can get', 'can give', 'can go', 'can have', 'can help', 'can learn', 'can make', 'can never', 'can only', 'can say', 'can see', 'can still', 'can take', 'can teach', 'can tell', 'can we', 'can you', 'cancer', 'cannot', 'cannot be', 'canon', 'canon of', 'canvas', 'capable', 'capable of', 'capacities', 'capacity', 'capacity for', 'capacity to', 'capital', 'capitalism', 'captivating', 'capture', 'capture the', 'captured', 'captures', 'captures the', 'captures this', 'car', 'card', 'cards', 'care', 'care of', 'career', 'careful', 'carefully', 'caring', 'carl', 'carl sagan', 'carried', 'carries', 'carroll', 'carry', 'carrying', 'cars', 'carson', 'cartoonist', 'case', 'case for', 'case of', 'cases', 'cash', 'cast', 'cat', 'catalog', 'catch', 'categories', 'category', 'cats', 'caught', 'caught in', 'cause', 'cause of', 'caused', 'causes', 'cautions', 'cave', 'cease', 'cease to', 'celebrate', 'celebrated', 'celebrated as', 'celebrates', 'celebrating', 'celebrating the', 'celebration', 'celebration of', 'celebrity', 'celestial', 'cell', 'cells', 'censorship', 'center', 'center of', 'centerpiece', 'centerpiece of', 'central', 'central to', 'centuries', 'centuries later', 'centuries of', 'century', 'century after', 'century ago', 'century and', 'century before', 'century earlier', 'century later', 'century of', 'certain', 'certainly', 'certainty', 'chain', 'chair', 'challenge', 'challenge of', 'challenged', 'challenges', 'challenging', 'champion', 'champion of', 'championed', 'chance', 'chance to', 'change', 'change and', 'change in', 'change the', 'changed', 'changed the', 'changes', 'changing', 'changing the', 'channel', 'chaos', 'chapter', 'character', 'character and', 'character of', 'characteristic', 'characteristics', 'characters', 'charge', 'charles', 'charles darwin', 'charlotte', 'charm', 'charming', 'cheap', 'check', 'cheerful', 'chemical', 'chemistry', 'cherished', 'chest', 'chicago', 'chief', 'child', 'childhood', 'children', 'children and', 'children book', 'children books', 'china', 'chinese', 'choice', 'choice of', 'choices', 'choose', 'choose to', 'choosing', 'chose', 'chosen', 'chris', 'christian', 'christmas', 'christopher', 'chronic', 'chronicle', 'chronicle of', 'chronicles', 'church', 'cinematic', 'circle', 'circles', 'circumstance', 'circumstances', 'cites', 'cities', 'citing', 'citizen', 'citizens', 'city', 'city and', 'civic', 'civil', 'civil rights', 'civilization', 'civilizational', 'claim', 'claimed', 'claims', 'clarion', 'clarion call', 'clarity', 'class', 'class of', 'classes', 'classic', 'classical', 'classics', 'clay', 'clean', 'clear', 'clear that', 'clearly', 'clever', 'click', 'click image', 'climate', 'climb', 'clock', 'close', 'close to', 'closed', 'closely', 'closer', 'closer to', 'closest', 'closing', 'clothes', 'cloud', 'clouds', 'club', 'co', 'coast', 'coat', 'code', 'coffee', 'cognition', 'cognitive', 'coined', 'cold', 'collaboration', 'collaboration with', 'collaborative', 'collapse', 'collected', 'collected in', 'collection', 'collection of', 'collections', 'collective', 'college', 'color', 'color and', 'colored', 'colorful', 'colors', 'combination', 'combination of', 'combinatorial', 'combinatorial creativity', 'combined', 'come', 'come back', 'come from', 'come in', 'come out', 'come to', 'come up', 'comedy', 'comes', 'comes from', 'comes in', 'comes the', 'comes to', 'comes with', 'comfort', 'comfortable', 'comforting', 'comic', 'coming', 'coming to', 'command', 'commandments', 'commencement', 'commencement address', 'comment', 'commentary', 'commerce', 'commercial', 'commitment', 'commitment to', 'committed', 'common', 'commonly', 'commons', 'communicate', 'communication', 'communion', 'communities', 'community', 'companies', 'companion', 'companions', 'company', 'compare', 'compared', 'compared to', 'comparison', 'compassion', 'compassionate', 'compelled', 'compelling', 'compendium', 'compendium of', 'complement', 'complement it', 'complement the', 'complement this', 'complement with', 'complementary', 'complete', 'completed', 'completely', 'complex', 'complex and', 'complexities', 'complexities of', 'complexity', 'complexity of', 'complicated', 'compose', 'composed', 'composer', 'composition', 'comprehend', 'compulsion', 'computer', 'computers', 'computing', 'conceive', 'conceived', 'concentration', 'concept', 'concept of', 'conception', 'conception of', 'concepts', 'conceptual', 'concern', 'concerned', 'concerned with', 'concerns', 'concludes', 'conclusion', 'concrete', 'condition', 'condition of', 'conditions', 'conduct', 'conducted', 'confidence', 'confident', 'confined', 'confirmed', 'conflict', 'conflicted', 'confront', 'confronted', 'confused', 'confusion', 'congress', 'connect', 'connected', 'connecting', 'connection', 'connections', 'conquest', 'conquest of', 'conscience', 'conscious', 'consciously', 'consciousness', 'consciousness and', 'consciousness is', 'consciousness of', 'consequence', 'consequences', 'consequences of', 'consider', 'consider the', 'considerable', 'consideration', 'considered', 'considered the', 'considering', 'considering the', 'considers', 'considers how', 'considers the', 'considers what', 'consistent', 'consistently', 'consists', 'consolation', 'consonance', 'consonance with', 'constant', 'constantly', 'constitute', 'constitutes', 'construct', 'constructed', 'construction', 'constructive', 'consumer', 'consumerism', 'consuming', 'contact', 'contact with', 'contain', 'contained', 'containing', 'contains', 'contemplate', 'contemplated', 'contemplated the', 'contemplates', 'contemplating', 'contemplating the', 'contemplation', 'contemporaries', 'contemporary', 'contempt', 'content', 'context', 'context of', 'continually', 'continue', 'continue to', 'continued', 'continued to', 'continues', 'continues to', 'continuing', 'continuity', 'continuous', 'contradiction', 'contradictions', 'contradictory', 'contrary', 'contrast', 'contribute', 'contribute to', 'contribution', 'contribution to', 'contributions', 'control', 'control and', 'controlled', 'controversial', 'convention', 'conventional', 'conventions', 'converge', 'conversation', 'conversation about', 'conversation with', 'conversations', 'conversations with', 'convey', 'conviction', 'conviction that', 'convictions', 'convinced', 'cook', 'cooking', 'cool', 'copies', 'copy', 'copy of', 'core', 'core of', 'corner', 'corner of', 'corporate', 'correct', 'correspondence', 'correspondence with', 'cosmic', 'cosmos', 'cost', 'costs', 'could', 'could be', 'could do', 'could have', 'could not', 'could see', 'couldn', 'counseled', 'count', 'counter', 'countercultural', 'counterpart', 'counterpart to', 'counterpoint', 'counterpoint to', 'countless', 'countries', 'country', 'counts', 'couple', 'couple of', 'coupled', 'courage', 'courage and', 'courage to', 'courageous', 'course', 'course is', 'course of', 'course the', 'court', 'courtesy', 'courtesy of', 'cousin', 'cover', 'cover to', 'covered', 'covering', 'covers', 'craft', 'crafted', 'crazy', 'cream', 'create', 'create the', 'created', 'created by', 'creates', 'creating', 'creation', 'creation of', 'creative', 'creative and', 'creative culture', 'creative life', 'creative process', 'creative spirit', 'creative work', 'creatively', 'creativity', 'creativity and', 'creativity in', 'creativity is', 'creativity the', 'creator', 'creators', 'creature', 'creatures', 'credit', 'crime', 'crisis', 'criteria', 'critic', 'critical', 'critical thinking', 'criticism', 'critics', 'critique', 'cross', 'cross disciplinary', 'cross pollination', 'crowd', 'crowning', 'crucial', 'crucial difference', 'cruel', 'cry', 'culled', 'cult', 'cult of', 'cultivate', 'cultivated', 'cultivating', 'cultural', 'cultural and', 'cultural history', 'cultural icons', 'culturally', 'culture', 'culture and', 'culture in', 'culture is', 'culture of', 'culture that', 'culture the', 'cultures', 'cummings', 'cup', 'curated', 'curator', 'cure', 'curie', 'curiosity', 'curiosity and', 'curious', 'curiously', 'currency', 'current', 'currently', 'curtain', 'custom', 'cut', 'cutting', 'cycle', 'cycle of', 'cynical', 'cynicism', 'dad', 'daily', 'daily life', 'daily routine', 'dali', 'damage', 'dan', 'dance', 'dancing', 'danger', 'dangerous', 'dangers', 'daniel', 'danish', 'dante', 'dare', 'daring', 'dark', 'darkness', 'darling', 'darwin', 'data', 'date', 'dated', 'daughter', 'david', 'david foster', 'dawn', 'dawn of', 'day', 'day and', 'day in', 'day of', 'day the', 'day to', 'day we', 'days', 'days and', 'days later', 'days of', 'de', 'de beauvoir', 'de botton', 'dead', 'deadly', 'deal', 'deal of', 'deal with', 'dealing', 'dealing with', 'deals', 'deals with', 'dear', 'dear friend', 'death', 'death and', 'death in', 'death is', 'death of', 'death the', 'debate', 'debbie', 'debbie millman', 'debut', 'decade', 'decade after', 'decade later', 'decades', 'decades after', 'decades before', 'decades earlier', 'decades later', 'decades of', 'december', 'decide', 'decided', 'decided to', 'decidedly', 'decides', 'decision', 'decisions', 'declared', 'decline', 'dedicated', 'dedicated to', 'dedication', 'deep', 'deep and', 'deeper', 'deepest', 'deeply', 'defeat', 'defense', 'defense of', 'define', 'defined', 'defines', 'defining', 'definite', 'definition', 'definition of', 'definitions', 'definitions of', 'degree', 'degree of', 'degrees', 'deliberate', 'deliberately', 'delicate', 'delicious', 'delight', 'delight in', 'delighted', 'delightful', 'delightfully', 'delights', 'deliver', 'delivered', 'delusion', 'demand', 'demanding', 'demands', 'demands of', 'democracy', 'democracy and', 'democratic', 'demonstrate', 'demonstrated', 'denial', 'denied', 'deny', 'department', 'depend', 'depend on', 'dependent', 'depending', 'depending on', 'depends', 'depends on', 'depicted', 'depicting', 'depiction', 'depression', 'depth', 'depths', 'depths of', 'derived', 'describe', 'described', 'described as', 'describes', 'describing', 'description', 'desert', 'design', 'design and', 'designed', 'designed to', 'designer', 'designer and', 'designers', 'designs', 'desire', 'desire for', 'desire to', 'desired', 'desires', 'desk', 'despair', 'desperate', 'despite', 'despite his', 'despite the', 'destination', 'destiny', 'destroy', 'destroyed', 'destruction', 'destructive', 'detail', 'detailed', 'details', 'determination', 'determine', 'determined', 'devastating', 'develop', 'developed', 'developing', 'development', 'development of', 'device', 'devices', 'devil', 'devised', 'devoted', 'devotion', 'diagrams', 'dialogue', 'diane', 'diane ackerman', 'diaries', 'diary', 'diary entry', 'dickens', 'dickinson', 'dictionary', 'did', 'did it', 'did not', 'did the', 'did you', 'didion', 'didn', 'didn know', 'die', 'died', 'diet', 'difference', 'difference between', 'differences', 'different', 'different from', 'differently', 'difficult', 'difficult to', 'difficulties', 'difficulty', 'dig', 'digital', 'dignity', 'dignity and', 'dignity of', 'dillard', 'dimension', 'dimension of', 'dimensional', 'dimensions', 'dimensions of', 'dinner', 'direct', 'directed', 'direction', 'direction of', 'directions', 'directly', 'director', 'director of', 'disappear', 'disappeared', 'disappointment', 'disaster', 'discern', 'disciplinary', 'discipline', 'disciplines', 'disclaimer', 'discomfort', 'disconnect', 'discourse', 'discover', 'discovered', 'discoveries', 'discovering', 'discovery', 'discovery of', 'discuss', 'discussed', 'discussing', 'discussion', 'disease', 'dismiss', 'disorder', 'disorienting', 'display', 'disposition', 'disquieting', 'distance', 'distant', 'distinct', 'distinction', 'distinction between', 'distinctive', 'distinguish', 'distinguished', 'distraction', 'distribution', 'dive', 'diverse', 'diversity', 'divide', 'divided', 'divine', 'division', 'dna', 'do', 'do and', 'do anything', 'do for', 'do in', 'do is', 'do it', 'do not', 'do so', 'do something', 'do that', 'do the', 'do this', 'do to', 'do we', 'do what', 'do with', 'do you', 'doctor', 'documentary', 'does', 'does it', 'does not', 'does the', 'doesn', 'dog', 'dogma', 'dogs', 'doing', 'doing it', 'doing so', 'doing something', 'doing what', 'domain', 'domestic', 'dominant', 'don', 'don have', 'don know', 'don think', 'don want', 'done', 'door', 'doors', 'dostoyevsky', 'dot', 'double', 'doubt', 'down', 'down and', 'down in', 'down on', 'down the', 'down to', 'down with', 'download', 'dozen', 'dr', 'drama', 'dramatic', 'draw', 'drawing', 'drawing on', 'drawings', 'drawn', 'drawn from', 'drawn to', 'draws', 'dread', 'dream', 'dream of', 'dreaming', 'dreams', 'dress', 'dressed', 'drew', 'drink', 'drinking', 'drive', 'driven', 'driven by', 'drives', 'driving', 'drop', 'dropped', 'drugs', 'dry', 'dual', 'duality', 'due', 'due to', 'dull', 'duo', 'during', 'during his', 'during the', 'dust', 'dutch', 'duties', 'duty', 'dying', 'dylan', 'dynamic', 'dynamics', 'each', 'each day', 'each of', 'each one', 'each other', 'eager', 'ear', 'earlier', 'earlier in', 'earliest', 'early', 'earn', 'earned', 'earnest', 'ears', 'earth', 'earth and', 'earthly', 'ease', 'easier', 'easier to', 'easily', 'east', 'eastern', 'easy', 'easy to', 'eat', 'eating', 'ebook', 'eccentric', 'echo', 'echoed', 'echoes', 'echoing', 'eclipse', 'eco', 'economic', 'economics', 'economy', 'ecosystem', 'ed', 'edge', 'edge of', 'edges', 'edited', 'edited by', 'edition', 'edition of', 'editor', 'editors', 'educated', 'education', 'education and', 'educational', 'educator', 'edward', 'edward gorey', 'effect', 'effect of', 'effective', 'effects', 'effects of', 'efficiency', 'effort', 'effort to', 'efforts', 'egg', 'eggs', 'ego', 'eight', 'eight years', 'eighteen', 'eighty', 'einstein', 'einstein and', 'either', 'elaborate', 'electric', 'electricity', 'electrifying', 'elegance', 'elegant', 'elegantly', 'element', 'element of', 'elemental', 'elements', 'elements of', 'elephant', 'elevating', 'eleven', 'eliot', 'elizabeth', 'eloquent', 'eloquently', 'else', 'else in', 'elsewhere', 'elusive', 'email', 'embedded', 'embedded in', 'embodied', 'embodies', 'embodiment', 'embodiment of', 'embody', 'embrace', 'embraced', 'embracing', 'emerge', 'emerged', 'emerges', 'emerges is', 'emerging', 'emerson', 'emily', 'emily dickinson', 'emotion', 'emotion and', 'emotional', 'emotionally', 'emotions', 'emotions and', 'empathy', 'empirical', 'employed', 'emptiness', 'empty', 'enable', 'enabled', 'enables', 'enchanted', 'enchanted lion', 'enchanting', 'enchantment', 'encounter', 'encounter with', 'encountered', 'encounters', 'encourage', 'encouraged', 'encouragement', 'encouraging', 'encyclopedia', 'end', 'end of', 'end the', 'end up', 'endangered', 'endearing', 'endeavor', 'ended', 'ended up', 'ending', 'endless', 'endlessly', 'endowed', 'endowed with', 'ends', 'ends with', 'endure', 'endured', 'endures', 'endures as', 'enduring', 'enemies', 'enemy', 'energy', 'energy and', 'engage', 'engaged', 'engaged in', 'engagement', 'engaging', 'engine', 'engineer', 'engineering', 'england', 'english', 'english language', 'enjoy', 'enjoyed', 'enjoyment', 'enlightenment', 'ennobling', 'enormous', 'enormously', 'enough', 'enough for', 'enough to', 'enter', 'entered', 'entered the', 'entering', 'enterprise', 'entertaining', 'entertainment', 'enthusiasm', 'entire', 'entirely', 'entirety', 'entirety complement', 'entrepreneur', 'entries', 'entry', 'entry from', 'environment', 'environmental', 'envisioned', 'ephemeral', 'epic', 'epidemic', 'episode', 'epoch', 'equal', 'equal parts', 'equality', 'equally', 'equipped', 'equivalent', 'era', 'era of', 'era when', 'erich', 'ernest', 'ernest hemingway', 'error', 'errors', 'escape', 'especially', 'especially in', 'essay', 'essay on', 'essay titled', 'essayist', 'essays', 'essays and', 'essays on', 'essence', 'essence of', 'essential', 'essential books', 'essential for', 'essential to', 'essentially', 'establish', 'established', 'establishment', 'esteem', 'etc', 'eternal', 'eternity', 'ethic', 'ethical', 'ethics', 'ethos', 'europe', 'european', 'eve', 'even', 'even as', 'even if', 'even in', 'even more', 'even the', 'even though', 'even to', 'even when', 'evening', 'event', 'events', 'eventually', 'ever', 'ever been', 'ever since', 'ever written', 'every', 'every day', 'every single', 'every time', 'every year', 'everybody', 'everyday', 'everyday life', 'everyone', 'everything', 'everything else', 'everything from', 'everything in', 'everything is', 'everything that', 'everything we', 'everywhere', 'evidence', 'evidence of', 'evidence that', 'evident', 'evil', 'evocative', 'evocative of', 'evolution', 'evolution of', 'evolutionary', 'evolve', 'evolved', 'evolving', 'exact', 'exactly', 'exactly what', 'examine', 'examined', 'examines', 'examines the', 'examining', 'example', 'example of', 'examples', 'examples of', 'excellence', 'excellent', 'except', 'exception', 'exceptional', 'excerpt', 'excerpt from', 'excess', 'exchange', 'excited', 'excitement', 'exciting', 'exclusive', 'excuse', 'exercise', 'exercise in', 'exhibition', 'exist', 'exist in', 'existed', 'existence', 'existence and', 'existence of', 'existential', 'existing', 'exists', 'expand', 'expanded', 'expanding', 'expansive', 'expect', 'expectation', 'expectations', 'expected', 'expected to', 'expedition', 'expense', 'expensive', 'experience', 'experience and', 'experience as', 'experience in', 'experience is', 'experience it', 'experience of', 'experience that', 'experience the', 'experienced', 'experiences', 'experiencing', 'experiment', 'experimental', 'experiments', 'expert', 'explain', 'explained', 'explaining', 'explains', 'explanation', 'explanations', 'exploration', 'exploration of', 'explore', 'explore the', 'explored', 'explores', 'explores in', 'explores the', 'exploring', 'exploring the', 'expose', 'exposed', 'express', 'expressed', 'expressing', 'expression', 'expression of', 'expressions', 'expressive', 'exquisite', 'exquisitely', 'extend', 'extended', 'extends', 'extensive', 'extent', 'external', 'extolled', 'extra', 'extraordinaire', 'extraordinary', 'extreme', 'extremely', 'eye', 'eye to', 'eyes', 'eyes and', 'eyes of', 'fabric', 'fabric of', 'face', 'face of', 'face the', 'facebook', 'faced', 'faces', 'facets', 'facets of', 'facing', 'fact', 'fact it', 'fact of', 'fact that', 'fact the', 'factor', 'factors', 'factory', 'facts', 'faculties', 'faculty', 'fail', 'fail to', 'failed', 'failed to', 'failing', 'fails', 'failure', 'failure of', 'failures', 'fair', 'fairly', 'fairy', 'fairy tale', 'fairy tales', 'faith', 'faith in', 'faithful', 'fall', 'fall in', 'fall into', 'fall of', 'fallen', 'falling', 'falling in', 'falls', 'false', 'fame', 'famed', 'familiar', 'families', 'family', 'family and', 'famous', 'famous writers', 'famously', 'fan', 'fancy', 'fans', 'fantastic', 'fantasy', 'far', 'far as', 'far away', 'far beyond', 'far from', 'far more', 'far reaching', 'far too', 'farewell', 'farm', 'fascinated', 'fascinated by', 'fascinating', 'fascinating and', 'fascination', 'fascination with', 'fashion', 'fast', 'faster', 'fat', 'fatal', 'fate', 'fate of', 'father', 'father and', 'father of', 'faulkner', 'fault', 'favor', 'favorite', 'favorite books', 'favorites', 'fear', 'fear and', 'fear of', 'fears', 'feat', 'feats', 'feature', 'feature of', 'featured', 'features', 'featuring', 'february', 'fed', 'feed', 'feel', 'feel and', 'feel like', 'feel that', 'feel the', 'feeling', 'feeling of', 'feeling that', 'feelings', 'feels', 'feels like', 'feet', 'fell', 'fell in', 'fellow', 'felt', 'felt that', 'female', 'feminist', 'fertile', 'few', 'few months', 'few of', 'few years', 'fewer', 'feynman', 'fiction', 'fictional', 'field', 'field of', 'fields', 'fierce', 'fifteen', 'fifteen years', 'fifth', 'fifty', 'fight', 'fighting', 'figure', 'figure out', 'figures', 'figuring', 'fill', 'filled', 'filled with', 'filling', 'film', 'filmmaker', 'films', 'final', 'finally', 'financial', 'find', 'find it', 'find ourselves', 'find out', 'find that', 'find the', 'find your', 'find yourself', 'finding', 'findings', 'finds', 'fine', 'fine addition', 'finest', 'finger', 'fingers', 'finish', 'finished', 'finite', 'fire', 'firm', 'firmly', 'first', 'first and', 'first of', 'first person', 'first place', 'first time', 'first to', 'first woman', 'fish', 'fit', 'fitzgerald', 'five', 'five years', 'fix', 'fixed', 'flash', 'flat', 'fleeting', 'flesh', 'flickr', 'flies', 'flight', 'floating', 'floor', 'flow', 'flow of', 'flower', 'flowers', 'flowing', 'flows', 'fluid', 'fly', 'flying', 'focus', 'focus on', 'focused', 'focusing', 'fold', 'folk', 'folks', 'follow', 'follow the', 'followed', 'followed by', 'following', 'following year', 'follows', 'food', 'food and', 'fool', 'foolish', 'foot', 'footage', 'for all', 'for an', 'for and', 'for another', 'for any', 'for anyone', 'for art', 'for as', 'for being', 'for both', 'for centuries', 'for children', 'for creative', 'for creativity', 'for decades', 'for details', 'for each', 'for every', 'for example', 'for free', 'for good', 'for granted', 'for her', 'for him', 'for himself', 'for his', 'for how', 'for human', 'for in', 'for instance', 'for it', 'for its', 'for life', 'for living', 'for long', 'for love', 'for many', 'for me', 'for meaning', 'for moment', 'for more', 'for most', 'for my', 'for new', 'for one', 'for other', 'for others', 'for our', 'for people', 'for rare', 'for self', 'for some', 'for something', 'for special', 'for such', 'for that', 'for the', 'for their', 'for them', 'for these', 'for they', 'for this', 'for those', 'for truth', 'for two', 'for us', 'for what', 'for which', 'for while', 'for whom', 'for women', 'for writing', 'for years', 'for you', 'for young', 'for your', 'for yourself', 'force', 'force of', 'forced', 'forced to', 'forces', 'forces of', 'forces that', 'foreign', 'forest', 'forests', 'forever', 'foreword', 'forget', 'forget that', 'forget the', 'forgetting', 'forgive', 'forgiveness', 'forgotten', 'form', 'form and', 'form of', 'form the', 'formal', 'format', 'formation', 'formative', 'formed', 'former', 'formidable', 'forming', 'forms', 'forms of', 'formula', 'forth', 'fortunate', 'fortune', 'forty', 'forward', 'foster', 'foster wallace', 'found', 'found himself', 'found in', 'found that', 'found the', 'foundation', 'foundation of', 'foundational', 'foundations', 'founded', 'founder', 'founder of', 'founding', 'four', 'four decades', 'four years', 'fourteen', 'fourth', 'fragile', 'fragment', 'fragment of', 'fragments', 'fragments of', 'frame', 'frames', 'framework', 'france', 'francis', 'francisco', 'frank', 'franklin', 'free', 'free and', 'free ebook', 'free of', 'free to', 'free will', 'freedom', 'freedom and', 'freedom of', 'freely', 'french', 'frequent', 'frequently', 'fresh', 'freud', 'frida', 'frida kahlo', 'friend', 'friend and', 'friend of', 'friendly', 'friends', 'friends and', 'friendship', 'friendship and', 'friendships', 'from all', 'from an', 'from and', 'from being', 'from cover', 'from her', 'from his', 'from how', 'from it', 'from its', 'from my', 'from one', 'from other', 'from our', 'from rare', 'from some', 'from such', 'from that', 'from the', 'from their', 'from them', 'from these', 'from this', 'from those', 'from us', 'from what', 'from which', 'from you', 'from your', 'fromm', 'front', 'front of', 'frontier', 'frontiers', 'frozen', 'fruit', 'fruitful', 'frustration', 'fuel', 'fulfilling', 'fulfillment', 'full', 'full of', 'fuller', 'fully', 'fun', 'function', 'function of', 'functions', 'fundamental', 'fundamentally', 'funny', 'furniture', 'further', 'fusion', 'future', 'future and', 'future of', 'gaiman', 'gain', 'gained', 'galaxy', 'galileo', 'gallery', 'game', 'game of', 'games', 'gap', 'garden', 'gateway', 'gather', 'gathered', 'gathering', 'gave', 'gave us', 'gay', 'gaze', 'gem', 'gems', 'gender', 'general', 'generally', 'generation', 'generation of', 'generations', 'generations of', 'generosity', 'generosity of', 'generous', 'genius', 'genius and', 'genius is', 'genius of', 'geniuses', 'genre', 'gentle', 'gently', 'genuine', 'geography', 'george', 'george orwell', 'georgia', 'georgia keeffe', 'german', 'germany', 'gertrude', 'gertrude stein', 'gesture', 'get', 'get it', 'get out', 'get the', 'get to', 'get up', 'gets', 'getting', 'ghost', 'giant', 'gift', 'gift for', 'gift of', 'gifted', 'gifts', 'gilbert', 'girl', 'girl who', 'girls', 'give', 'give it', 'give me', 'give the', 'give them', 'give up', 'give us', 'give you', 'given', 'given the', 'given to', 'given us', 'gives', 'gives us', 'giving', 'glad', 'glance', 'glass', 'gleam', 'glimpse', 'glimpse of', 'global', 'globe', 'glorious', 'glory', 'glory of', 'glow', 'go', 'go and', 'go back', 'go on', 'go out', 'go through', 'go to', 'goal', 'goals', 'god', 'gods', 'goes', 'goes on', 'goes to', 'goethe', 'gogh', 'going', 'going on', 'going to', 'gold', 'golden', 'golden age', 'gone', 'good', 'good and', 'good at', 'good for', 'good life', 'good or', 'good to', 'goodall', 'goodness', 'google', 'gorey', 'gorgeous', 'got', 'got to', 'gotten', 'governed', 'governed by', 'government', 'grab', 'grace', 'grade', 'gradually', 'graham', 'grand', 'grandmother', 'grant', 'granted', 'graphic', 'graphic design', 'graphic designer', 'grasp', 'grass', 'grateful', 'gratitude', 'grave', 'gravity', 'gray', 'great', 'great and', 'great art', 'great deal', 'great many', 'great writers', 'greater', 'greater than', 'greatest', 'greatly', 'greatness', 'greek', 'green', 'grew', 'grew up', 'grey', 'grief', 'grim', 'grimm', 'grimm fairy', 'grip', 'ground', 'groundbreaking', 'grounded', 'grounds', 'group', 'group of', 'groups', 'grow', 'grow up', 'growing', 'growing up', 'grown', 'grown up', 'grown ups', 'grows', 'growth', 'guarantee', 'guard', 'guess', 'guide', 'guide to', 'guided', 'guilt', 'guin', 'guy', 'habit', 'habit of', 'habits', 'habits of', 'had', 'had an', 'had become', 'had been', 'had come', 'had just', 'had made', 'had never', 'had no', 'had not', 'had the', 'had to', 'had written', 'hadn', 'hair', 'half', 'half century', 'half of', 'hall', 'hallmark', 'hand', 'hand and', 'hand in', 'handed', 'handful', 'handful of', 'handle', 'hands', 'hands and', 'hands of', 'hands on', 'hang', 'hanging', 'hannah', 'hannah arendt', 'hans', 'happen', 'happen to', 'happened', 'happened to', 'happening', 'happens', 'happens to', 'happens when', 'happily', 'happiness', 'happiness and', 'happy', 'hard', 'hard to', 'hard work', 'harder', 'hardest', 'hardly', 'harm', 'harmony', 'harris', 'harrowing', 'harry', 'harsh', 'harvard', 'has always', 'has an', 'has become', 'has been', 'has come', 'has done', 'has ever', 'has had', 'has its', 'has made', 'has never', 'has no', 'has not', 'has previously', 'has taken', 'has the', 'has to', 'has written', 'hasn', 'hat', 'hate', 'haunted', 'haunting', 'have all', 'have always', 'have an', 'have any', 'have become', 'have been', 'have come', 'have done', 'have ever', 'have found', 'have had', 'have in', 'have it', 'have learned', 'have long', 'have lost', 'have made', 'have more', 'have never', 'have no', 'have not', 'have seen', 'have some', 'have taken', 'have the', 'have their', 'have to', 'have written', 'have you', 'haven', 'having', 'hawking', 'he', 'he adds', 'he also', 'he argues', 'he became', 'he began', 'he called', 'he can', 'he considers', 'he contemplated', 'he could', 'he did', 'he didn', 'he does', 'he found', 'he goes', 'he had', 'he has', 'he is', 'he knew', 'he knows', 'he made', 'he may', 'he must', 'he never', 'he offers', 'he or', 'he said', 'he saw', 'he sees', 'he then', 'he took', 'he was', 'he who', 'he will', 'he would', 'he writes', 'he wrote', 'head', 'head and', 'headed', 'heading', 'heads', 'healing', 'health', 'healthy', 'hear', 'hear the', 'heard', 'hearing', 'heart', 'heart and', 'heart is', 'heart of', 'heart that', 'heart the', 'heartbreak', 'heartbreaking', 'heartening', 'hearts', 'heat', 'heaven', 'heavens', 'heavily', 'heavy', 'heels', 'height', 'height of', 'heights', 'held', 'helen', 'hell', 'help', 'help but', 'help of', 'help us', 'help you', 'helped', 'helpful', 'helping', 'helps', 'helps us', 'hemingway', 'hence', 'henri', 'henry', 'henry miller', 'her', 'her and', 'her as', 'her beautiful', 'her death', 'her diary', 'her father', 'her first', 'her husband', 'her in', 'her life', 'her magnificent', 'her most', 'her mother', 'her on', 'her own', 'her the', 'her to', 'her work', 'here', 'here and', 'here are', 'here in', 'here is', 'here the', 'here to', 'heritage', 'hermann', 'hermann hesse', 'hero', 'heroes', 'heroic', 'hers', 'herself', 'hesse', 'hey', 'hidden', 'hide', 'high', 'high school', 'higher', 'highest', 'highlights', 'highly', 'hill', 'hills', 'him', 'him about', 'him and', 'him as', 'him for', 'him he', 'him in', 'him on', 'him that', 'him the', 'him to', 'him with', 'himself', 'himself and', 'himself as', 'himself in', 'himself the', 'himself to', 'hired', 'his art', 'his beautiful', 'his beloved', 'his brother', 'his childhood', 'his creative', 'his daughter', 'his death', 'his eyes', 'his family', 'his famous', 'his father', 'his final', 'his first', 'his friend', 'his head', 'his heart', 'his life', 'his little', 'his magnificent', 'his mind', 'his most', 'his mother', 'his or', 'his own', 'his soul', 'his time', 'his timeless', 'his way', 'his wife', 'his work', 'historian', 'historic', 'historical', 'histories', 'history', 'history and', 'history greatest', 'history is', 'history most', 'history of', 'history the', 'hit', 'hold', 'holding', 'holds', 'hole', 'holes', 'holiday', 'holocaust', 'holy', 'homage', 'homage to', 'home', 'home and', 'home in', 'home to', 'homes', 'honest', 'honesty', 'honor', 'hope', 'hope and', 'hope for', 'hope that', 'hope to', 'hopeful', 'hopeless', 'hopes', 'hoping', 'horizon', 'horror', 'horse', 'hospital', 'host', 'hot', 'hotel', 'hour', 'hours', 'hours of', 'house', 'house and', 'house for', 'household', 'houses', 'how and', 'how art', 'how can', 'how did', 'how do', 'how does', 'how far', 'how he', 'how it', 'how long', 'how many', 'how much', 'how one', 'how our', 'how the', 'how they', 'how this', 'how to', 'how we', 'how you', 'however', 'however is', 'however the', 'huge', 'hughes', 'human', 'human and', 'human being', 'human beings', 'human condition', 'human existence', 'human experience', 'human heart', 'human history', 'human life', 'human mind', 'human nature', 'human rights', 'human spirit', 'humane', 'humanistic', 'humanities', 'humanity', 'humanity and', 'humanity greatest', 'humanity most', 'humans', 'humans are', 'humble', 'humbling', 'humility', 'humor', 'humor and', 'humorous', 'hundred', 'hundred years', 'hundreds', 'hundreds of', 'hunger', 'hunger for', 'hungry', 'hunt', 'hunter', 'hunting', 'hurt', 'husband', 'huxley', 'hypothesis', 'ice', 'icon', 'iconic', 'icons', 'idea', 'idea is', 'idea of', 'idea that', 'ideal', 'ideal of', 'idealism', 'ideals', 'ideas', 'ideas about', 'ideas and', 'ideas are', 'ideas in', 'ideas of', 'ideas that', 'identified', 'identify', 'identity', 'identity and', 'ideology', 'if', 'if had', 'if he', 'if it', 'if not', 'if one', 'if only', 'if she', 'if that', 'if the', 'if there', 'if they', 'if this', 'if we', 'if you', 'if your', 'ignorance', 'ignore', 'ii', 'ill', 'illness', 'illuminate', 'illuminate the', 'illuminated', 'illuminates', 'illuminates the', 'illuminating', 'illumination', 'illusion', 'illusion of', 'illusions', 'illustrate', 'illustrated', 'illustrated by', 'illustrates', 'illustrating', 'illustration', 'illustration by', 'illustration from', 'illustrations', 'illustrations and', 'illustrations by', 'illustrations courtesy', 'illustrations for', 'illustrations of', 'illustrator', 'illustrators', 'image', 'image for', 'image of', 'images', 'images and', 'images courtesy', 'images of', 'imaginary', 'imagination', 'imagination and', 'imaginative', 'imagine', 'imagine the', 'imagined', 'imagining', 'immeasurably', 'immediate', 'immediately', 'immense', 'immensely', 'immersed', 'immortal', 'immortality', 'immutable', 'impact', 'impact of', 'imperfect', 'impermanence', 'implications', 'implicit', 'implies', 'importance', 'importance of', 'important', 'important and', 'important thing', 'important to', 'importantly', 'imposed', 'impossible', 'impossible to', 'impression', 'impressions', 'impressive', 'improbable', 'improve', 'improvement', 'impulse', 'impulse to', 'impulses', 'in addition', 'in all', 'in america', 'in an', 'in and', 'in another', 'in any', 'in art', 'in beautiful', 'in between', 'in both', 'in certain', 'in common', 'in consonance', 'in contemplating', 'in creative', 'in culture', 'in different', 'in doing', 'in each', 'in english', 'in europe', 'in every', 'in fact', 'in front', 'in full', 'in general', 'in hand', 'in her', 'in his', 'in history', 'in how', 'in human', 'in it', 'in its', 'in itself', 'in large', 'in letter', 'in life', 'in literature', 'in london', 'in love', 'in making', 'in many', 'in may', 'in me', 'in mind', 'in modern', 'in more', 'in most', 'in my', 'in nature', 'in new', 'in no', 'in on', 'in one', 'in order', 'in other', 'in our', 'in paris', 'in part', 'in particular', 'in passage', 'in public', 'in reality', 'in recent', 'in relation', 'in response', 'in science', 'in search', 'in sense', 'in sentiment', 'in series', 'in short', 'in single', 'in small', 'in so', 'in society', 'in some', 'in space', 'in spite', 'in such', 'in terms', 'in that', 'in their', 'in them', 'in these', 'in this', 'in those', 'in time', 'in to', 'in today', 'in turn', 'in two', 'in us', 'in verse', 'in very', 'in way', 'in ways', 'in what', 'in which', 'in wonderland', 'in words', 'in world', 'in writing', 'in you', 'in your', 'inability', 'inability to', 'incapable', 'inch', 'incident', 'inclined', 'include', 'included', 'included in', 'includes', 'including', 'including the', 'income', 'incomplete', 'increase', 'increased', 'increasing', 'increasingly', 'incredible', 'incredibly', 'indeed', 'indeed the', 'independence', 'independent', 'india', 'indian', 'indie', 'indiebound', 'indifference', 'indifferent', 'indispensable', 'individual', 'individual and', 'individuality', 'individuals', 'industrial', 'industry', 'inescapable', 'inevitable', 'inevitably', 'infinite', 'infinitely', 'infinity', 'influence', 'influence of', 'influenced', 'influenced by', 'influences', 'influential', 'information', 'information and', 'informed', 'ingenious', 'ingenuity', 'inhabit', 'inhabiting', 'inherent', 'inherently', 'inimitable', 'initial', 'injustice', 'ink', 'inner', 'inner life', 'innocence', 'innocent', 'innovation', 'innovative', 'innumerable', 'inquiry', 'inquiry into', 'inseparable', 'inside', 'inside the', 'insight', 'insight and', 'insight into', 'insight on', 'insightful', 'insights', 'insights on', 'insisted', 'insisted that', 'insistence', 'insistence on', 'insistence that', 'insists', 'inspiration', 'inspire', 'inspired', 'inspired by', 'inspiring', 'installment', 'instance', 'instant', 'instantly', 'instead', 'instead of', 'instinct', 'institute', 'institution', 'institutions', 'instructions', 'instrument', 'instrument of', 'instruments', 'integral', 'integration', 'integrity', 'integrity and', 'intellect', 'intellectual', 'intellectual and', 'intellectually', 'intellectuals', 'intelligence', 'intelligence and', 'intelligent', 'intelligent and', 'intended', 'intended to', 'intense', 'intensely', 'intensity', 'intent', 'intention', 'intentions', 'interaction', 'interactive', 'interconnectedness', 'interconnectedness of', 'interest', 'interest in', 'interested', 'interested in', 'interesting', 'interests', 'interior', 'internal', 'international', 'internet', 'interplay', 'interplay of', 'interpret', 'interpretation', 'interpretation of', 'interpretations', 'intersection', 'intersection of', 'interview', 'interview with', 'interviews', 'interviews with', 'intimacy', 'intimate', 'intimately', 'into an', 'into being', 'into her', 'into his', 'into it', 'into its', 'into my', 'into new', 'into one', 'into our', 'into something', 'into the', 'into their', 'into this', 'into what', 'into which', 'into your', 'intricate', 'intriguing', 'intrinsic', 'introduced', 'introduction', 'introduction to', 'intuition', 'intuitive', 'invaluable', 'invariably', 'invent', 'invented', 'invention', 'invention of', 'inventor', 'investigation', 'invisible', 'invitation', 'invitation to', 'invite', 'invited', 'invites', 'inviting', 'involve', 'involved', 'involved in', 'involves', 'inward', 'iron', 'irony', 'irrational', 'irrelevant', 'irreverent', 'is about', 'is absolutely', 'is actually', 'is all', 'is almost', 'is already', 'is also', 'is always', 'is among', 'is an', 'is and', 'is another', 'is as', 'is at', 'is available', 'is based', 'is beautiful', 'is because', 'is being', 'is best', 'is better', 'is both', 'is but', 'is by', 'is called', 'is different', 'is difficult', 'is doing', 'is done', 'is essential', 'is even', 'is far', 'is for', 'is full', 'is going', 'is good', 'is great', 'is happening', 'is hard', 'is hardly', 'is his', 'is how', 'is important', 'is impossible', 'is in', 'is indeed', 'is it', 'is its', 'is itself', 'is just', 'is kind', 'is known', 'is life', 'is like', 'is love', 'is made', 'is merely', 'is more', 'is most', 'is much', 'is my', 'is necessary', 'is never', 'is new', 'is no', 'is not', 'is nothing', 'is now', 'is of', 'is often', 'is on', 'is one', 'is only', 'is our', 'is out', 'is part', 'is perhaps', 'is possible', 'is precisely', 'is quite', 'is rather', 'is really', 'is right', 'is simply', 'is so', 'is something', 'is still', 'is such', 'is that', 'is the', 'is there', 'is this', 'is to', 'is too', 'is true', 'is very', 'is we', 'is well', 'is what', 'is when', 'is where', 'is why', 'is with', 'is worth', 'is writing', 'is you', 'is your', 'isaac', 'isaac asimov', 'island', 'isn', 'isolated', 'isolation', 'issue', 'issue of', 'issues', 'it about', 'it all', 'it also', 'it always', 'it an', 'it and', 'it appears', 'it as', 'it at', 'it be', 'it became', 'it because', 'it becomes', 'it but', 'it by', 'it came', 'it can', 'it cannot', 'it comes', 'it could', 'it did', 'it does', 'it doesn', 'it down', 'it even', 'it for', 'it from', 'it gives', 'it goes', 'it had', 'it happens', 'it hard', 'it has', 'it he', 'it if', 'it in', 'it into', 'it is', 'it isn', 'it it', 'it just', 'it like', 'it makes', 'it may', 'it means', 'it might', 'it more', 'it must', 'it never', 'it no', 'it not', 'it of', 'it on', 'it one', 'it only', 'it or', 'it out', 'it possible', 'it really', 'it seemed', 'it seems', 'it should', 'it so', 'it still', 'it takes', 'it that', 'it the', 'it then', 'it there', 'it they', 'it this', 'it through', 'it to', 'it too', 'it took', 'it turns', 'it up', 'it very', 'it was', 'it wasn', 'it we', 'it were', 'it what', 'it when', 'it will', 'it with', 'it works', 'it worth', 'it would', 'it you', 'italian', 'italo', 'italo calvino', 'italy', 'its entirety', 'its heart', 'its most', 'its own', 'its totality', 'its way', 'itself', 'itself and', 'itself as', 'itself in', 'itself is', 'itself the', 'itself to', 'jack', 'jack kerouac', 'james', 'james baldwin', 'james joyce', 'jane', 'jane goodall', 'janna', 'janna levin', 'january', 'japan', 'japanese', 'jazz', 'jean', 'jennifer', 'jewish', 'joan', 'joan didion', 'job', 'jobs', 'john', 'john cage', 'john steinbeck', 'john updike', 'johnson', 'join', 'joined', 'jonathan', 'joseph', 'journal', 'journalism', 'journalist', 'journals', 'journey', 'journey into', 'journey of', 'joy', 'joy and', 'joy of', 'joyce', 'joys', 'jr', 'judge', 'judgment', 'julia', 'july', 'jump', 'june', 'just', 'just about', 'just as', 'just before', 'just few', 'just for', 'just how', 'just like', 'just one', 'just that', 'just the', 'just to', 'justice', 'justice and', 'kafka', 'kahlo', 'kalman', 'keats', 'keeffe', 'keen', 'keep', 'keep the', 'keeping', 'keeping diary', 'keeps', 'kept', 'kerouac', 'key', 'key to', 'keys', 'kid', 'kids', 'kierkegaard', 'kill', 'killed', 'kind', 'kind of', 'kindly', 'kindness', 'kindred', 'kinds', 'kinds of', 'king', 'kingdom', 'kinship', 'kiss', 'kitchen', 'knew', 'knew that', 'know', 'know about', 'know and', 'know how', 'know it', 'know that', 'know the', 'know we', 'know what', 'know where', 'know you', 'knowing', 'knowledge', 'knowledge and', 'knowledge is', 'knowledge of', 'knowledge that', 'known', 'known and', 'known as', 'known for', 'known to', 'knows', 'knows that', 'krauss', 'kurt', 'kurt vonnegut', 'la', 'lab', 'label', 'labels', 'labor', 'labor of', 'laboratory', 'lack', 'lack of', 'ladies', 'lady', 'laid', 'lake', 'lament', 'lamented', 'laments', 'lamott', 'land', 'landmark', 'lands', 'landscape', 'landscape of', 'landscapes', 'language', 'language and', 'language is', 'language of', 'language that', 'language to', 'languages', 'large', 'large part', 'largehearted', 'largely', 'larger', 'larger than', 'largest', 'last', 'last week', 'last year', 'lasting', 'late', 'later', 'later he', 'later in', 'later included', 'later on', 'later the', 'latest', 'latin', 'latter', 'laugh', 'launched', 'laureate', 'lavish', 'law', 'law of', 'lawrence', 'laws', 'laws of', 'lay', 'layer', 'layer of', 'layered', 'layers', 'layers of', 'lays', 'lazy', 'le', 'le guin', 'lead', 'lead to', 'leader', 'leaders', 'leading', 'leads', 'leads to', 'leaf', 'leap', 'leaps', 'learn', 'learn from', 'learn to', 'learned', 'learned to', 'learning', 'learning to', 'learnings', 'least', 'leave', 'leave the', 'leaves', 'leaves of', 'leaving', 'lecture', 'lectures', 'led', 'led to', 'lee', 'left', 'left to', 'legacy', 'legacy of', 'legal', 'legend', 'legendary', 'legs', 'leisure', 'lends', 'length', 'lens', 'lens of', 'lens on', 'leo', 'leo tolstoy', 'leonard', 'less', 'less than', 'lesser', 'lesson', 'lessons', 'lest', 'lest we', 'let', 'let it', 'let me', 'let the', 'let us', 'lets', 'letter', 'letter from', 'letter of', 'letter to', 'letters', 'letters and', 'letters from', 'letters of', 'letters to', 'letting', 'level', 'level of', 'levels', 'levin', 'lewis', 'lewis carroll', 'liberal', 'liberation', 'liberty', 'libraries', 'library an', 'library and', 'library by', 'library free', 'library in', 'library indiebound', 'library is', 'library of', 'library public', 'library the', 'library which', 'lie', 'lies', 'lies in', 'lies the', 'life and', 'life are', 'life as', 'life at', 'life but', 'life by', 'life for', 'life from', 'life has', 'life he', 'life in', 'life is', 'life it', 'life itself', 'life of', 'life on', 'life public', 'life she', 'life so', 'life that', 'life the', 'life to', 'life was', 'life we', 'life which', 'life with', 'life worth', 'life you', 'lifelong', 'lifetime', 'lifetime of', 'lift', 'lifted', 'light', 'light and', 'light in', 'light of', 'light on', 'lightman', 'lights', 'like', 'like all', 'like an', 'like any', 'like it', 'like that', 'like the', 'like this', 'like to', 'like you', 'liked', 'likely', 'likely to', 'likes', 'limit', 'limitations', 'limited', 'limited edition', 'limiting', 'limits', 'limits of', 'lincoln', 'line', 'line between', 'line of', 'linear', 'lines', 'lines of', 'linguistic', 'link', 'linked', 'lion', 'lips', 'lisa', 'lisbeth', 'lisbeth zwerger', 'list', 'list of', 'listen', 'listen to', 'listened', 'listening', 'listening to', 'lists', 'literal', 'literally', 'literary', 'literary history', 'literature', 'literature and', 'little', 'little bit', 'little boy', 'little girl', 'little known', 'little more', 'live', 'live and', 'live in', 'live the', 'live with', 'lived', 'lived in', 'lively', 'lives', 'lives and', 'lives in', 'lives of', 'lives the', 'living', 'living and', 'living in', 'living with', 'll', 'll be', 'local', 'logic', 'logical', 'london', 'loneliness', 'loneliness and', 'lonely', 'long', 'long ago', 'long and', 'long as', 'long before', 'long for', 'long term', 'long time', 'longer', 'longing', 'longing for', 'longtime', 'look', 'look at', 'look for', 'look like', 'looked', 'looked at', 'looking', 'looking at', 'looking back', 'looking for', 'looks', 'looks like', 'loose', 'lord', 'lose', 'losing', 'loss', 'loss and', 'loss of', 'lost', 'lost in', 'lot', 'lot of', 'lots', 'lots of', 'loud', 'louis', 'louise', 'love', 'love and', 'love as', 'love for', 'love in', 'love is', 'love it', 'love letter', 'love letters', 'love of', 'love that', 'love the', 'love to', 'love we', 'love with', 'love you', 'loved', 'loveliest', 'lovely', 'lover', 'lover of', 'lovers', 'loves', 'loving', 'lovingly', 'low', 'lower', 'lucid', 'lucidity', 'luck', 'lucky', 'luminaries', 'luminous', 'lunch', 'luxury', 'lying', 'lyrical', 'machine', 'machinery', 'machinery of', 'machines', 'macnaughton', 'mad', 'made', 'made by', 'made for', 'made her', 'made him', 'made his', 'made in', 'made it', 'made me', 'made of', 'made the', 'made to', 'made up', 'madness', 'magazine', 'magazines', 'magic', 'magic of', 'magical', 'magnificent', 'magnitude', 'mail', 'main', 'mainstream', 'maintain', 'maira', 'maira kalman', 'major', 'majority', 'majority of', 'make', 'make it', 'make sense', 'make the', 'make them', 'make up', 'make us', 'make you', 'make your', 'maker', 'makers', 'makes', 'makes great', 'makes it', 'makes life', 'makes me', 'makes the', 'makes us', 'makes you', 'making', 'making it', 'making of', 'making sense', 'making the', 'male', 'man', 'man and', 'man has', 'man in', 'man is', 'man of', 'man the', 'man to', 'man who', 'manage', 'managed', 'managed to', 'manhattan', 'manifestation', 'manifestation of', 'manifestations', 'manifesto', 'manifesto for', 'mankind', 'manner', 'manual', 'manuscript', 'many', 'many more', 'many of', 'many other', 'many people', 'many things', 'many times', 'many ways', 'many years', 'map', 'map of', 'mapping', 'maps', 'march', 'margaret', 'margaret mead', 'maria', 'maria mitchell', 'maria popova', 'marie', 'marie curie', 'marine', 'mark', 'mark twain', 'marked', 'market', 'marketing', 'marks', 'marriage', 'married', 'marry', 'martha', 'martha nussbaum', 'martin', 'marvel', 'marvelous', 'marvels', 'mary', 'mary oliver', 'mask', 'mass', 'masses', 'massive', 'master', 'master of', 'masterful', 'mastering', 'mastering the', 'masterpiece', 'masterpieces', 'masters', 'masterwork', 'masterwork of', 'mastery', 'match', 'mate', 'material', 'materials', 'math', 'mathematical', 'mathematician', 'mathematics', 'matter', 'matter and', 'matter how', 'matter of', 'matter what', 'matters', 'maurice', 'maurice sendak', 'maximum', 'may', 'may be', 'may have', 'may not', 'may seem', 'maya', 'maya angelou', 'maybe', 'me', 'me and', 'me as', 'me but', 'me for', 'me from', 'me in', 'me is', 'me it', 'me of', 'me that', 'me the', 'me to', 'me with', 'mead', 'meal', 'mean', 'mean that', 'mean to', 'meaning', 'meaning and', 'meaning in', 'meaning of', 'meaning to', 'meaningful', 'meaningless', 'meanings', 'means', 'means and', 'means of', 'means that', 'means to', 'meant', 'meant to', 'meanwhile', 'measure', 'measure of', 'measured', 'measures', 'mechanical', 'mechanics', 'mechanism', 'mechanism for', 'mechanisms', 'medal', 'media', 'medical', 'medicine', 'medieval', 'meditation', 'meditation on', 'meditations', 'meditations on', 'medium', 'meet', 'meeting', 'meets', 'melancholy', 'member', 'member of', 'members', 'members of', 'memoir', 'memoir of', 'memorable', 'memorably', 'memories', 'memory', 'memory and', 'memory of', 'men', 'men and', 'men in', 'men of', 'men who', 'mental', 'mental health', 'mention', 'mentioned', 'mere', 'merely', 'merit', 'mesmerism', 'message', 'messages', 'messy', 'met', 'met with', 'meta', 'metal', 'metaphor', 'metaphor for', 'metaphorical', 'metaphors', 'metaphysical', 'method', 'methods', 'meticulously', 'michael', 'micro', 'mid', 'mid century', 'middle', 'middle of', 'midst', 'midst of', 'might', 'might be', 'might have', 'might not', 'mighty', 'miles', 'military', 'milk', 'millennia', 'millennium', 'miller', 'million', 'millions', 'millions of', 'millman', 'milton', 'mind', 'mind and', 'mind as', 'mind in', 'mind is', 'mind of', 'mind that', 'mind the', 'mind to', 'minded', 'minds', 'minds and', 'minds of', 'mine', 'miniature', 'minimalist', 'minute', 'minutes', 'miracle', 'miracle of', 'miraculous', 'mirror', 'miserable', 'misery', 'miss', 'missed', 'missing', 'mission', 'mistake', 'mistaken', 'mistakes', 'misunderstood', 'mitchell', 'mix', 'mixed', 'mode', 'mode of', 'model', 'model of', 'models', 'modern', 'modern art', 'modern day', 'modern history', 'modern life', 'modern science', 'modes', 'modest', 'moment', 'moment and', 'moment in', 'moment of', 'moment the', 'moment when', 'moments', 'moments of', 'money', 'money and', 'montaigne', 'month', 'months', 'months after', 'months before', 'months later', 'monumental', 'mood', 'moon', 'moral', 'morality', 'more about', 'more and', 'more but', 'more difficult', 'more important', 'more in', 'more interesting', 'more likely', 'more of', 'more often', 'more on', 'more or', 'more so', 'more than', 'more the', 'more to', 'more we', 'morning', 'morrison', 'mortal', 'mortality', 'most beautiful', 'most beloved', 'most celebrated', 'most compelling', 'most difficult', 'most elemental', 'most famous', 'most fascinating', 'most fundamental', 'most important', 'most influential', 'most interesting', 'most intimate', 'most of', 'most people', 'most poignant', 'most powerful', 'most significant', 'most unusual', 'mostly', 'mother', 'mother and', 'motion', 'motivation', 'motive', 'motives', 'mountain', 'mountains', 'mouth', 'move', 'moved', 'moved to', 'movement', 'movements', 'moves', 'movie', 'movies', 'moving', 'mr', 'mrs', 'much', 'much as', 'much in', 'much less', 'much like', 'much more', 'much of', 'much the', 'much time', 'much to', 'multiple', 'multitude', 'multitude of', 'mundane', 'muscles', 'muse', 'museum', 'museum of', 'music', 'music and', 'music is', 'musical', 'musician', 'musicians', 'must', 'must be', 'must have', 'must not', 'must read', 'mutual', 'my', 'my body', 'my dear', 'my eyes', 'my father', 'my favorite', 'my first', 'my head', 'my heart', 'my life', 'my love', 'my mind', 'my mother', 'my own', 'my work', 'myriad', 'myself', 'myself and', 'myself in', 'myself to', 'mysteries', 'mysteries of', 'mysterious', 'mystery', 'mystery and', 'mystery of', 'mystical', 'myth', 'myth of', 'mythology', 'myths', 'nabokov', 'naked', 'name', 'name of', 'named', 'names', 'narrative', 'narratives', 'narrow', 'nasa', 'nation', 'national', 'nations', 'native', 'natural', 'natural history', 'natural world', 'naturalist', 'naturally', 'nature', 'nature and', 'nature as', 'nature in', 'nature is', 'nature of', 'nature the', 'navigate', 'near', 'near the', 'nearby', 'nearly', 'nearly century', 'nearly every', 'nearly half', 'nearly two', 'necessarily', 'necessary', 'necessary for', 'necessary to', 'necessity', 'necessity of', 'neck', 'need', 'need for', 'need not', 'need of', 'need to', 'needed', 'needed to', 'needs', 'needs to', 'negative', 'neighbor', 'neighborhood', 'neighbors', 'neil', 'neil gaiman', 'neither', 'neruda', 'nervous', 'network', 'neuroscience', 'neuroscientist', 'never', 'never be', 'never been', 'never before', 'never have', 'never know', 'never to', 'nevertheless', 'new', 'new and', 'new book', 'new life', 'new way', 'new world', 'new york', 'new yorker', 'newly', 'news', 'newspaper', 'newspapers', 'newton', 'next', 'next to', 'nice', 'nietzsche', 'night', 'night and', 'nights', 'nin', 'nine', 'nineteenth', 'nineteenth century', 'ninety', 'no', 'no doubt', 'no less', 'no longer', 'no matter', 'no more', 'no one', 'no other', 'no such', 'no way', 'nobel', 'nobel laureate', 'nobel prize', 'nobel winning', 'noble', 'nobody', 'noise', 'non', 'none', 'none of', 'none other', 'nonetheless', 'nonfiction', 'nonsense', 'nor', 'normal', 'norms', 'north', 'northern', 'nose', 'not all', 'not always', 'not an', 'not as', 'not at', 'not be', 'not because', 'not being', 'not by', 'not enough', 'not even', 'not for', 'not have', 'not in', 'not just', 'not know', 'not knowing', 'not like', 'not mean', 'not merely', 'not necessarily', 'not of', 'not one', 'not only', 'not quite', 'not so', 'not that', 'not the', 'not to', 'not what', 'not with', 'not yet', 'notable', 'note', 'notebook', 'notebooks', 'noted', 'notes', 'notes that', 'nothing', 'nothing but', 'nothing else', 'nothing in', 'nothing is', 'nothing more', 'nothing of', 'nothing short', 'nothing to', 'notice', 'noticed', 'noting', 'noting that', 'notion', 'notion of', 'notion that', 'notions', 'notions of', 'novel', 'novelist', 'novels', 'november', 'now', 'now and', 'now in', 'now it', 'now know', 'now that', 'now the', 'nowhere', 'nowhere more', 'nuance', 'nuanced', 'nuclear', 'number', 'number of', 'numbers', 'numerous', 'nurture', 'nussbaum', 'obama', 'object', 'object of', 'objective', 'objects', 'objects and', 'obligation', 'obscure', 'observation', 'observation that', 'observations', 'observe', 'observed', 'observed in', 'observed that', 'observer', 'observes', 'observing', 'obsessed', 'obsession', 'obsession with', 'obsessive', 'obstacles', 'obvious', 'obviously', 'occasion', 'occasional', 'occasionally', 'occasions', 'occupation', 'occupied', 'occur', 'occurred', 'occurs', 'ocean', 'october', 'odd', 'odds', 'ode', 'ode to', 'of advice', 'of age', 'of alice', 'of all', 'of america', 'of american', 'of an', 'of and', 'of another', 'of any', 'of art', 'of artists', 'of attention', 'of beauty', 'of becoming', 'of being', 'of belonging', 'of book', 'of books', 'of both', 'of brain', 'of certain', 'of change', 'of character', 'of childhood', 'of children', 'of choice', 'of color', 'of common', 'of communication', 'of congress', 'of consciousness', 'of contemporary', 'of courage', 'of course', 'of creation', 'of creative', 'of creativity', 'of cultural', 'of culture', 'of curiosity', 'of death', 'of deep', 'of design', 'of different', 'of discovery', 'of doing', 'of each', 'of earth', 'of education', 'of emotion', 'of emotional', 'of every', 'of everyday', 'of everything', 'of evolution', 'of existence', 'of experience', 'of extraordinary', 'of faith', 'of famous', 'of fear', 'of feeling', 'of finding', 'of four', 'of free', 'of freedom', 'of friendship', 'of gender', 'of genius', 'of getting', 'of god', 'of good', 'of grass', 'of great', 'of growing', 'of happiness', 'of having', 'of heart', 'of her', 'of him', 'of his', 'of history', 'of hope', 'of how', 'of human', 'of humanity', 'of ideas', 'of identity', 'of imagination', 'of information', 'of inner', 'of insight', 'of inspiration', 'of intellectual', 'of it', 'of its', 'of itself', 'of joy', 'of keeping', 'of knowing', 'of knowledge', 'of language', 'of learning', 'of letters', 'of life', 'of light', 'of literary', 'of literature', 'of little', 'of living', 'of long', 'of looking', 'of loss', 'of love', 'of loving', 'of making', 'of man', 'of many', 'of marriage', 'of me', 'of meaning', 'of memory', 'of men', 'of mental', 'of mind', 'of mine', 'of modern', 'of money', 'of moral', 'of more', 'of music', 'of my', 'of myself', 'of natural', 'of nature', 'of new', 'of not', 'of old', 'of one', 'of other', 'of others', 'of our', 'of ourselves', 'of paper', 'of particular', 'of people', 'of person', 'of personal', 'of philosophy', 'of physical', 'of physics', 'of poetry', 'of political', 'of possibility', 'of power', 'of presence', 'of print', 'of productivity', 'of public', 'of purpose', 'of reading', 'of real', 'of reality', 'of reason', 'of religion', 'of resistance', 'of science', 'of scientific', 'of scientists', 'of seeing', 'of self', 'of silence', 'of small', 'of social', 'of society', 'of solitude', 'of some', 'of something', 'of sorts', 'of space', 'of spirit', 'of stars', 'of storytelling', 'of success', 'of such', 'of taking', 'of technology', 'of that', 'of their', 'of them', 'of these', 'of things', 'of thinking', 'of this', 'of those', 'of thought', 'of three', 'of time', 'of timeless', 'of today', 'of trees', 'of true', 'of truth', 'of twenty', 'of two', 'of uncertainty', 'of understanding', 'of us', 'of various', 'of view', 'of vision', 'of visual', 'of war', 'of water', 'of what', 'of whether', 'of which', 'of who', 'of whom', 'of why', 'of wisdom', 'of women', 'of wonder', 'of words', 'of work', 'of working', 'of world', 'of writers', 'of writing', 'of years', 'of you', 'of young', 'of your', 'off', 'off and', 'off the', 'off to', 'offer', 'offered', 'offering', 'offers', 'offers an', 'office', 'official', 'often', 'often the', 'oh', 'oil', 'okay', 'old', 'old age', 'old and', 'older', 'oldest', 'oliver', 'oliver sacks', 'omnibus', 'on all', 'on an', 'on and', 'on art', 'on being', 'on creative', 'on creativity', 'on earth', 'on everything', 'on happiness', 'on her', 'on his', 'on how', 'on in', 'on it', 'on its', 'on life', 'on living', 'on love', 'on my', 'on one', 'on our', 'on paper', 'on science', 'on some', 'on that', 'on their', 'on them', 'on this', 'on time', 'on to', 'on top', 'on twitter', 'on what', 'on which', 'on why', 'on writing', 'on your', 'once', 'once again', 'once in', 'once more', 'once the', 'once you', 'one and', 'one another', 'one by', 'one can', 'one could', 'one day', 'one for', 'one hand', 'one has', 'one in', 'one is', 'one man', 'one might', 'one must', 'one of', 'one or', 'one own', 'one particularly', 'one person', 'one side', 'one such', 'one that', 'one the', 'one thing', 'one to', 'one way', 'one we', 'one which', 'one who', 'one with', 'one would', 'ones', 'oneself', 'ongoing', 'online', 'only', 'only as', 'only be', 'only because', 'only by', 'only for', 'only in', 'only of', 'only one', 'only that', 'only the', 'only thing', 'only to', 'only way', 'only when', 'only with', 'onto', 'onto the', 'open', 'open the', 'open to', 'opened', 'opening', 'openness', 'opens', 'operating', 'operation', 'opinion', 'opinions', 'opportunities', 'opportunity', 'opportunity to', 'opposed', 'opposed to', 'opposite', 'opposite of', 'oppression', 'optimism', 'optimism and', 'optimistic', 'options', 'or an', 'or another', 'or any', 'or as', 'or at', 'or by', 'or even', 'or for', 'or her', 'or how', 'or if', 'or in', 'or is', 'or less', 'or more', 'or not', 'or of', 'or other', 'or perhaps', 'or rather', 'or she', 'or so', 'or that', 'or the', 'or to', 'or two', 'or what', 'or why', 'or you', 'orange', 'order', 'order of', 'order to', 'orders', 'ordinary', 'organic', 'organisms', 'organization', 'organized', 'orientation', 'origin', 'origin of', 'original', 'originality', 'originally', 'originally published', 'origins', 'orwell', 'oscar', 'oscar wilde', 'osmosis', 'other', 'other and', 'other hand', 'other in', 'other people', 'other side', 'other than', 'other the', 'other things', 'other way', 'other words', 'others', 'others and', 'others to', 'otherwise', 'ought', 'ought to', 'our ability', 'our age', 'our bodies', 'our brains', 'our capacity', 'our civilization', 'our collective', 'our cultural', 'our culture', 'our daily', 'our era', 'our everyday', 'our existence', 'our experience', 'our eyes', 'our favorite', 'our greatest', 'our human', 'our humanity', 'our individual', 'our inner', 'our life', 'our lives', 'our minds', 'our modern', 'our most', 'our own', 'our personal', 'our place', 'our planet', 'our present', 'our relationship', 'our self', 'our sense', 'our shared', 'our species', 'our time', 'our understanding', 'our very', 'our world', 'ours', 'ourselves', 'ourselves and', 'ourselves as', 'ourselves in', 'ourselves the', 'ourselves to', 'out', 'out and', 'out for', 'out from', 'out in', 'out into', 'out is', 'out of', 'out on', 'out that', 'out the', 'out there', 'out to', 'out what', 'out with', 'outcome', 'outer', 'outline', 'outlines', 'outside', 'outside of', 'outside the', 'outward', 'over', 'over again', 'over and', 'over the', 'over time', 'over to', 'overall', 'overcome', 'overcoming', 'overwhelming', 'owe', 'own', 'own and', 'own experience', 'own life', 'own mind', 'own way', 'own work', 'oxford', 'pablo', 'pablo neruda', 'pace', 'page', 'pages', 'pages of', 'paid', 'pain', 'pain and', 'painful', 'paint', 'painted', 'painter', 'painting', 'paintings', 'paints', 'pair', 'pair of', 'pale', 'palmer', 'palpable', 'paper', 'paper and', 'papers', 'parable', 'paradigm', 'paradise', 'paradox', 'paradox of', 'paradoxes', 'paradoxical', 'parallel', 'parallels', 'parent', 'parents', 'parents and', 'paris', 'park', 'parker', 'part', 'part in', 'part of', 'participate', 'particle', 'particles', 'particular', 'particular fragment', 'particular portion', 'particularly', 'parties', 'partly', 'partner', 'partners', 'parts', 'parts of', 'partway', 'partway between', 'party', 'pass', 'passage', 'passage from', 'passage of', 'passage that', 'passages', 'passed', 'passes', 'passing', 'passion', 'passion and', 'passion for', 'passionate', 'passionately', 'passions', 'passive', 'past', 'past and', 'past century', 'past the', 'path', 'path to', 'paths', 'patience', 'patient', 'patients', 'patron', 'patron saint', 'pattern', 'patterns', 'patterns of', 'patti', 'patti smith', 'paul', 'pause', 'paved', 'paved the', 'pay', 'pay attention', 'paying', 'pays', 'peace', 'peak', 'peculiar', 'peek', 'peer', 'peers', 'pen', 'penchant', 'penchant for', 'pencil', 'penned', 'penned in', 'people', 'people and', 'people are', 'people can', 'people have', 'people in', 'people of', 'people the', 'people to', 'people we', 'people who', 'people will', 'people with', 'per', 'perceive', 'perceived', 'percent', 'percent of', 'perception', 'perception of', 'perceptions', 'perennial', 'perfect', 'perfection', 'perfectly', 'perform', 'performance', 'performed', 'performing', 'perhaps', 'perhaps because', 'perhaps even', 'perhaps it', 'perhaps most', 'perhaps the', 'perilous', 'perils', 'perils of', 'period', 'period of', 'periods', 'permanent', 'permission', 'perpetual', 'perpetually', 'person', 'person and', 'person in', 'person is', 'person to', 'person who', 'personal', 'personal and', 'personality', 'personally', 'personhood', 'persons', 'perspective', 'perspective on', 'perspectives', 'peter', 'petty', 'phenomena', 'phenomenon', 'philip', 'phillips', 'philosopher', 'philosopher and', 'philosophers', 'philosophical', 'philosophy', 'philosophy and', 'philosophy of', 'phone', 'photo', 'photograph', 'photograph by', 'photographer', 'photographic', 'photographs', 'photographs by', 'photographs of', 'photography', 'photos', 'phrase', 'phrases', 'physical', 'physical and', 'physically', 'physician', 'physicist', 'physics', 'piano', 'picasso', 'pick', 'picked', 'pickings', 'picture', 'picture book', 'picture of', 'pictures', 'piece', 'piece of', 'pieces', 'pieces of', 'piercing', 'pillars', 'pillars of', 'pink', 'pioneer', 'pioneered', 'pioneering', 'pity', 'pivotal', 'place', 'place and', 'place for', 'place in', 'place of', 'place the', 'place to', 'place where', 'placed', 'places', 'plain', 'plan', 'plane', 'planet', 'planets', 'planning', 'plans', 'plant', 'planted', 'plants', 'plastic', 'plate', 'platform', 'plath', 'plato', 'play', 'play the', 'played', 'playful', 'playing', 'plays', 'playwright', 'pleasant', 'please', 'please enjoy', 'pleased', 'pleasurable', 'pleasure', 'pleasure in', 'pleasure of', 'pleasures', 'plenty', 'plenty of', 'plot', 'plus', 'pocket', 'poem', 'poem about', 'poem that', 'poems', 'poet', 'poet and', 'poet laureate', 'poetic', 'poetically', 'poetics', 'poetics of', 'poetry', 'poetry and', 'poetry of', 'poets', 'poignancy', 'poignant', 'point', 'point in', 'point is', 'point of', 'point to', 'pointed', 'pointing', 'points', 'points of', 'points out', 'points to', 'police', 'policy', 'polish', 'political', 'political and', 'politicians', 'politics', 'politics and', 'pollination', 'pollination of', 'polymath', 'pool', 'poor', 'pop', 'pop culture', 'popova', 'popular', 'population', 'portal', 'portion', 'portion of', 'portion with', 'portrait', 'portrait of', 'portraits', 'portraits of', 'position', 'positions', 'positive', 'possess', 'possessed', 'possession', 'possibilities', 'possibility', 'possibility of', 'possible', 'possible and', 'possible for', 'possible to', 'possibly', 'post', 'poster', 'posterity', 'posters', 'posthumous', 'posthumously', 'potent', 'potential', 'pound', 'pounds', 'poured', 'poverty', 'power', 'power and', 'power in', 'power of', 'power to', 'powerful', 'powerful and', 'powerfully', 'powers', 'powers of', 'practical', 'practically', 'practice', 'practice of', 'practices', 'practicing', 'praise', 'prayer', 'pre', 'precious', 'precise', 'precisely', 'precisely because', 'precisely the', 'precisely what', 'precision', 'predicated', 'predicated on', 'predict', 'preface', 'prefer', 'premise', 'preparation', 'prepare', 'prepared', 'prescience', 'prescient', 'presence', 'presence and', 'presence of', 'present', 'present and', 'present in', 'presented', 'presents', 'preserve', 'preserved', 'preserving', 'president', 'press', 'pressing', 'pressure', 'prestigious', 'pretend', 'pretty', 'prevent', 'previous', 'previously', 'price', 'priceless', 'pride', 'primarily', 'primary', 'primer', 'primitive', 'prince', 'princeton', 'principal', 'principle', 'principle of', 'principles', 'principles of', 'print', 'print and', 'printed', 'printing', 'prints', 'prior', 'priorities', 'prison', 'privacy', 'private', 'privilege', 'privileged', 'prize', 'prize acceptance', 'prize in', 'probably', 'problem', 'problem of', 'problems', 'proceeds', 'process', 'process and', 'process of', 'processes', 'processing', 'proclaimed', 'proclamation', 'produce', 'produced', 'produces', 'producing', 'product', 'product of', 'production', 'productive', 'productivity', 'products', 'profession', 'professional', 'professor', 'profit', 'profound', 'profoundly', 'program', 'progress', 'project', 'project is', 'projects', 'prolific', 'prominent', 'promise', 'promise of', 'promised', 'promises', 'promising', 'proof', 'propaganda', 'propelled', 'propensity', 'proper', 'properly', 'property', 'proportion', 'proposed', 'proposition', 'prose', 'prospect', 'protagonist', 'protect', 'protection', 'protest', 'proud', 'proust', 'prove', 'proved', 'proven', 'provide', 'provided', 'provides', 'providing', 'provocative', 'psyche', 'psychic', 'psychoanalyst', 'psychoemotional', 'psychological', 'psychologist', 'psychologists', 'psychology', 'psychology and', 'psychology of', 'public domain', 'publication', 'publication of', 'publish', 'published', 'published as', 'published in', 'published the', 'publisher', 'publishers', 'publishing', 'pulitzer', 'pulitzer prize', 'pull', 'pulled', 'pulling', 'pulls', 'pure', 'purely', 'purpose', 'purpose and', 'purpose of', 'purposes', 'pursue', 'pursuing', 'pursuit', 'pursuit of', 'push', 'pushing', 'put', 'put it', 'put on', 'put the', 'puts', 'puts it', 'putting', 'qualities', 'quality', 'quality of', 'quantum', 'quarter', 'quarter century', 'queen', 'queer', 'quest', 'quest for', 'quest to', 'question', 'question is', 'question of', 'questionable', 'questioning', 'questions', 'questions about', 'questions and', 'questions of', 'questions that', 'quick', 'quickly', 'quiet', 'quietly', 'quintessential', 'quirky', 'quite', 'quote', 'quotes', 'rabbit', 'race', 'rachel', 'rachel carson', 'radiant', 'radiating', 'radical', 'radically', 'radio', 'rage', 'rain', 'raise', 'raised', 'raising', 'ralph', 'ran', 'random', 'range', 'range of', 'ranging', 'ranging from', 'rapid', 'rapidly', 'rare', 'rare and', 'rarely', 'rate', 'rather', 'rather it', 'rather than', 'rational', 'raw', 'raw material', 'ray', 'ray bradbury', 're', 're all', 're going', 're in', 're not', 'reach', 'reach the', 'reached', 'reaches', 'reaching', 'reaction', 'reactions', 'read', 'read and', 'read in', 'read it', 'read the', 'reader', 'readers', 'readily', 'reading', 'reading and', 'reading list', 'reading of', 'reading the', 'readings', 'reads', 'ready', 'ready to', 'real', 'real and', 'real life', 'real world', 'realities', 'realities of', 'reality', 'reality and', 'reality is', 'reality of', 'reality the', 'realization', 'realize', 'realize that', 'realized', 'realized that', 'realizing', 'really', 'really is', 'really means', 'realm', 'realm of', 'reason', 'reason and', 'reason for', 'reason to', 'reason why', 'reasonable', 'reasoning', 'reasons', 'rebecca', 'rebecca solnit', 'recall', 'recalls', 'receive', 'received', 'receiving', 'recent', 'recently', 'recipient', 'recognition', 'recognition of', 'recognize', 'recognize that', 'recognized', 'recognizing', 'recommend', 'reconcile', 'record', 'record of', 'recorded', 'recording', 'recording of', 'records', 'recounts', 'recounts the', 'red', 'redemption', 'reduce', 'reduced', 'refer', 'reference', 'referred', 'referred to', 'reflect', 'reflected', 'reflecting', 'reflecting on', 'reflection', 'reflection of', 'reflection on', 'reflections', 'reflections on', 'reflects', 'reflects on', 'refreshing', 'refuse', 'refused', 'refused to', 'regard', 'regarded', 'regarded as', 'regarding', 'regardless', 'region', 'regret', 'regular', 'regularly', 'rejected', 'rejection', 'relate', 'relate to', 'related', 'related to', 'relation', 'relation to', 'relations', 'relationship', 'relationship between', 'relationship to', 'relationship with', 'relationships', 'relationships and', 'relative', 'relatively', 'relativity', 'release', 'release of', 'released', 'relevance', 'relevant', 'reliable', 'reliance', 'relief', 'religion', 'religion and', 'religions', 'religious', 'rely', 'remain', 'remainder', 'remainder of', 'remained', 'remaining', 'remains', 'remains one', 'remains the', 'remark', 'remarkable', 'remarkably', 'remarked', 'remarks', 'remember', 'remember that', 'remember the', 'remembered', 'remembering', 'remind', 'remind us', 'reminded', 'reminded of', 'reminder', 'reminder of', 'reminder that', 'reminding', 'reminding us', 'reminds', 'reminds us', 'reminiscent', 'reminiscent of', 'remix', 'remote', 'remove', 'removed', 'renaissance', 'render', 'rendered', 'rendering', 'renders', 'repeat', 'repeated', 'replace', 'replaced', 'reply', 'report', 'reported', 'represent', 'representation', 'represented', 'representing', 'represents', 'reputation', 'require', 'required', 'requires', 'research', 'researched', 'researcher', 'researchers', 'reserved', 'resilience', 'resist', 'resistance', 'resistance to', 'resolution', 'resolve', 'resolved', 'resonance', 'resources', 'respect', 'respect for', 'respective', 'respond', 'respond to', 'responds', 'response', 'response to', 'responses', 'responsibilities', 'responsibility', 'responsibility of', 'responsibility to', 'responsible', 'responsible for', 'rest', 'rest of', 'restaurant', 'restless', 'restlessness', 'result', 'result is', 'result of', 'resulting', 'results', 'return', 'return to', 'returned', 'returned to', 'returning', 'returning to', 'returns', 'returns to', 'reveal', 'reveal the', 'revealed', 'revealing', 'reveals', 'revelation', 'revelatory', 'revered', 'reverence', 'reverse', 'review', 'revision', 'revisit', 'revisit the', 'revisits', 'revisits the', 'revolution', 'revolutionary', 'revolutionized', 'reward', 'rewarding', 'rewards', 'rewards of', 'rhythm', 'rhythms', 'rich', 'rich and', 'richard', 'richard feynman', 'richer', 'richest', 'richness', 'richness of', 'rid', 'ride', 'ridiculous', 'riding', 'right', 'right and', 'right in', 'right now', 'right to', 'righteousness', 'rights', 'rights and', 'rigor', 'rigorous', 'rilke', 'ring', 'rings', 'rise', 'rise of', 'rise to', 'rises', 'rising', 'risk', 'risk of', 'risks', 'river', 'rivers', 'road', 'robert', 'robinson', 'rock', 'rocks', 'role', 'role in', 'role of', 'roles', 'roll', 'rolling', 'roman', 'romance', 'romantic', 'room', 'room for', 'rooms', 'roosevelt', 'root', 'root of', 'rooted', 'rooted in', 'roots', 'roots of', 'rose', 'rough', 'round', 'route', 'routine', 'routines', 'royal', 'rule', 'rules', 'rules for', 'rules of', 'run', 'running', 'runs', 'rush', 'russell', 'russia', 'russian', 'ruth', 'ruth krauss', 'sacks', 'sacred', 'sacrifice', 'sad', 'sadly', 'sadness', 'safe', 'safety', 'sagan', 'sage', 'said', 'said that', 'said the', 'said to', 'saint', 'sake', 'sake of', 'salt', 'salvador', 'salvador dali', 'salvation', 'sam', 'same', 'same as', 'same thing', 'same time', 'same way', 'sample', 'san', 'san francisco', 'sand', 'sane', 'sanity', 'sarah', 'sat', 'sat down', 'satisfaction', 'satisfied', 'satisfy', 'satisfying', 'saul', 'save', 'saved', 'saving', 'savor', 'saw', 'saw the', 'say', 'say it', 'say that', 'say the', 'say to', 'saying', 'saying that', 'says', 'scale', 'scale of', 'scales', 'scarcely', 'scene', 'scenes', 'scheme', 'scholar', 'scholars', 'scholarship', 'school', 'school of', 'schools', 'schopenhauer', 'science', 'science and', 'science as', 'science fiction', 'science in', 'science is', 'science of', 'science the', 'science to', 'science writer', 'sciences', 'scientific', 'scientifically', 'scientist', 'scientists', 'scientists and', 'scope', 'score', 'scott', 'scott fitzgerald', 'scottish', 'screen', 'sculptor', 'sculpture', 'sea', 'search', 'search for', 'search of', 'searching', 'season', 'seasons', 'seated', 'second', 'seconds', 'secret', 'secret of', 'secret to', 'secrets', 'section', 'section of', 'secular', 'secure', 'security', 'see', 'see and', 'see how', 'see in', 'see it', 'see more', 'see that', 'see the', 'see them', 'see this', 'see what', 'seed', 'seedbed', 'seedbed of', 'seeds', 'seeing', 'seeing the', 'seek', 'seek to', 'seeking', 'seeking to', 'seeks', 'seeks to', 'seem', 'seem to', 'seemed', 'seemed to', 'seeming', 'seemingly', 'seems', 'seems like', 'seems to', 'seen', 'seen in', 'seen the', 'sees', 'selected', 'selection', 'selection of', 'self', 'self and', 'self awareness', 'self conscious', 'self doubt', 'self in', 'self is', 'self portrait', 'self the', 'selfish', 'sell', 'selling', 'selves', 'semi', 'seminal', 'send', 'sendak', 'sendak from', 'sending', 'sends', 'seneca', 'senior', 'sensation', 'sense', 'sense of', 'sense that', 'sensemaking', 'senses', 'sensibility', 'sensible', 'sensitive', 'sensitivity', 'sensory', 'sent', 'sent to', 'sentence', 'sentences', 'sentiment', 'sentiment that', 'separate', 'separated', 'separation', 'september', 'sequence', 'serenade', 'serenade to', 'series', 'series of', 'serious', 'seriously', 'serve', 'serve as', 'served', 'serves', 'service', 'services', 'serving', 'set', 'set of', 'set out', 'set up', 'sets', 'sets out', 'setting', 'settle', 'settled', 'seven', 'seven years', 'seventeen', 'seventy', 'several', 'severe', 'sex', 'sexual', 'sexuality', 'shade', 'shadow', 'shadows', 'shake', 'shakespeare', 'shall', 'shall be', 'shame', 'shape', 'shape of', 'shape our', 'shaped', 'shaped by', 'shaped the', 'shapes', 'shaping', 'share', 'shared', 'shares', 'sharing', 'sharp', 'she', 'she adds', 'she became', 'she considers', 'she could', 'she did', 'she found', 'she had', 'she has', 'she is', 'she said', 'she was', 'she would', 'she writes', 'she wrote', 'shed', 'sheep', 'sheer', 'shell', 'shelley', 'shift', 'shifting', 'shifts', 'shine', 'shines', 'shining', 'ship', 'shock', 'shoes', 'shoot', 'shop', 'shore', 'short', 'short film', 'short of', 'short story', 'shortly', 'shortly after', 'shortly before', 'shot', 'should', 'should be', 'should have', 'should not', 'shoulders', 'shouldn', 'show', 'showed', 'showing', 'shown', 'shows', 'shut', 'shy', 'sick', 'side', 'side of', 'sides', 'sidewise', 'sight', 'sight of', 'sign', 'sign of', 'signature', 'signed', 'significance', 'significant', 'signs', 'silence', 'silent', 'silly', 'silver', 'similar', 'similar to', 'similarly', 'simone', 'simone de', 'simone weil', 'simple', 'simple and', 'simple yet', 'simplest', 'simplicity', 'simply', 'simultaneously', 'since', 'since it', 'since the', 'sincere', 'sincerity', 'sing', 'singer', 'singing', 'single', 'single most', 'singular', 'sink', 'sir', 'sister', 'sisters', 'sit', 'sit down', 'site', 'sits', 'sitting', 'situation', 'situations', 'six', 'six years', 'sixteen', 'sixty', 'size', 'size of', 'skepticism', 'sketch', 'sketches', 'skies', 'skill', 'skills', 'skin', 'sky', 'sleep', 'sleep and', 'sleeping', 'slight', 'slightly', 'slim', 'slip', 'slow', 'slowly', 'small', 'small and', 'smaller', 'smallest', 'smart', 'smell', 'smile', 'smith', 'smooth', 'snow', 'so as', 'so called', 'so far', 'so he', 'so in', 'so it', 'so long', 'so many', 'so much', 'so often', 'so on', 'so that', 'so the', 'so they', 'so to', 'so we', 'so what', 'so when', 'so you', 'sobering', 'social', 'social and', 'social media', 'socially', 'societies', 'society', 'society and', 'society in', 'soft', 'soft spot', 'software', 'soil', 'solace', 'solar', 'solar system', 'sold', 'sole', 'solely', 'solid', 'solitary', 'solitude', 'solitude and', 'solnit', 'solution', 'solutions', 'solve', 'solved', 'solving', 'some', 'some kind', 'some of', 'some other', 'some people', 'some sort', 'some time', 'somebody', 'somehow', 'someone', 'someone else', 'someone who', 'something', 'something about', 'something and', 'something else', 'something in', 'something is', 'something like', 'something more', 'something new', 'something of', 'something that', 'something to', 'something we', 'something you', 'sometimes', 'somewhat', 'somewhere', 'somewhere between', 'son', 'song', 'song of', 'songs', 'sontag', 'sontag on', 'soon', 'soon as', 'sophisticated', 'sorrow', 'sorry', 'sort', 'sort of', 'sorts', 'sorts of', 'sought', 'soul', 'soul and', 'soul of', 'soulful', 'souls', 'sound', 'sound of', 'sounds', 'source', 'source of', 'sources', 'south', 'space', 'space and', 'space exploration', 'space for', 'space in', 'spaces', 'span', 'spanish', 'spanning', 'spare', 'spark', 'sparked', 'speak', 'speak of', 'speak to', 'speaker', 'speaking', 'speaking to', 'speaks', 'speaks to', 'special', 'special edition', 'species', 'specific', 'specifically', 'spectacular', 'spectrum', 'spectrum of', 'speech', 'speeches', 'speed', 'spell', 'spend', 'spend our', 'spending', 'spends', 'spent', 'spent the', 'sphere', 'spirit', 'spirit and', 'spirit in', 'spirit of', 'spirited', 'spirits', 'spiritual', 'spirituality', 'spite', 'spite of', 'splendid', 'splendor', 'splendor of', 'split', 'spoke', 'spoken', 'spot', 'spot for', 'spots', 'sprang', 'spread', 'spring', 'spring of', 'springs', 'square', 'st', 'stable', 'stage', 'stage of', 'stages', 'stages of', 'staggering', 'stake', 'stand', 'stand in', 'standard', 'standards', 'standing', 'stands', 'stands as', 'stanford', 'star', 'stark', 'stars', 'start', 'start to', 'started', 'starting', 'starts', 'state', 'state of', 'statement', 'states', 'static', 'station', 'status', 'stay', 'stayed', 'staying', 'steady', 'stein', 'steinbeck', 'step', 'stephen', 'stephen hawking', 'steps', 'stereotypes', 'steve', 'steve jobs', 'steven', 'stick', 'still', 'still be', 'still in', 'still the', 'stillness', 'stimulating', 'stir', 'stirring', 'stock', 'stone', 'stones', 'stood', 'stop', 'stopped', 'stops', 'store', 'stories', 'stories and', 'stories of', 'storm', 'story', 'story about', 'story and', 'story in', 'story is', 'story of', 'story that', 'story the', 'storyteller', 'storytellers', 'storytelling', 'storytelling and', 'straight', 'strain', 'strand', 'strange', 'strange and', 'strangely', 'stranger', 'strangers', 'strategies', 'strategy', 'stream', 'stream of', 'street', 'streets', 'strength', 'strength and', 'strength of', 'stress', 'stretch', 'stretched', 'stretching', 'strewn', 'strike', 'strikes', 'striking', 'strikingly', 'string', 'strip', 'strive', 'striving', 'stroke', 'strong', 'stronger', 'strongly', 'struck', 'structure', 'structure of', 'structures', 'struggle', 'struggle to', 'struggles', 'struggling', 'stubborn', 'stuck', 'student', 'students', 'studied', 'studies', 'studio', 'study', 'study of', 'studying', 'stuff', 'stunning', 'stupid', 'style', 'style and', 'style of', 'subject', 'subject of', 'subject to', 'subjective', 'subjects', 'sublime', 'subscribe', 'subsequent', 'substance', 'subtle', 'subtlety', 'succeed', 'success', 'success and', 'success in', 'successful', 'such', 'such an', 'such as', 'such is', 'such thing', 'sudden', 'suddenly', 'suffer', 'suffered', 'suffering', 'sufficient', 'sugar', 'suggest', 'suggested', 'suggesting', 'suggests', 'suggests that', 'suicide', 'suit', 'sum', 'summer', 'summer of', 'sun', 'sun and', 'sunday', 'sunlight', 'superb', 'superficial', 'superior', 'supply', 'support', 'supporting', 'suppose', 'supposed', 'supposed to', 'supreme', 'sure', 'sure that', 'sure to', 'surely', 'surface', 'surface of', 'surprise', 'surprised', 'surprising', 'surprisingly', 'surrender', 'surrounded', 'surrounded by', 'surrounding', 'survey', 'survival', 'survive', 'survived', 'surviving', 'susan', 'susan sontag', 'suspect', 'sustained', 'sweeping', 'sweet', 'sweetness', 'swimming', 'swiss', 'sylvia', 'sylvia plath', 'symbol', 'symbolic', 'symbolism', 'symbols', 'sympathetic', 'sympathy', 'symphony', 'symptoms', 'synthesized', 'system', 'system and', 'system of', 'systematic', 'systems', 'szymborska', 'table', 'tail', 'take', 'take for', 'take it', 'take on', 'take the', 'take to', 'taken', 'takes', 'takes on', 'takes place', 'takes the', 'takes to', 'takes us', 'taking', 'taking the', 'tale', 'tale of', 'talent', 'talent and', 'talented', 'talents', 'tales', 'tales of', 'talk', 'talk about', 'talk to', 'talked', 'talking', 'talking about', 'talks', 'tall', 'tangible', 'task', 'task of', 'tasks', 'taste', 'taste of', 'taught', 'taught him', 'taxonomy', 'taxonomy of', 'tchaikovsky', 'tea', 'teach', 'teach us', 'teacher', 'teachers', 'teaches', 'teaches us', 'teaching', 'team', 'tears', 'technical', 'technique', 'techniques', 'technological', 'technologies', 'technology', 'technology and', 'ted', 'ted talk', 'teenage', 'teenager', 'teeth', 'telephone', 'telescope', 'television', 'tell', 'tell the', 'tell us', 'tell you', 'telling', 'tells', 'tells the', 'tells us', 'temperament', 'temporal', 'temporary', 'ten', 'ten years', 'tend', 'tend to', 'tendencies', 'tendency', 'tendency to', 'tender', 'tenderness', 'tends', 'tends to', 'tension', 'term', 'termed', 'terms', 'terms of', 'terrible', 'terribly', 'terrific', 'terrifying', 'terror', 'test', 'testament', 'testament to', 'tested', 'testing', 'tests', 'text', 'texts', 'than an', 'than any', 'than anything', 'than century', 'than decade', 'than ever', 'than half', 'than in', 'than it', 'than mere', 'than one', 'than that', 'than the', 'than they', 'than to', 'than two', 'than we', 'than you', 'thank', 'thank you', 'thanks', 'thanks to', 'that all', 'that allows', 'that am', 'that an', 'that and', 'that any', 'that are', 'that art', 'that as', 'that at', 'that by', 'that calls', 'that can', 'that cannot', 'that changed', 'that comes', 'that could', 'that day', 'that do', 'that does', 'that doesn', 'that each', 'that even', 'that every', 'that everything', 'that exactly', 'that followed', 'that for', 'that gave', 'that gives', 'that good', 'that great', 'that had', 'that happens', 'that has', 'that have', 'that he', 'that her', 'that his', 'that how', 'that human', 'that if', 'that in', 'that is', 'that it', 'that its', 'that just', 'that life', 'that love', 'that made', 'that make', 'that makes', 'that man', 'that many', 'that matter', 'that may', 'that might', 'that moment', 'that most', 'that much', 'that my', 'that never', 'that no', 'that not', 'that nothing', 'that of', 'that one', 'that only', 'that other', 'that our', 'that people', 'that person', 'that point', 'that precisely', 'that really', 'that same', 'that science', 'that seems', 'that she', 'that should', 'that so', 'that some', 'that something', 'that such', 'that that', 'that the', 'that their', 'that there', 'that these', 'that they', 'that this', 'that those', 'that time', 'that to', 'that very', 'that was', 'that way', 'that we', 'that were', 'that what', 'that when', 'that which', 'that while', 'that why', 'that will', 'that with', 'that would', 'that year', 'that you', 'that your', 'the 1950s', 'the 1960s', 'the ability', 'the absence', 'the act', 'the actual', 'the age', 'the ages', 'the air', 'the all', 'the altogether', 'the american', 'the ancient', 'the answer', 'the answers', 'the art', 'the artist', 'the artists', 'the arts', 'the atlantic', 'the audience', 'the author', 'the average', 'the back', 'the bad', 'the basic', 'the basis', 'the beautiful', 'the beauty', 'the beginning', 'the belief', 'the beloved', 'the best', 'the better', 'the big', 'the bird', 'the birth', 'the black', 'the blue', 'the body', 'the book', 'the books', 'the bottom', 'the boundaries', 'the boy', 'the brain', 'the brilliant', 'the british', 'the broader', 'the brothers', 'the building', 'the business', 'the capacity', 'the case', 'the cause', 'the celebrated', 'the center', 'the central', 'the centuries', 'the century', 'the challenge', 'the character', 'the characters', 'the child', 'the children', 'the choice', 'the city', 'the civil', 'the classic', 'the cold', 'the collection', 'the color', 'the common', 'the community', 'the complete', 'the complex', 'the concept', 'the conditions', 'the context', 'the contrary', 'the conversation', 'the core', 'the corner', 'the cosmic', 'the cosmos', 'the country', 'the courage', 'the course', 'the craft', 'the creation', 'the creative', 'the cross', 'the crowd', 'the crucial', 'the cultural', 'the culture', 'the curious', 'the current', 'the daily', 'the dark', 'the darkness', 'the dawn', 'the day', 'the days', 'the dead', 'the death', 'the decades', 'the deep', 'the deeper', 'the deepest', 'the depths', 'the design', 'the desire', 'the development', 'the diary', 'the difference', 'the different', 'the difficult', 'the digital', 'the dignity', 'the direction', 'the discovery', 'the distance', 'the divine', 'the door', 'the early', 'the earth', 'the edge', 'the effect', 'the effort', 'the ego', 'the elements', 'the emotional', 'the end', 'the english', 'the enormous', 'the entire', 'the era', 'the essay', 'the essays', 'the essence', 'the essential', 'the eternal', 'the evening', 'the event', 'the ever', 'the evolution', 'the exact', 'the excellent', 'the existence', 'the existential', 'the experience', 'the extent', 'the extraordinary', 'the eye', 'the eyes', 'the fabric', 'the face', 'the fact', 'the facts', 'the fall', 'the familiar', 'the family', 'the famous', 'the fantastic', 'the fascinating', 'the fate', 'the father', 'the fear', 'the feeling', 'the few', 'the field', 'the film', 'the final', 'the fine', 'the finest', 'the fire', 'the first', 'the five', 'the floor', 'the following', 'the forest', 'the foreword', 'the form', 'the former', 'the foundation', 'the four', 'the fourth', 'the free', 'the french', 'the front', 'the full', 'the fundamental', 'the future', 'the game', 'the garden', 'the general', 'the german', 'the gift', 'the globe', 'the golden', 'the good', 'the government', 'the grand', 'the great', 'the greater', 'the greatest', 'the ground', 'the hand', 'the hands', 'the hard', 'the hardest', 'the head', 'the heart', 'the heavens', 'the help', 'the hidden', 'the high', 'the highest', 'the history', 'the hope', 'the horizon', 'the house', 'the human', 'the iconic', 'the idea', 'the ideal', 'the ideas', 'the illusion', 'the illustrated', 'the image', 'the images', 'the imagination', 'the importance', 'the indispensable', 'the individual', 'the infinite', 'the information', 'the inner', 'the inside', 'the intellect', 'the intellectual', 'the internet', 'the interplay', 'the intersection', 'the intricate', 'the introduction', 'the invention', 'the invisible', 'the issue', 'the journey', 'the joy', 'the key', 'the kind', 'the kitchen', 'the knowledge', 'the land', 'the landscape', 'the language', 'the larger', 'the largest', 'the last', 'the late', 'the latest', 'the latter', 'the law', 'the laws', 'the least', 'the left', 'the legendary', 'the lens', 'the less', 'the letter', 'the letters', 'the level', 'the library', 'the life', 'the light', 'the limits', 'the line', 'the lion', 'the literary', 'the little', 'the lives', 'the living', 'the local', 'the long', 'the loss', 'the lost', 'the love', 'the lovely', 'the magic', 'the magnificent', 'the main', 'the majority', 'the making', 'the man', 'the many', 'the material', 'the matter', 'the meaning', 'the measure', 'the media', 'the medium', 'the memory', 'the men', 'the mental', 'the mere', 'the message', 'the middle', 'the midst', 'the mind', 'the modern', 'the moment', 'the moon', 'the moral', 'the more', 'the morning', 'the most', 'the mother', 'the music', 'the mysterious', 'the mystery', 'the myth', 'the name', 'the nation', 'the national', 'the natural', 'the nature', 'the necessary', 'the necessity', 'the need', 'the new', 'the news', 'the next', 'the night', 'the nineteenth', 'the nobel', 'the notion', 'the novel', 'the now', 'the number', 'the object', 'the ocean', 'the old', 'the one', 'the ones', 'the only', 'the open', 'the opening', 'the opportunity', 'the opposite', 'the ordinary', 'the origin', 'the original', 'the other', 'the others', 'the outside', 'the page', 'the pages', 'the pain', 'the paper', 'the paradox', 'the paradoxical', 'the part', 'the particular', 'the past', 'the path', 'the people', 'the perfect', 'the person', 'the personal', 'the philosophical', 'the physical', 'the picture', 'the piece', 'the pioneering', 'the place', 'the planet', 'the pleasure', 'the poem', 'the poet', 'the poetic', 'the poetry', 'the point', 'the political', 'the popular', 'the possibility', 'the possible', 'the potential', 'the power', 'the practice', 'the preface', 'the presence', 'the present', 'the prestigious', 'the previous', 'the price', 'the primary', 'the private', 'the problem', 'the process', 'the product', 'the profound', 'the project', 'the promise', 'the proper', 'the psychological', 'the psychology', 'the public', 'the publication', 'the purpose', 'the pursuit', 'the quality', 'the quest', 'the question', 'the questions', 'the rare', 'the raw', 'the reader', 'the real', 'the reality', 'the realm', 'the reason', 'the recent', 'the record', 'the red', 'the relationship', 'the remainder', 'the remaining', 'the remarkable', 'the rest', 'the result', 'the results', 'the rewards', 'the rich', 'the right', 'the rise', 'the river', 'the road', 'the role', 'the room', 'the root', 'the rules', 'the sake', 'the same', 'the scale', 'the scene', 'the school', 'the science', 'the scientific', 'the screen', 'the sea', 'the search', 'the second', 'the secret', 'the seed', 'the seemingly', 'the self', 'the sense', 'the senses', 'the series', 'the seven', 'the shape', 'the sheer', 'the short', 'the side', 'the simple', 'the single', 'the singular', 'the situation', 'the six', 'the size', 'the sky', 'the small', 'the social', 'the solar', 'the sole', 'the sort', 'the soul', 'the sound', 'the source', 'the space', 'the spirit', 'the spiritual', 'the spring', 'the stage', 'the stars', 'the start', 'the state', 'the status', 'the stories', 'the story', 'the strange', 'the street', 'the streets', 'the strength', 'the struggle', 'the study', 'the subject', 'the sum', 'the summer', 'the sun', 'the supreme', 'the surface', 'the system', 'the table', 'the task', 'the term', 'the text', 'the theory', 'the thing', 'the things', 'the third', 'the thought', 'the three', 'the time', 'the times', 'the title', 'the top', 'the traditional', 'the tragic', 'the trailblazing', 'the tree', 'the trees', 'the trouble', 'the true', 'the truth', 'the twentieth', 'the twenty', 'the two', 'the tyranny', 'the ultimate', 'the unconscious', 'the united', 'the universal', 'the universe', 'the university', 'the unknown', 'the use', 'the value', 'the various', 'the vast', 'the very', 'the visual', 'the vital', 'the voice', 'the volume', 'the wall', 'the walls', 'the war', 'the water', 'the way', 'the ways', 'the web', 'the well', 'the wellspring', 'the west', 'the white', 'the whole', 'the wholly', 'the wild', 'the will', 'the wind', 'the window', 'the wisdom', 'the woman', 'the women', 'the wonderful', 'the woods', 'the word', 'the words', 'the work', 'the world', 'the worst', 'the writer', 'the writing', 'the written', 'the wrong', 'the year', 'the years', 'the young', 'theater', 'their', 'their lives', 'their own', 'their way', 'their work', 'them', 'them all', 'them and', 'them are', 'them as', 'them but', 'them for', 'them from', 'them in', 'them into', 'them is', 'them it', 'them on', 'them out', 'them that', 'them the', 'them they', 'them to', 'them we', 'them with', 'theme', 'themes', 'themselves', 'themselves and', 'themselves in', 'themselves to', 'then', 'then he', 'then in', 'then is', 'then it', 'then one', 'then revisit', 'then that', 'then the', 'then there', 'then to', 'then we', 'then you', 'theoretical', 'theories', 'theorist', 'theory', 'theory of', 'therapy', 'there', 'there and', 'there are', 'there can', 'there for', 'there in', 'there is', 'there no', 'there something', 'there the', 'there to', 'there was', 'there were', 'there will', 'there would', 'therefore', 'therein', 'these', 'these are', 'these days', 'these things', 'these two', 'they', 'they also', 'they are', 'they can', 'they come', 'they could', 'they did', 'they do', 'they don', 'they had', 'they have', 'they make', 'they may', 'they might', 'they must', 'they re', 'they say', 'they should', 'they ve', 'they want', 'they were', 'they will', 'they would', 'thick', 'thin', 'thing', 'thing about', 'thing and', 'thing as', 'thing in', 'thing is', 'thing that', 'thing to', 'thing we', 'things', 'things and', 'things are', 'things as', 'things in', 'things that', 'things the', 'things to', 'things we', 'things which', 'things you', 'think', 'think about', 'think and', 'think it', 'think of', 'think that', 'think the', 'think we', 'think you', 'thinker', 'thinkers', 'thinking', 'thinking about', 'thinking and', 'thinking of', 'thinks', 'third', 'thirteen', 'thirty', 'thirty years', 'this and', 'this beautiful', 'this book', 'this country', 'this day', 'this idea', 'this in', 'this is', 'this kind', 'this moment', 'this month', 'this new', 'this notion', 'this one', 'this particular', 'this point', 'this question', 'this sense', 'this the', 'this time', 'this to', 'this very', 'this was', 'this way', 'this week', 'this will', 'this with', 'this wonderful', 'this world', 'this year', 'thomas', 'thompson', 'thoreau', 'thoroughly', 'those', 'those of', 'those that', 'those things', 'those who', 'though', 'though he', 'though it', 'though the', 'though they', 'though we', 'thought', 'thought about', 'thought and', 'thought it', 'thought of', 'thought that', 'thought the', 'thought to', 'thoughtful', 'thoughts', 'thoughts and', 'thoughts on', 'thousand', 'thousand years', 'thousands', 'thousands of', 'thread', 'threads', 'threat', 'three', 'three decades', 'three of', 'three years', 'thrilled', 'thrilling', 'through', 'through his', 'through it', 'through my', 'through our', 'through the', 'through this', 'through which', 'throughout', 'throughout the', 'throw', 'thrown', 'thus', 'tied', 'till', 'tim', 'time', 'time and', 'time as', 'time but', 'time for', 'time he', 'time in', 'time is', 'time it', 'time of', 'time on', 'time that', 'time the', 'time they', 'time to', 'time was', 'time we', 'time when', 'time with', 'time you', 'timeless', 'timeless and', 'timeless wisdom', 'timelessly', 'timely', 'times', 'times and', 'times of', 'tiny', 'tip', 'tips', 'tired', 'title', 'titled', 'titled the', 'to accept', 'to achieve', 'to act', 'to address', 'to admit', 'to all', 'to an', 'to and', 'to another', 'to answer', 'to any', 'to anyone', 'to appreciate', 'to art', 'to as', 'to ask', 'to aspiring', 'to avoid', 'to be', 'to bear', 'to become', 'to begin', 'to being', 'to believe', 'to better', 'to both', 'to break', 'to bring', 'to build', 'to buy', 'to call', 'to capture', 'to carry', 'to celebrate', 'to change', 'to children', 'to choose', 'to come', 'to communicate', 'to connect', 'to consider', 'to continue', 'to convey', 'to cover', 'to create', 'to cultivate', 'to day', 'to death', 'to define', 'to deliver', 'to describe', 'to develop', 'to die', 'to discover', 'to do', 'to draw', 'to each', 'to eat', 'to echo', 'to engage', 'to enjoy', 'to enter', 'to escape', 'to every', 'to everything', 'to examine', 'to exist', 'to experience', 'to explain', 'to explore', 'to express', 'to face', 'to fall', 'to fear', 'to feel', 'to fight', 'to fill', 'to find', 'to follow', 'to forget', 'to form', 'to get', 'to give', 'to go', 'to grasp', 'to great', 'to grow', 'to happen', 'to have', 'to hear', 'to help', 'to her', 'to him', 'to himself', 'to his', 'to history', 'to hold', 'to how', 'to human', 'to illuminate', 'to illustrate', 'to imagine', 'to improve', 'to it', 'to its', 'to just', 'to keep', 'to know', 'to learn', 'to leave', 'to let', 'to life', 'to lift', 'to listen', 'to little', 'to live', 'to look', 'to lose', 'to love', 'to maintain', 'to make', 'to man', 'to master', 'to me', 'to meet', 'to mind', 'to more', 'to move', 'to music', 'to my', 'to myself', 'to new', 'to notice', 'to observe', 'to offer', 'to one', 'to open', 'to other', 'to others', 'to our', 'to ourselves', 'to overcome', 'to paint', 'to pass', 'to pay', 'to people', 'to perform', 'to pick', 'to play', 'to point', 'to produce', 'to protect', 'to prove', 'to pursue', 'to put', 'to question', 'to raise', 'to reach', 'to read', 'to realize', 'to receive', 'to recognize', 'to reconcile', 'to reflect', 'to remain', 'to remember', 'to remind', 'to return', 'to reveal', 'to run', 'to save', 'to say', 'to science', 'to see', 'to seek', 'to self', 'to send', 'to serve', 'to set', 'to shape', 'to share', 'to show', 'to sit', 'to sleep', 'to some', 'to something', 'to speak', 'to spend', 'to stand', 'to start', 'to stay', 'to stop', 'to study', 'to such', 'to support', 'to survive', 'to take', 'to talk', 'to teach', 'to tell', 'to that', 'to their', 'to them', 'to these', 'to think', 'to this', 'to those', 'to time', 'to transcend', 'to transform', 'to treat', 'to try', 'to turn', 'to understand', 'to us', 'to use', 'to walk', 'to watch', 'to what', 'to which', 'to whom', 'to win', 'to women', 'to wonder', 'to work', 'to write', 'to you', 'to young', 'to your', 'today', 'today and', 'today as', 'today in', 'today is', 'today most', 'today the', 'today we', 'together', 'together and', 'together in', 'together with', 'told', 'told me', 'tolkien', 'tolstoy', 'tom', 'tome', 'tomorrow', 'tone', 'tongue', 'toni', 'toni morrison', 'too', 'too many', 'too much', 'too often', 'took', 'took place', 'took the', 'tool', 'tool for', 'tool of', 'tools', 'top', 'top of', 'torn', 'total', 'totality', 'totality complement', 'totally', 'touch', 'touch of', 'touched', 'touches', 'touching', 'tough', 'tour', 'tour of', 'toward', 'toward the', 'towards', 'towards the', 'town', 'toxic', 'trace', 'traces', 'traces the', 'tracing', 'track', 'trade', 'tradition', 'tradition of', 'traditional', 'traditions', 'traffic', 'tragedy', 'tragic', 'trailblazing', 'train', 'trained', 'training', 'transcend', 'transcendence', 'transcendent', 'transform', 'transformation', 'transformative', 'transformed', 'transforming', 'transforms', 'translate', 'translated', 'translation', 'trap', 'trapped', 'trauma', 'travel', 'traveled', 'traveling', 'travels', 'treasure', 'treasure trove', 'treasures', 'treat', 'treat yourself', 'treated', 'treatise', 'treatise on', 'treatment', 'treats', 'tree', 'trees', 'trees and', 'tremendous', 'tremendously', 'trial', 'tribute', 'tribute to', 'trick', 'tricks', 'tried', 'tried to', 'tries', 'tries to', 'trip', 'triumph', 'triumph of', 'triumphs', 'trouble', 'troubled', 'trove', 'trove of', 'true', 'true and', 'true of', 'true that', 'true to', 'truly', 'trust', 'truth', 'truth about', 'truth and', 'truth in', 'truth is', 'truth of', 'truth that', 'truths', 'try', 'try to', 'trying', 'trying to', 'turing', 'turn', 'turn the', 'turn to', 'turned', 'turned out', 'turned to', 'turning', 'turns', 'turns out', 'turns to', 'tv', 'twain', 'twelve', 'twenties', 'twentieth', 'twentieth century', 'twenty', 'twenty five', 'twenty years', 'twice', 'twist', 'twitter', 'two', 'two and', 'two centuries', 'two decades', 'two of', 'two people', 'two things', 'two years', 'type', 'type of', 'types', 'types of', 'typical', 'typography', 'tyranny', 'tyranny of', 'ubiquitous', 'ugly', 'uk', 'ultimate', 'ultimately', 'ulysses', 'unable', 'unable to', 'uncertain', 'uncertainty', 'uncle', 'uncomfortable', 'uncommon', 'uncommonly', 'unconscious', 'unconsciously', 'under', 'under the', 'underground', 'underlying', 'underpinning', 'understand', 'understand and', 'understand it', 'understand that', 'understand the', 'understanding', 'understanding and', 'understanding of', 'understanding the', 'understood', 'undoubtedly', 'unexpected', 'unfamiliar', 'unflinching', 'unfolding', 'unfolds', 'unforgettable', 'unhappiness', 'unhappy', 'union', 'unique', 'united', 'united states', 'unity', 'universal', 'universe', 'universe and', 'universe in', 'universe is', 'universe of', 'universe the', 'university', 'university of', 'unknown', 'unless', 'unless you', 'unlike', 'unlikely', 'unnecessary', 'unparalleled', 'unprecedented', 'unseen', 'until', 'until it', 'until the', 'until they', 'until you', 'unusual', 'unusual and', 'up', 'up against', 'up and', 'up as', 'up at', 'up by', 'up for', 'up from', 'up in', 'up of', 'up on', 'up the', 'up to', 'up with', 'update', 'updike', 'upon', 'upon the', 'upon us', 'upon which', 'upper', 'ups', 'urban', 'urge', 'urgency', 'urgent', 'urges', 'ursula', 'ursula le', 'us', 'us about', 'us all', 'us and', 'us are', 'us as', 'us back', 'us but', 'us by', 'us for', 'us from', 'us how', 'us human', 'us in', 'us into', 'us is', 'us it', 'us more', 'us of', 'us on', 'us so', 'us that', 'us the', 'us to', 'us we', 'us what', 'us who', 'us with', 'use', 'use it', 'use of', 'use the', 'use to', 'used', 'used in', 'used the', 'used to', 'useful', 'useless', 'uses', 'using', 'using the', 'usual', 'usually', 'utterly', 'vacant', 'vague', 'vain', 'valley', 'valuable', 'value', 'value of', 'values', 'values and', 'van', 'van gogh', 'vanity', 'varied', 'variety', 'variety of', 'various', 'varying', 'vast', 'vast majority', 've', 've been', 've come', 've ever', 've got', 've never', 've seen', 'vehicle', 'velocity', 'verse', 'verses', 'version', 'version of', 'versions', 'very', 'very different', 'very first', 'very little', 'very much', 'very very', 'very well', 'via', 'via the', 'vibrant', 'vice', 'victorian', 'victory', 'video', 'view', 'view of', 'viewed', 'views', 'village', 'vincent', 'vintage', 'violence', 'violent', 'virginia', 'virginia woolf', 'virtually', 'virtue', 'virtue of', 'virtues', 'visible', 'vision', 'vision for', 'vision of', 'visionary', 'visions', 'visit', 'visited', 'visiting', 'visual', 'visualization', 'visually', 'vital', 'vitality', 'vitalizing', 'vivid', 'vladimir', 'vladimir nabokov', 'vocabulary', 'voice', 'voice of', 'voice to', 'voices', 'void', 'volume', 'volume of', 'volume that', 'volumes', 'vonnegut', 'voracious', 'vote', 'vs', 'vulnerability', 'vulnerable', 'wait', 'wait for', 'waiting', 'waiting for', 'wake', 'wake up', 'waking', 'walk', 'walked', 'walking', 'walks', 'wall', 'wallace', 'walls', 'walt', 'walt whitman', 'walter', 'wandering', 'want', 'want to', 'wanted', 'wanted to', 'wanting', 'wanting to', 'wants', 'wants to', 'war', 'war and', 'warm', 'warm and', 'warming', 'warmth', 'wars', 'was able', 'was about', 'was also', 'was always', 'was among', 'was an', 'was as', 'was at', 'was born', 'was eventually', 'was going', 'was his', 'was in', 'was it', 'was just', 'was like', 'was never', 'was no', 'was not', 'was on', 'was once', 'was one', 'was only', 'was published', 'was so', 'was something', 'was still', 'was that', 'was the', 'was there', 'was to', 'was too', 'was very', 'washington', 'wasn', 'waste', 'watch', 'watch the', 'watched', 'watching', 'water', 'water and', 'watercolor', 'waters', 'watts', 'wave', 'waves', 'way', 'way and', 'way for', 'way in', 'way it', 'way of', 'way that', 'way the', 'way they', 'way to', 'way we', 'way you', 'ways', 'ways in', 'ways of', 'ways that', 'ways to', 'we all', 'we also', 'we are', 'we become', 'we begin', 'we believe', 'we call', 'we can', 'we cannot', 'we choose', 'we come', 'we could', 'we do', 'we don', 'we experience', 'we fall', 'we feel', 'we find', 'we forget', 'we get', 'we go', 'we got', 'we had', 'we have', 'we know', 'we learn', 'we like', 'we live', 'we ll', 'we look', 'we lose', 'we love', 'we make', 'we may', 'we might', 'we must', 'we need', 'we never', 'we now', 'we often', 'we re', 'we read', 'we really', 'we see', 'we shall', 'we should', 'we spend', 'we still', 'we take', 'we tend', 'we think', 'we try', 'we turn', 'we understand', 'we use', 'we ve', 'we want', 'we were', 'we will', 'we would', 'weak', 'weakness', 'wealth', 'wealth of', 'weapon', 'wear', 'wearing', 'weather', 'web', 'website', 'week', 'weeks', 'weight', 'weight of', 'weil', 'weird', 'welcome', 'well', 'well and', 'well as', 'well being', 'wellspring', 'wellspring of', 'wendy', 'wendy macnaughton', 'went', 'went on', 'went to', 'were', 'were in', 'were not', 'were the', 'were to', 'weren', 'west', 'western', 'what are', 'what can', 'what do', 'what does', 'what emerges', 'what exactly', 'what had', 'what happened', 'what happens', 'what has', 'what have', 'what he', 'what if', 'what is', 'what it', 'what made', 'what makes', 'what matters', 'what one', 'what our', 'what remains', 'what she', 'what the', 'what they', 'what to', 'what was', 'what we', 'what will', 'what would', 'what you', 'what your', 'whatever', 'whatever the', 'wheel', 'when he', 'when in', 'when it', 'when one', 'when people', 'when she', 'when the', 'when there', 'when they', 'when was', 'when we', 'when you', 'whenever', 'where', 'where he', 'where it', 'where she', 'where the', 'where they', 'where we', 'where you', 'whereas', 'wherein', 'wherever', 'whether', 'whether it', 'whether or', 'whether the', 'whether they', 'whether we', 'whether you', 'which all', 'which also', 'which are', 'which can', 'which gave', 'which had', 'which has', 'which have', 'which he', 'which in', 'which is', 'which it', 'which makes', 'which may', 'which means', 'which one', 'which our', 'which she', 'which the', 'which they', 'which this', 'which to', 'which was', 'which we', 'which were', 'which will', 'which would', 'which you', 'while', 'while it', 'while the', 'while we', 'while you', 'whimsical', 'whimsy', 'white', 'white and', 'whitman', 'who also', 'who are', 'who can', 'who could', 'who do', 'who had', 'who has', 'who have', 'who in', 'who is', 'who knows', 'who was', 'who we', 'who were', 'who will', 'who would', 'who you', 'whoever', 'whole', 'whole new', 'whole of', 'whole world', 'wholeness', 'wholly', 'whom', 'whom he', 'whom she', 'whom the', 'whom we', 'whose', 'whose work', 'why', 'why do', 'why he', 'why is', 'why it', 'why not', 'why the', 'why they', 'why we', 'why you', 'wide', 'wide ranging', 'widely', 'wider', 'wife', 'wild', 'wilde', 'wilderness', 'wildly', 'will', 'will always', 'will and', 'will be', 'will come', 'will do', 'will find', 'will go', 'will have', 'will make', 'will never', 'will not', 'will take', 'will to', 'william', 'william blake', 'william faulkner', 'william james', 'williams', 'willing', 'willing to', 'willingness', 'willingness to', 'wilson', 'win', 'wind', 'window', 'windows', 'wine', 'wings', 'winning', 'winter', 'wired', 'wisdom', 'wisdom and', 'wisdom from', 'wisdom in', 'wisdom of', 'wisdom on', 'wise', 'wish', 'wish to', 'wished', 'wishes', 'wit', 'wit and', 'with all', 'with an', 'with and', 'with another', 'with each', 'with equal', 'with great', 'with her', 'with him', 'with his', 'with it', 'with its', 'with life', 'with little', 'with love', 'with me', 'with more', 'with my', 'with nature', 'with new', 'with no', 'with one', 'with other', 'with others', 'with our', 'with people', 'with remarkable', 'with some', 'with something', 'with such', 'with that', 'with the', 'with their', 'with them', 'with these', 'with this', 'with those', 'with time', 'with two', 'with uncommon', 'with us', 'with what', 'with which', 'with whom', 'with you', 'with your', 'within', 'within the', 'within us', 'without', 'without any', 'without it', 'without the', 'witness', 'witness to', 'witnessed', 'witty', 'wolf', 'woman', 'woman and', 'woman in', 'woman of', 'woman to', 'woman who', 'women', 'women and', 'women in', 'women who', 'won', 'wonder', 'wonder and', 'wondered', 'wonderful', 'wonderfully', 'wondering', 'wonderland', 'wonders', 'wondrous', 'wood', 'wooden', 'woods', 'woolf', 'woolf on', 'word', 'word and', 'words', 'words and', 'words are', 'words in', 'words of', 'words that', 'words the', 'words to', 'work', 'work and', 'work as', 'work at', 'work but', 'work for', 'work in', 'work is', 'work of', 'work on', 'work that', 'work the', 'work to', 'work with', 'worked', 'worker', 'workers', 'working', 'working in', 'working on', 'working with', 'workings', 'workings of', 'works', 'works and', 'works of', 'world', 'world and', 'world around', 'world as', 'world but', 'world first', 'world for', 'world has', 'world he', 'world in', 'world is', 'world it', 'world most', 'world of', 'world that', 'world the', 'world to', 'world war', 'world was', 'world we', 'world where', 'world which', 'world with', 'worlds', 'worldwide', 'worn', 'worry', 'worry about', 'worse', 'worship', 'worst', 'worth', 'worth living', 'worth of', 'worth the', 'worthwhile', 'worthy', 'worthy of', 'would', 'would be', 'would become', 'would come', 'would go', 'would have', 'would later', 'would like', 'would make', 'would never', 'would not', 'would take', 'would you', 'wouldn', 'wouldn be', 'woven', 'wrapped', 'write', 'write about', 'write and', 'write in', 'write the', 'write to', 'writer', 'writer and', 'writer is', 'writer of', 'writer to', 'writer who', 'writers', 'writers and', 'writers of', 'writes', 'writes in', 'writes it', 'writes of', 'writes the', 'writes there', 'writes to', 'writes we', 'writing', 'writing about', 'writing and', 'writing for', 'writing in', 'writing is', 'writing the', 'writing to', 'writings', 'written', 'written about', 'written and', 'written by', 'written in', 'written word', 'wrong', 'wrong with', 'wrote', 'wrote in', 'wrote the', 'wrote to', 'wwii', 'year', 'year after', 'year and', 'year of', 'year old', 'year the', 'years', 'years after', 'years ago', 'years and', 'years before', 'years earlier', 'years in', 'years later', 'years of', 'years old', 'years the', 'years to', 'yellow', 'yes', 'yesterday', 'yet', 'yet another', 'yet he', 'yet in', 'yet it', 'yet the', 'yet to', 'yet we', 'yield', 'york', 'york city', 'york public', 'york times', 'yorker', 'you and', 'you are', 'you as', 'you be', 'you believe', 'you but', 'you can', 'you cannot', 'you come', 'you could', 'you do', 'you don', 'you ever', 'you feel', 'you find', 'you for', 'you from', 'you get', 'you go', 'you had', 'you have', 'you how', 'you in', 'you is', 'you just', 'you know', 'you like', 'you ll', 'you look', 'you love', 'you make', 'you may', 'you might', 'you must', 'you need', 'you never', 'you or', 'you re', 'you really', 'you say', 'you see', 'you should', 'you take', 'you that', 'you the', 'you think', 'you to', 'you ve', 'you want', 'you were', 'you what', 'you will', 'you with', 'you would', 'you you', 'young', 'young and', 'young man', 'young people', 'young reader', 'young woman', 'younger', 'youngest', 'your', 'your body', 'your brain', 'your eyes', 'your head', 'your heart', 'your life', 'your mind', 'your own', 'your soul', 'your work', 'yours', 'yourself', 'yourself and', 'yourself in', 'yourself to', 'youth', 'zadie', 'zadie smith', 'zen', 'zwerger']\n"
     ]
    },
    {
     "ename": "AttributeError",
     "evalue": "'numpy.ndarray' object has no attribute 'toarray'",
     "output_type": "error",
     "traceback": [
      "\u001b[0;31m---------------------------------------------------------------------------\u001b[0m",
      "\u001b[0;31mAttributeError\u001b[0m                            Traceback (most recent call last)",
      "\u001b[0;32m<ipython-input-17-eee17a0171b9>\u001b[0m in \u001b[0;36m<module>\u001b[0;34m\u001b[0m\n\u001b[1;32m      1\u001b[0m \u001b[0mprint\u001b[0m\u001b[0;34m(\u001b[0m\u001b[0mTFIDF\u001b[0m\u001b[0;34m.\u001b[0m\u001b[0mget_feature_names\u001b[0m\u001b[0;34m(\u001b[0m\u001b[0;34m)\u001b[0m\u001b[0;34m)\u001b[0m\u001b[0;34m\u001b[0m\u001b[0;34m\u001b[0m\u001b[0m\n\u001b[0;32m----> 2\u001b[0;31m \u001b[0mprint\u001b[0m\u001b[0;34m(\u001b[0m\u001b[0mX\u001b[0m\u001b[0;34m.\u001b[0m\u001b[0mtoarray\u001b[0m\u001b[0;34m(\u001b[0m\u001b[0;34m)\u001b[0m\u001b[0;34m)\u001b[0m\u001b[0;34m\u001b[0m\u001b[0;34m\u001b[0m\u001b[0m\n\u001b[0m",
      "\u001b[0;31mAttributeError\u001b[0m: 'numpy.ndarray' object has no attribute 'toarray'"
     ]
    }
   ],
   "source": [
    "print(TFIDF.get_feature_names())"
   ]
  },
  {
   "cell_type": "code",
   "execution_count": 34,
   "metadata": {},
   "outputs": [
    {
     "data": {
      "text/plain": [
       "1"
      ]
     },
     "execution_count": 34,
     "metadata": {},
     "output_type": "execute_result"
    }
   ],
   "source": [
    "y_train[467]"
   ]
  },
  {
   "cell_type": "code",
   "execution_count": 24,
   "metadata": {},
   "outputs": [
    {
     "ename": "KeyboardInterrupt",
     "evalue": "",
     "output_type": "error",
     "traceback": [
      "\u001b[0;31m---------------------------------------------------------------------------\u001b[0m",
      "\u001b[0;31mKeyboardInterrupt\u001b[0m                         Traceback (most recent call last)",
      "\u001b[0;32m<ipython-input-24-e9067fd8da22>\u001b[0m in \u001b[0;36m<module>\u001b[0;34m\u001b[0m\n\u001b[0;32m----> 1\u001b[0;31m \u001b[0;34m[\u001b[0m\u001b[0msum\u001b[0m\u001b[0;34m(\u001b[0m\u001b[0mx\u001b[0m\u001b[0;34m)\u001b[0m \u001b[0;32mfor\u001b[0m \u001b[0mx\u001b[0m \u001b[0;32min\u001b[0m \u001b[0mzip\u001b[0m\u001b[0;34m(\u001b[0m\u001b[0;34m*\u001b[0m\u001b[0mX\u001b[0m\u001b[0;34m)\u001b[0m\u001b[0;34m]\u001b[0m\u001b[0;34m\u001b[0m\u001b[0;34m\u001b[0m\u001b[0m\n\u001b[0m",
      "\u001b[0;32m<ipython-input-24-e9067fd8da22>\u001b[0m in \u001b[0;36m<listcomp>\u001b[0;34m(.0)\u001b[0m\n\u001b[0;32m----> 1\u001b[0;31m \u001b[0;34m[\u001b[0m\u001b[0msum\u001b[0m\u001b[0;34m(\u001b[0m\u001b[0mx\u001b[0m\u001b[0;34m)\u001b[0m \u001b[0;32mfor\u001b[0m \u001b[0mx\u001b[0m \u001b[0;32min\u001b[0m \u001b[0mzip\u001b[0m\u001b[0;34m(\u001b[0m\u001b[0;34m*\u001b[0m\u001b[0mX\u001b[0m\u001b[0;34m)\u001b[0m\u001b[0;34m]\u001b[0m\u001b[0;34m\u001b[0m\u001b[0;34m\u001b[0m\u001b[0m\n\u001b[0m",
      "\u001b[0;31mKeyboardInterrupt\u001b[0m: "
     ]
    }
   ],
   "source": [
    "[sum(x) for x in zip(*X_train)]"
   ]
  },
  {
   "cell_type": "markdown",
   "metadata": {},
   "source": [
    "#### 1.3.1 Logistic regression"
   ]
  },
  {
   "cell_type": "code",
   "execution_count": 13,
   "metadata": {},
   "outputs": [
    {
     "data": {
      "text/plain": [
       "LogisticRegression()"
      ]
     },
     "execution_count": 13,
     "metadata": {},
     "output_type": "execute_result"
    }
   ],
   "source": [
    "lr = LogisticRegression()\n",
    "lr.fit(X_train, y_train.ravel())"
   ]
  },
  {
   "cell_type": "code",
   "execution_count": 14,
   "metadata": {},
   "outputs": [
    {
     "name": "stdout",
     "output_type": "stream",
     "text": [
      "0.93 accuracy with a standard deviation of 0.00\n"
     ]
    }
   ],
   "source": [
    "scores = cross_val_score(estimator=lr, X=X_train, y=y_train)\n",
    "print(\"%0.2f accuracy with a standard deviation of %0.2f\" % (scores.mean(), scores.std()))"
   ]
  },
  {
   "cell_type": "code",
   "execution_count": 15,
   "metadata": {
    "tags": []
   },
   "outputs": [
    {
     "name": "stdout",
     "output_type": "stream",
     "text": [
      "              precision    recall  f1-score   support\n",
      "\n",
      "           0       0.93      0.92      0.92       457\n",
      "           1       0.92      0.93      0.92       457\n",
      "\n",
      "    accuracy                           0.92       914\n",
      "   macro avg       0.92      0.92      0.92       914\n",
      "weighted avg       0.92      0.92      0.92       914\n",
      "\n"
     ]
    },
    {
     "data": {
      "image/png": "[encoded data removed]",
      "text/plain": [
       "<Figure size 432x288 with 1 Axes>"
      ]
     },
     "metadata": {
      "needs_background": "light"
     },
     "output_type": "display_data"
    }
   ],
   "source": [
    "#No peeking!\n",
    "preds = lr.predict(X_test)\n",
    "print(metrics.classification_report(y_test, preds))\n",
    "metrics.plot_confusion_matrix(lr, X_test, y_test, cmap=\"gray\", colorbar=False);"
   ]
  },
  {
   "cell_type": "code",
   "execution_count": null,
   "metadata": {},
   "outputs": [],
   "source": [
    "# calculate the fpr and tpr for all thresholds of the classification\n",
    "probs = lr.predict_proba(X_test)\n",
    "fpr, tpr, threshold = metrics.roc_curve(y_test, probs[:,1])\n",
    "roc_auc = metrics.auc(fpr, tpr)\n",
    "#from sklearn examples\n",
    "plt.title('Receiver Operating Characteristic')\n",
    "plt.plot(fpr, tpr, 'b', label = 'AUC = %0.2f' % roc_auc)\n",
    "plt.legend(loc = 'lower right')\n",
    "plt.plot([0, 1], [0, 1],'r--')\n",
    "plt.ylabel('True Positive Rate')\n",
    "plt.xlabel('False Positive Rate');"
   ]
  },
  {
   "cell_type": "code",
   "execution_count": null,
   "metadata": {},
   "outputs": [],
   "source": [
    "#from sklearn examples\n",
    "average_precision = metrics.average_precision_score(y_test, preds)\n",
    "print('Average precision-recall score: {0:0.2f}'.format(average_precision))\n",
    "disp = metrics.plot_precision_recall_curve(lr, X_test, y_test)\n",
    "disp.ax_.set_title('Precision-Recall curve: '\n",
    "                   'AP={0:0.2f}'.format(average_precision));"
   ]
  },
  {
   "cell_type": "code",
   "execution_count": null,
   "metadata": {},
   "outputs": [],
   "source": [
    "errors = np.where(np.array(y_test) != preds)[0]\n",
    "X_errors = X_test[errors]"
   ]
  },
  {
   "cell_type": "code",
   "execution_count": null,
   "metadata": {},
   "outputs": [],
   "source": [
    "errors_ix=[]\n",
    "#this finally worked, phew\n",
    "for ix, x1 in enumerate(X):\n",
    "    for x2 in X_errors:\n",
    "        if np.array_equal(x1,x2):\n",
    "            errors_ix.append(ix)"
   ]
  },
  {
   "cell_type": "code",
   "execution_count": null,
   "metadata": {
    "tags": []
   },
   "outputs": [],
   "source": [
    "#yeah! errorframe\n",
    "error_df = df.iloc[errors_ix]\n",
    "\n",
    "f,ax = plt.subplots(figsize=(9,5))\n",
    "ax.hist(df.date.dt.year, alpha=.6, density=True, bins=14, label=\"total articles written\")\n",
    "ax.hist(error_df.date.dt.year, alpha=.6, density=True, bins=11, label=\"misclassified articles\")\n",
    "ax.set_title(\"Logistic model error percentiles by year\")\n",
    "ax.legend();"
   ]
  },
  {
   "cell_type": "markdown",
   "metadata": {},
   "source": [
    "Had this result been anything else, I'd suspect foul play. The model is right 91 percent of the time almost out-of-the-box. I divided the corpus in half rather arbitrarily. Nothing changed suddenly to make Popova a different writer (that I know of.) Writing styles change gradually and the model appears to truly be capturing this shift very well. (Had there been no spike in the 2014 transistion, I would assume the model had found a way to fit to the date secretly coded somewhere in the text and then I would reach out to Dan Brown to decode the hidden symbology.)"
   ]
  },
  {
   "cell_type": "markdown",
   "metadata": {},
   "source": [
    "#### 1.3.2 Random forest"
   ]
  },
  {
   "cell_type": "code",
   "execution_count": null,
   "metadata": {},
   "outputs": [],
   "source": [
    "rf = RandomForestClassifier(n_estimators=200, criterion=\"entropy\")\n",
    "rf.fit(X_train, y_train)"
   ]
  },
  {
   "cell_type": "code",
   "execution_count": null,
   "metadata": {},
   "outputs": [],
   "source": [
    "#90 to 91\n",
    "scores = cross_val_score(estimator=rf, X=X_train, y=y_train)\n",
    "print(\"%0.2f accuracy with a standard deviation of %0.2f\" % (scores.mean(), scores.std()))"
   ]
  },
  {
   "cell_type": "code",
   "execution_count": null,
   "metadata": {},
   "outputs": [],
   "source": [
    "#from sklearn example\n",
    "trees=[1,2,3,4,5,6,7,99,500]\n",
    "train_scores, test_scores = validation_curve(\n",
    "    estimator=rf, X=X_train, y=y_train,\n",
    "    param_name=\"n_estimators\", param_range=trees)\n",
    "\n",
    "param_range = trees\n",
    "train_scores_mean = np.mean(train_scores, axis=1)\n",
    "train_scores_std = np.std(train_scores, axis=1)\n",
    "test_scores_mean = np.mean(test_scores, axis=1)\n",
    "test_scores_std = np.std(test_scores, axis=1)\n",
    "plt.title(\"Validation Curve: Random Forest n_estimators\")\n",
    "plt.xlabel(\"trees\")\n",
    "plt.ylabel(\"Score\")\n",
    "plt.ylim(0.0, 1.1)\n",
    "lw = 2\n",
    "plt.semilogx(param_range, train_scores_mean, label=\"Training score\",\n",
    "             color=\"darkorange\", lw=lw)\n",
    "plt.fill_between(param_range, train_scores_mean - train_scores_std,\n",
    "                 train_scores_mean + train_scores_std, alpha=0.2,\n",
    "                 color=\"darkorange\", lw=lw)\n",
    "plt.semilogx(param_range, test_scores_mean, label=\"Cross-validation score\",\n",
    "             color=\"navy\", lw=lw)\n",
    "plt.fill_between(param_range, test_scores_mean - test_scores_std,\n",
    "                 test_scores_mean + test_scores_std, alpha=0.2,\n",
    "                 color=\"navy\", lw=lw)\n",
    "plt.legend(loc=\"best\")\n",
    "plt.show()"
   ]
  },
  {
   "cell_type": "code",
   "execution_count": null,
   "metadata": {},
   "outputs": [],
   "source": [
    "param_grid = {'n_estimators': [100],\n",
    "              'max_features': ['sqrt', 'log2'],\n",
    "              'max_depth' : [15, 20, 25], #original 6,9,12\n",
    "              'criterion' : ['gini', 'entropy']}\n",
    "clf = GridSearchCV(RandomForestClassifier(random_state=36), param_grid, scoring='accuracy')\n",
    "clf.fit(X_train, y_train)"
   ]
  },
  {
   "cell_type": "code",
   "execution_count": null,
   "metadata": {},
   "outputs": [],
   "source": [
    "print(clf.best_params_)"
   ]
  },
  {
   "cell_type": "code",
   "execution_count": null,
   "metadata": {
    "tags": []
   },
   "outputs": [],
   "source": [
    "print(rf.score(X_test, y_test))\n",
    "metrics.plot_confusion_matrix(rf, X_test, y_test, cmap=\"gray\", colorbar=False);"
   ]
  },
  {
   "cell_type": "code",
   "execution_count": null,
   "metadata": {},
   "outputs": [],
   "source": [
    "feat_scores = pd.Series(rf.feature_importances_, index=vocabulary)\n",
    "feat_scores = feat_scores.sort_values()\n",
    "ax = feat_scores[-10:].plot(kind='barh', figsize=(7,5), color='magenta')\n",
    "ax.set_title('Average Gini Importance')\n",
    "ax.set_xlabel('Average contribution to information gain');"
   ]
  },
  {
   "cell_type": "markdown",
   "metadata": {},
   "source": [
    "#### 1.3.3 Naive Bayes\n",
    "\n",
    "For shits and gigs. Features are dependent, no?"
   ]
  },
  {
   "cell_type": "code",
   "execution_count": null,
   "metadata": {},
   "outputs": [],
   "source": [
    "nb = GaussianNB()\n",
    "nb.fit(X_train, y_train)"
   ]
  },
  {
   "cell_type": "code",
   "execution_count": null,
   "metadata": {},
   "outputs": [],
   "source": [
    "print(nb.score(X_test, y_test))\n",
    "plot_confusion_matrix(nb, X_test, y_test, cmap=\"gray\", colorbar=False);"
   ]
  },
  {
   "cell_type": "markdown",
   "metadata": {},
   "source": [
    "#### 1.3.4 Spacy "
   ]
  },
  {
   "cell_type": "code",
   "execution_count": null,
   "metadata": {},
   "outputs": [],
   "source": [
    "import string\n",
    "from spacy.lang.en.stop_words import STOP_WORDS\n",
    "from spacy.lang.en import English\n",
    "\n",
    "# Create our list of punctuation marks\n",
    "punctuations = string.punctuation\n",
    "\n",
    "# Create our list of stopwords\n",
    "nlp = spacy.load('en')\n",
    "stop_words = spacy.lang.en.stop_words.STOP_WORDS\n",
    "\n",
    "# Load English tokenizer, tagger, parser, NER and word vectors\n",
    "parser = English()\n",
    "\n",
    "# Creating our tokenizer function\n",
    "def spacy_tokenizer(sentence):\n",
    "    # Creating our token object, which is used to create documents with linguistic annotations.\n",
    "    mytokens = parser(sentence)\n",
    "\n",
    "    # Lemmatizing each token and converting each token into lowercase\n",
    "    mytokens = [ word.lemma_.lower().strip() if word.lemma_ != \"-PRON-\" else word.lower_ for word in mytokens ]\n",
    "\n",
    "    # Removing stop words\n",
    "    mytokens = [ word for word in mytokens if word not in stop_words and word not in punctuations ]\n",
    "\n",
    "    # return preprocessed list of tokens\n",
    "    return mytokens"
   ]
  },
  {
   "cell_type": "code",
   "execution_count": null,
   "metadata": {},
   "outputs": [],
   "source": []
  },
  {
   "cell_type": "markdown",
   "metadata": {},
   "source": [
    "### 2. A multi-label problem\n",
    "#### Make classes based on tags"
   ]
  },
  {
   "cell_type": "code",
   "execution_count": null,
   "metadata": {
    "tags": []
   },
   "outputs": [],
   "source": [
    "art, science, love, poetry, cinema, philosophy, psychology  = [],[],[],[],[],[],[]\n",
    "\n",
    "for ix, tag in enumerate(df.tags):\n",
    "    if re.match(\".* art,.*\", tag) or re.match(\"art,.*\", tag): art.append(ix)\n",
    "\n",
    "for ix, tag in enumerate(df.tags):\n",
    "    if re.match(\".*science,.*\", tag): science.append(ix)"
   ]
  },
  {
   "cell_type": "code",
   "execution_count": null,
   "metadata": {},
   "outputs": [],
   "source": [
    "art_df=df.iloc[art]\n",
    "art_df[\"art\"]=1\n",
    "\n",
    "sci_df=df.iloc[science]\n",
    "sci_df[\"art\"]=0\n",
    "\n",
    "df = pd.concat([art_df, sci_df])\n",
    "\n",
    "# ~250 articles are duplicates, tagged both art and science\n",
    "# I remove them but is it a multi-label problem?\n",
    "df=df[df.index.value_counts()==1]\n",
    "df2=df2.reset_index(drop=True)"
   ]
  },
  {
   "cell_type": "markdown",
   "metadata": {},
   "source": [
    "### Science/art tag classes"
   ]
  },
  {
   "cell_type": "code",
   "execution_count": null,
   "metadata": {},
   "outputs": [],
   "source": [
    "y = df2.art\n",
    "y.value_counts()"
   ]
  },
  {
   "cell_type": "code",
   "execution_count": null,
   "metadata": {},
   "outputs": [],
   "source": [
    "X_train, X_test, y_train, y_test = train_test_split(X_scale, y, test_size=0.2,\n",
    "                                                    stratify=y, random_state=36)"
   ]
  },
  {
   "cell_type": "code",
   "execution_count": null,
   "metadata": {},
   "outputs": [],
   "source": [
    "X_train.shape"
   ]
  },
  {
   "cell_type": "code",
   "execution_count": null,
   "metadata": {},
   "outputs": [],
   "source": [
    "#oversample science class\n",
    "X_train, y_train = SMOTE().fit_resample(X_train, y_train.ravel())"
   ]
  },
  {
   "cell_type": "code",
   "execution_count": null,
   "metadata": {},
   "outputs": [],
   "source": [
    "X_train.shape"
   ]
  },
  {
   "cell_type": "markdown",
   "metadata": {},
   "source": [
    "### Logistic regression"
   ]
  },
  {
   "cell_type": "code",
   "execution_count": null,
   "metadata": {},
   "outputs": [],
   "source": [
    "lr = LogisticRegression()\n",
    "lr.fit(X_train, y_train.ravel())\n",
    "preds = lr.predict(X_test)"
   ]
  },
  {
   "cell_type": "code",
   "execution_count": null,
   "metadata": {},
   "outputs": [],
   "source": [
    "print(classification_report(y_test, preds))"
   ]
  },
  {
   "cell_type": "code",
   "execution_count": null,
   "metadata": {},
   "outputs": [],
   "source": [
    "plot_confusion_matrix(lr, X_test, y_test);"
   ]
  },
  {
   "cell_type": "markdown",
   "metadata": {},
   "source": [
    "### EXTRA: Spacy"
   ]
  },
  {
   "cell_type": "code",
   "execution_count": null,
   "metadata": {},
   "outputs": [],
   "source": [
    "# Load English tokenizer, tagger, parser and NER\n",
    "nlp = spacy.load(\"en_core_web_md\") #or sm"
   ]
  },
  {
   "cell_type": "code",
   "execution_count": null,
   "metadata": {
    "tags": []
   },
   "outputs": [],
   "source": [
    "# Process whole documents\n",
    "doc = nlp(df.content[1111])\n",
    "\n",
    "# Analyze syntax\n",
    "print(\"Noun phrases:\", [chunk.text for chunk in doc.noun_chunks])\n",
    "print(\"Verbs:\", [token.lemma_ for token in doc if token.pos_ == \"VERB\"])\n",
    "\n",
    "# Find named entities, phrases and concepts\n",
    "for entity in doc.ents:\n",
    "    print(entity.text, entity.label_)\n",
    "    \n",
    "sentence_spans = list(doc.sents)"
   ]
  },
  {
   "cell_type": "code",
   "execution_count": null,
   "metadata": {
    "tags": []
   },
   "outputs": [],
   "source": [
    "displacy.serve(sentence_spans[3], style=\"ent\")"
   ]
  },
  {
   "cell_type": "code",
   "execution_count": null,
   "metadata": {
    "tags": []
   },
   "outputs": [],
   "source": [
    "displacy.serve(sentence_spans[3], style=\"dep\", options={\"compact\":True, \"color\":\"#FFFFFF\", \"bg\":\"#448ee4\"})"
   ]
  },
  {
   "cell_type": "markdown",
   "metadata": {},
   "source": [
    "### NMF (unsupervised)"
   ]
  },
  {
   "cell_type": "code",
   "execution_count": null,
   "metadata": {},
   "outputs": [],
   "source": [
    "nmf = NMF(n_components=4, max_iter=400)\n",
    "nmf.fit(X)"
   ]
  },
  {
   "cell_type": "code",
   "execution_count": null,
   "metadata": {},
   "outputs": [],
   "source": [
    "H = nmf.components_\n",
    "H.shape"
   ]
  },
  {
   "cell_type": "code",
   "execution_count": null,
   "metadata": {},
   "outputs": [],
   "source": [
    "for i, row in enumerate(H):\n",
    "    top = np.argsort(row)[::-1][:15]\n",
    "    print(i, ', '.join(vocabulary[top]))"
   ]
  },
  {
   "cell_type": "markdown",
   "metadata": {},
   "source": [
    "### Stop the presses, random forest 90 percent accurate tag classifier"
   ]
  },
  {
   "cell_type": "code",
   "execution_count": null,
   "metadata": {},
   "outputs": [],
   "source": [
    "rf = RandomForestClassifier(n_estimators=500, max_depth=15)\n",
    "rf.fit(X_train, y_train)"
   ]
  },
  {
   "cell_type": "code",
   "execution_count": null,
   "metadata": {},
   "outputs": [],
   "source": [
    "rf.score(X_test, y_test)\n",
    "plot_confusion_matrix(rf, X_test, y_test);"
   ]
  },
  {
   "cell_type": "code",
   "execution_count": null,
   "metadata": {},
   "outputs": [],
   "source": [
    "plot_confusion_matrix(rf, X_test, y_test);"
   ]
  },
  {
   "cell_type": "code",
   "execution_count": null,
   "metadata": {},
   "outputs": [],
   "source": [
    "feat_scores = pd.Series(rf.feature_importances_,\n",
    "                           index=vocabulary)\n",
    "feat_scores = feat_scores.sort_values()\n",
    "ax = feat_scores[-20:].plot(kind='barh', \n",
    "                      figsize=(7,5),\n",
    "                      color='r')\n",
    "ax.set_title('Average Gini Importance')\n",
    "ax.set_xlabel('Average contribution to information gain');"
   ]
  },
  {
   "cell_type": "code",
   "execution_count": null,
   "metadata": {},
   "outputs": [],
   "source": [
    "clf = GradientBoostingClassifier(n_estimators=500,\n",
    "                                 learning_rate=0.05,\n",
    "                                 max_depth=20, random_state=36).fit(X_train, y_train)\n",
    "clf.score(X_test, y_test)"
   ]
  },
  {
   "cell_type": "code",
   "execution_count": null,
   "metadata": {},
   "outputs": [],
   "source": []
  }
 ],
 "metadata": {
  "kernelspec": {
   "display_name": "Python 3",
   "language": "python",
   "name": "python3"
  },
  "language_info": {
   "codemirror_mode": {
    "name": "ipython",
    "version": 3
   },
   "file_extension": ".py",
   "mimetype": "text/x-python",
   "name": "python",
   "nbconvert_exporter": "python",
   "pygments_lexer": "ipython3",
   "version": "3.8.5"
  }
 },
 "nbformat": 4,
 "nbformat_minor": 4
}
