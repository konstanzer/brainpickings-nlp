{
 "cells": [
  {
   "cell_type": "code",
   "execution_count": 1,
   "metadata": {},
   "outputs": [],
   "source": [
    "# Auto Reload\n",
    "%load_ext autoreload\n",
    "%autoreload 2"
   ]
  },
  {
   "cell_type": "code",
   "execution_count": 2,
   "metadata": {},
   "outputs": [],
   "source": [
    "# Import Modules\n",
    "from collections import Counter\n",
    "import numpy as np\n",
    "import pandas as pd\n",
    "import re\n",
    "import matplotlib.pyplot as plt\n",
    "from bs4 import BeautifulSoup\n",
    "import json\n",
    "from pprint import pprint\n",
    "import string\n",
    "from sklearn.feature_extraction.text import TfidfVectorizer\n",
    "from sklearn.feature_extraction.text import CountVectorizer\n",
    "from math import log"
   ]
  },
  {
   "cell_type": "code",
   "execution_count": 3,
   "metadata": {},
   "outputs": [
    {
     "name": "stderr",
     "output_type": "stream",
     "text": [
      "[nltk_data] Downloading package punkt to\n",
      "[nltk_data]     /Users/stevennewton/nltk_data...\n",
      "[nltk_data]   Package punkt is already up-to-date!\n",
      "[nltk_data] Downloading package stopwords to\n",
      "[nltk_data]     /Users/stevennewton/nltk_data...\n",
      "[nltk_data]   Package stopwords is already up-to-date!\n",
      "[nltk_data] Downloading package wordnet to\n",
      "[nltk_data]     /Users/stevennewton/nltk_data...\n",
      "[nltk_data]   Package wordnet is already up-to-date!\n"
     ]
    }
   ],
   "source": [
    "# NLTK Modules\n",
    "import nltk\n",
    "nltk.download('punkt')\n",
    "nltk.download('stopwords')\n",
    "nltk.download('wordnet')\n",
    "from nltk.stem.porter import PorterStemmer\n",
    "from nltk.tokenize import word_tokenize\n",
    "from nltk.stem.snowball import SnowballStemmer\n",
    "from nltk.stem.wordnet import WordNetLemmatizer\n",
    "from nltk.corpus import stopwords"
   ]
  },
  {
   "cell_type": "code",
   "execution_count": 100,
   "metadata": {},
   "outputs": [],
   "source": [
    "import seaborn as sns\n",
    "import matplotlib.pyplot as plt"
   ]
  },
  {
   "cell_type": "code",
   "execution_count": 33,
   "metadata": {},
   "outputs": [],
   "source": [
    "# Import Data\n",
    "df = pd.read_csv('data/articles.csv', index_col='index')"
   ]
  },
  {
   "cell_type": "code",
   "execution_count": 52,
   "metadata": {},
   "outputs": [],
   "source": [
    "df.date = pd.to_datetime(df.date)"
   ]
  },
  {
   "cell_type": "code",
   "execution_count": 60,
   "metadata": {
    "collapsed": true,
    "jupyter": {
     "outputs_hidden": true
    },
    "tags": []
   },
   "outputs": [
    {
     "data": {
      "text/html": [
       "<div>\n",
       "<style scoped>\n",
       "    .dataframe tbody tr th:only-of-type {\n",
       "        vertical-align: middle;\n",
       "    }\n",
       "\n",
       "    .dataframe tbody tr th {\n",
       "        vertical-align: top;\n",
       "    }\n",
       "\n",
       "    .dataframe thead th {\n",
       "        text-align: right;\n",
       "    }\n",
       "</style>\n",
       "<table border=\"1\" class=\"dataframe\">\n",
       "  <thead>\n",
       "    <tr style=\"text-align: right;\">\n",
       "      <th></th>\n",
       "      <th>title</th>\n",
       "      <th>url</th>\n",
       "      <th>date</th>\n",
       "      <th>tags</th>\n",
       "      <th>words</th>\n",
       "      <th>content</th>\n",
       "    </tr>\n",
       "    <tr>\n",
       "      <th>index</th>\n",
       "      <th></th>\n",
       "      <th></th>\n",
       "      <th></th>\n",
       "      <th></th>\n",
       "      <th></th>\n",
       "      <th></th>\n",
       "    </tr>\n",
       "  </thead>\n",
       "  <tbody>\n",
       "    <tr>\n",
       "      <th>5694</th>\n",
       "      <td>Immunity, Interdependence, and the Shared Root...</td>\n",
       "      <td>https://www.brainpickings.org/2021/03/19/eula-...</td>\n",
       "      <td>2021-03-19</td>\n",
       "      <td>philosophy, science, books, eula-biss, culture...</td>\n",
       "      <td>1897</td>\n",
       "      <td>Months after Rachel Carson’s  Silent Spring   ...</td>\n",
       "    </tr>\n",
       "    <tr>\n",
       "      <th>5695</th>\n",
       "      <td>Of Trees, Tenderness, and the Moon: Hasui Kawa...</td>\n",
       "      <td>https://www.brainpickings.org/2021/03/22/hasui...</td>\n",
       "      <td>2021-03-22</td>\n",
       "      <td>hasui-kawase, culture, art, trees, japan,</td>\n",
       "      <td>817</td>\n",
       "      <td>“After you have exhausted what there is in bus...</td>\n",
       "    </tr>\n",
       "    <tr>\n",
       "      <th>5696</th>\n",
       "      <td>Our Greatest Misunderstanding About Love: Phil...</td>\n",
       "      <td>https://www.brainpickings.org/2021/03/23/esthe...</td>\n",
       "      <td>2021-03-23</td>\n",
       "      <td>philosophy, esther-perel, love, culture, anima...</td>\n",
       "      <td>423</td>\n",
       "      <td>In his revelatory 1956 classic  The Art of Lov...</td>\n",
       "    </tr>\n",
       "    <tr>\n",
       "      <th>5697</th>\n",
       "      <td>Secrets from the Center of the World: Poet Joy...</td>\n",
       "      <td>https://www.brainpickings.org/2021/03/25/secre...</td>\n",
       "      <td>2021-03-25</td>\n",
       "      <td>joy-harjo, science, books, stephen-strom, cult...</td>\n",
       "      <td>1165</td>\n",
       "      <td>“Place and a mind may interpenetrate till the ...</td>\n",
       "    </tr>\n",
       "    <tr>\n",
       "      <th>5698</th>\n",
       "      <td>Seeking an Aurora: A Wondrous Illustrated Cele...</td>\n",
       "      <td>https://www.brainpickings.org/2021/03/28/seeki...</td>\n",
       "      <td>2021-03-28</td>\n",
       "      <td>science, books, space, culture, art, illustrat...</td>\n",
       "      <td>692</td>\n",
       "      <td>In 1621, already questioning his life in the p...</td>\n",
       "    </tr>\n",
       "  </tbody>\n",
       "</table>\n",
       "</div>"
      ],
      "text/plain": [
       "                                                   title  \\\n",
       "index                                                      \n",
       "5694   Immunity, Interdependence, and the Shared Root...   \n",
       "5695   Of Trees, Tenderness, and the Moon: Hasui Kawa...   \n",
       "5696   Our Greatest Misunderstanding About Love: Phil...   \n",
       "5697   Secrets from the Center of the World: Poet Joy...   \n",
       "5698   Seeking an Aurora: A Wondrous Illustrated Cele...   \n",
       "\n",
       "                                                     url       date  \\\n",
       "index                                                                 \n",
       "5694   https://www.brainpickings.org/2021/03/19/eula-... 2021-03-19   \n",
       "5695   https://www.brainpickings.org/2021/03/22/hasui... 2021-03-22   \n",
       "5696   https://www.brainpickings.org/2021/03/23/esthe... 2021-03-23   \n",
       "5697   https://www.brainpickings.org/2021/03/25/secre... 2021-03-25   \n",
       "5698   https://www.brainpickings.org/2021/03/28/seeki... 2021-03-28   \n",
       "\n",
       "                                                    tags  words  \\\n",
       "index                                                             \n",
       "5694   philosophy, science, books, eula-biss, culture...   1897   \n",
       "5695          hasui-kawase, culture, art, trees, japan,     817   \n",
       "5696   philosophy, esther-perel, love, culture, anima...    423   \n",
       "5697   joy-harjo, science, books, stephen-strom, cult...   1165   \n",
       "5698   science, books, space, culture, art, illustrat...    692   \n",
       "\n",
       "                                                 content  \n",
       "index                                                     \n",
       "5694   Months after Rachel Carson’s  Silent Spring   ...  \n",
       "5695   “After you have exhausted what there is in bus...  \n",
       "5696   In his revelatory 1956 classic  The Art of Lov...  \n",
       "5697   “Place and a mind may interpenetrate till the ...  \n",
       "5698   In 1621, already questioning his life in the p...  "
      ]
     },
     "execution_count": 60,
     "metadata": {},
     "output_type": "execute_result"
    }
   ],
   "source": [
    "df.tail()"
   ]
  },
  {
   "cell_type": "code",
   "execution_count": 91,
   "metadata": {
    "tags": []
   },
   "outputs": [
    {
     "name": "stdout",
     "output_type": "stream",
     "text": [
      "Maria Popova has published 5084198 words & 5698 articles!\n",
      "The average article length is 892 words.\n",
      "The articles span 13.6 years.\n",
      "Over that time, she has published an article every 21 hours!\n"
     ]
    }
   ],
   "source": [
    "word_count = sum(df[\"words\"])\n",
    "art_count = len(df[\"title\"])\n",
    "#print(df.date[-1:] - df.date[1])\n",
    "print(\"Maria Popova has published \" + str(word_count) + \" words & \" + str(art_count) + \" articles!\")\n",
    "print(\"The average article length is \" + str(int(word_count/art_count)) + \" words.\")\n",
    "print(\"The articles span \" + str(round(4959/365.25, 1)) + \" years.\")\n",
    "print(\"Over that time, she has published an article every \" + str(round(4959*24/art_count)) + \" hours!\")"
   ]
  },
  {
   "cell_type": "markdown",
   "metadata": {},
   "source": [
    "King James Bible: 783,137 words\n",
    "\n",
    "In Search of Lost Time (7 vols.): 1.27 million words\n",
    "\n",
    "Game of Thrones (5 vols.): 1.74 million\n",
    "\n",
    "Outlander series (8 vols.): 3.17 million words (7,533 pages)"
   ]
  },
  {
   "cell_type": "code",
   "execution_count": 125,
   "metadata": {},
   "outputs": [
    {
     "data": {
      "text/plain": [
       "3170425"
      ]
     },
     "execution_count": 125,
     "metadata": {},
     "output_type": "execute_result"
    }
   ],
   "source": [
    "#Outlander\n",
    "283910 + 338430 + 380770 + 390050 + 482850 + 502860 + 400055 + 391500"
   ]
  },
  {
   "cell_type": "code",
   "execution_count": 149,
   "metadata": {},
   "outputs": [
    {
     "data": {
      "image/png": "[encoded data removed]",
      "text/plain": [
       "<Figure size 432x288 with 1 Axes>"
      ]
     },
     "metadata": {
      "needs_background": "light"
     },
     "output_type": "display_data"
    }
   ],
   "source": [
    "words = dict(Bible=783000, Proust=1270000, Martin=1740000, Gabaldon=3170000, Popova=5080000)\n",
    "ax =sns.barplot(x=list(words.keys()), y=list(words.values()), palette=\"mako\")\n",
    "ax.set(ylabel='total words (millions)');"
   ]
  },
  {
   "cell_type": "code",
   "execution_count": 106,
   "metadata": {},
   "outputs": [],
   "source": [
    "year_counts = df.date.groupby(df.date.dt.year).agg(\"count\")"
   ]
  },
  {
   "cell_type": "code",
   "execution_count": 147,
   "metadata": {},
   "outputs": [
    {
     "data": {
      "image/png": "[encoded data removed]",
      "text/plain": [
       "<Figure size 432x288 with 1 Axes>"
      ]
     },
     "metadata": {
      "needs_background": "light"
     },
     "output_type": "display_data"
    }
   ],
   "source": [
    "ax = sns.barplot(x=year_counts.index, y=year_counts.values, color=\"yellow\")\n",
    "ax.set(xlabel='year', ylabel='articles published')\n",
    "plt.xticks(rotation=34);"
   ]
  },
  {
   "cell_type": "code",
   "execution_count": 150,
   "metadata": {},
   "outputs": [],
   "source": [
    "# Create Documents\n",
    "documents = df['content'][:100] #first "
   ]
  },
  {
   "cell_type": "code",
   "execution_count": 155,
   "metadata": {
    "tags": []
   },
   "outputs": [
    {
     "data": {
      "text/plain": [
       "'BEYOND NASCAR Making waves with a new website launch is so hard these days, what with taken domain names and beaten been-done-before concepts. Alas, newcomer  Stuff White People Like , having dodged both 2.0 kisses of death, is off to a critically acclaimed start — and we think it has sprouted a new trend we like to call “affectionate stereotyping.” But sensationalist title aside, the witty blog doesn’t actually talk about race at all — it’s more about a certain economic subset united by the common gene for Christopher Guest movies, “The” bands, Whole Foods, Nordic furniture, and Obama. And, somehow, it manages to capture those tastes surprisingly well, indulging the shared disdain for certain mainstream pastimes (say, television) to nail the exceptions (say,  The Wire .)   In fact, it does it so well you should consider yourself warned: you may end up feeling like a far too common, albeit culturally elitist, walking clichè. Do you have  bad memories of high school ? Listen to  public radio ? Got a lot of  t-shirts ?  Hate  “The Man”?  Recycle ? Then you’re a figurative “white person.” They even got us on the  Michel Gondry  front. Shame. See the  full list , then join us in a disillusioned head-down retreat to the “white person” factory.  But, in all seriousness, this is easily the smartest blog we’ve come across in a long time. Between all the “affectionate stereotyping” and the captivating, witty voice, it somehow manages to ask all the big questions of identity, society, culture, politics and life. Plato couldn’t have done it better himself — despite his quintessential ancient white personness. LARGER THAN LIFE Speaking of social trends, could fat be the new phat? We’re not talking about the acclaimed but oh-so-over- discussed  Real Women of Dove , who are actually quite the hot stuff.  We’re talking way, um, realer. Like the “models” British celeb megaboober Katie Pierce, who goes by the alter ego Jordan, used in the  launch  of her eponymous lingerie line. The 29-year-old Anna-Nicolesque Brit tapped girls from her fan club to do the job — we’re resisting a joke about her “biggest admirers.” Unsuccessfully. Then there’s the  Big Ballet  — another U.K. phenomenon that,  Turkey Lake  jokes aside, has been said to put good ol’ skinny ballet acts to shame. In fact, the tour has gotten so big the ensemble is extremely hard to book. But, really, there’s a King Pin in fat town.  Big Fat Deal  has been around since 2004, dissecting with snark and irreverence the pop culture portrayals of weight and “hottyness.” But the blog, written by the mysterious duo of  Weetabix  and  mo pie , has enjoyed a recent  spike  in popularity. It’s even got a  Facebook group .    We’re pretty ambivalent about the premise here — BFD works under the “fat acceptance” mantra — given our tax dollars are paying for the costs of obesity. But we must admit good questions are being asked and good points are being made. Like how come fat women  feel betrayed  when a fat celebrity gets back into shape? And why are fat people expected to slim down, but get mocked when they  exercise ? Trans-fat-loaded food for thought,  have a bite . MEMOIRS OF NOSTRADAMUS We like the present. Mostly because it’s a lot like us: egocentric. So we’ve always dug indulgences like  Today In Music History . But because we’re all about making people uncomfortable this week, we turn to times when the present was less of a gift: a “today in disaster history” dose of morbidity brought to you by  The Living Almanac of Disasters . Earthquakes. Fires. Floods. Crashes. Eruptions. Collisions. Bombings. It’s got it all. Twenty-eight years ago today, for example, 22 members of the US boxing team died in a crash in Poland. Or on our birthday, when in 1945 the Empire State Building took its first hit by an airplane. So  check  your birthday. Your anniversary. (Like you need another disaster on that date.) The day you lost your virginity. Hey, let’s go crazy: the day you had your first prostate exam. Superstition stopping you? Phsh. UNTRIVIA  If all the disaster talk got you paranoid, here’s a refreshing reality check about what could actually kill you and with what likelihood. Because common availability bias (our tendency to overestimate the statistical prevalence of things we’re bombarded with in the media or have experienced ourselves) can really do a number on your objectivity.  So here are your chances of dying from select non-health-related causes in the U.S.: Motor vehicle accident:                1 in 100 Homicide:                                        1 in 300 Fire:                                                 1 in 800 Firearms accident:                        1 in 2,500 Electrocution:                                1 in 5,000 Asteroid/comet impact:            1 in 20,000 Passenger in aircraft accident:    1 in 20,000 Flood:                                              1 in 30,000 Tornado:                                          1 in 60,000 POLICE POLICE And now for some real controversy — how much transparency should there be in government? According to  Rate My Cop , an online forum where people voice raves and rants about police officers, a lot. Under the tagline “You have the right to remain informed,” the privately-held website aims to do just that — keep citizens informed about the positives and negatives of the police force serving them. Because, after all, the police is a public service — so giving the public a say is only natural. Especially in light of the infamous  Cop vs. Skater  video of uncalled for police brutality that garnered over 4 million views in under a month. The site encourages people to rate — anonymously but responsibly — each encounter they have with a police officer. And while we dig the concept of citizen empowerment through information and conversation, we wonder whether in this day and age of  American Idol  text voting and mass bandwagoning just for the sake of it, rating something as serious as the national police force may become a petty game of saying anything just to avoid saying nothing. URGE TO PURGE Our product pick this week is the latest book by famed  New Yorker  cartoonist S. Gross.  We Have Ways of Making You Laugh: 120 Funny Swastika Cartoons  is, from the paradoxically comic title to the very last page of stellar artwork, an exercise in purging some of history’s heaviest burdens through humor.  In the publisher’s own words: “These witty, beautifully rendered images gleefully stomp through the darkest moments in history and remind us that humor can diffuse our unspoken fears and deflate an overwrought icon.” Which resonates nicely with one of our favorite quotes by author and humorist Mary Hirsch. “Humor is a rubber sword — ” she says, “it allows you to make a point without drawing blood.” That, and it’s funnier than watching other people’s cats fall in toilets on YouTube. LITTLE CHOP OF HORRORS Found  Saw  disturbing? Thought  No Country For Old Men  was gratuitously violent? Then don’t go anywhere near what’s already being dubbed this year’s most disturbing film:  Funny Games . It’s the latest work in English by acclaimed Austrian director  Michael Haneke  of  CachÃ©  fame, starring (of course) the supreme Naomi Watts. It’s about a well-off  all-American family forced to make excruciating decisions about each other’s fates as they are all taken hostage by a ruthless duo of psychotic young misanthropes. And it’s already  making waves  in the critics circles. Now, we’ve done a few brief stints in the psychology of violence and its effects on human thought, especially children. So we’re often thrown off by the gratuitous violence of today’s entertainment.  But it’s interesting to see something that puts violence in the context of moral choice, making people extremely uncomfortable not by virtue of the violence itself but by posing the big, uncomfortable human questions. Get uncomfortable  starting March 14 at a theater near you. OUTMANNING THE MAN As if there isn’t enough  controversy  in today’s music industry already, one artist is doing the unthinkable:  Jill Sobule  is asking fans to  fund her next record . That’s all the clearly  talented  singer-songwriter could do after she got dumped by two major record labels and two indie ones went bankrupt on her tenure. (Her ego must be on life support.) She’s offering  12 levels  of “pledges” fans can donate to: for $10, you get a digital download of the album once it’s made; at the $200 “silver level,” you get free admission to all her shows this year; then there’s the $500 “gold level” wherein Jill gets to mention your name in a song — you can upgrade that to the $750 “gold doubloons level,” which Jill says is “exactly like the gold level, but you give [her] more money.” (Gotta love it.) Or, you can go all-out with the $10,000 “weapons-grade plutonium level” in which you get to actually sing on her CD. We give her points for extreme inventiveness. But points don’t get you published — she set a $75,000 goal. Well, guess what — in a little over a month, she more than met it and capped out at  $80,782 . How’s that for proving Kevin Kelly’s brilliant  1000 True Fans  theory right? And we must say this ultimate power-to-the-people thing is pretty awesome — traditionally, fans have always played a huge role in the music industry because their buying power ultimately decides what succeeds. But why not empower them even further back in the music production process, letting them decide not just what sells but also what gets made in the first place? Smart, we say, smart. IMAGE AND LIKENESS Alison Jackson  has been on our radar for quite some time. We weren’t sure what to make of her work — she shoots celebrity lookalikes in  classic paparazzi scenarios  to a strikingly realistic effect, indulging us with what we secretly hope to see our favorite celebs doing. But then we heard her rather thought-provoking  TED talk  (aren’t they all?) and had a thought: Her work is being criticized for glorifying the cheap business of tabloid and celebrity even more, but it actually does the very opposite: it makes us really think about why we’re drawn to celebrity culture in the first place. It makes all those pop culture idols seem like nothing more than packageable images.  And it’s those superficial images we consume, not the real values of the people behind them — otherwise, why would lookalikes elicit the same emotional responses from us that real celebrity snapshots do? Take a  peek . '"
      ]
     },
     "execution_count": 155,
     "metadata": {},
     "output_type": "execute_result"
    }
   ],
   "source": [
    "documents[33]"
   ]
  },
  {
   "cell_type": "code",
   "execution_count": 24,
   "metadata": {},
   "outputs": [],
   "source": [
    "# Set Stop Words\n",
    "stop = set(stopwords.words('english'))\n",
    "# Set Stop Punctuations\n",
    "puncs = set(string.punctuation)\n",
    "# Merge Stops\n",
    "full_stop = stop.union(puncs)\n",
    "# full_stop"
   ]
  },
  {
   "cell_type": "code",
   "execution_count": 26,
   "metadata": {},
   "outputs": [],
   "source": [
    "# Tokenize Words from Documents\n",
    "tokens = [word_tokenize(doc.lower()) for doc in documents]\n",
    "\n",
    "# Filter each token for stop words\n",
    "#doc_filter = [filter_tokens(token, full_stop) for token in tokens]"
   ]
  },
  {
   "cell_type": "markdown",
   "metadata": {},
   "source": [
    "# Compare Stemming/Lemmatization"
   ]
  },
  {
   "cell_type": "code",
   "execution_count": 10,
   "metadata": {},
   "outputs": [],
   "source": [
    "porter = PorterStemmer()\n",
    "snowball = SnowballStemmer('english')\n",
    "wordnet = WordNetLemmatizer()\n",
    "\n",
    "docs_porter = [[porter.stem(word) for word in words]\n",
    "               for words in doc_filter]\n",
    "docs_snowball = [[snowball.stem(word) for word in words]\n",
    "                 for words in doc_filter]\n",
    "docs_wordnet = [[wordnet.lemmatize(word) for word in words]\n",
    "                for words in doc_filter]"
   ]
  },
  {
   "cell_type": "markdown",
   "metadata": {},
   "source": [
    "### Results"
   ]
  },
  {
   "cell_type": "code",
   "execution_count": 11,
   "metadata": {},
   "outputs": [
    {
     "name": "stdout",
     "output_type": "stream",
     "text": [
      "            WORD |           PORTER |         SNOWBALL |       LEMMATIZER |\n",
      "         hovered |            hover |            hover |          hovered |\n",
      "          looked |             look |             look |           looked |\n",
      "      helicopter |         helicopt |         helicopt |       helicopter |\n",
      "          stayed |             stay |             stay |           stayed |\n",
      "     disappeared |        disappear |        disappear |      disappeared |\n",
      "         appears |           appear |           appear |          appears |\n",
      "              us |               us |               us |                u |\n",
      "      consistent |          consist |          consist |       consistent |\n",
      "        sighting |            sight |            sight |         sighting |\n",
      "           venus |             venu |            venus |            venus |\n"
     ]
    }
   ],
   "source": [
    "## Print the stemmed and lemmatized words from the first document\n",
    "print(\"%16s | %16s | %16s | %16s |\" % (\"WORD\", \"PORTER\", \"SNOWBALL\", \"LEMMATIZER\"))\n",
    "for i in range(min(len(docs_porter[0]), len(docs_snowball[0]), len(docs_wordnet[0]))):\n",
    "    p, s, w = docs_porter[0][i], docs_snowball[0][i], docs_wordnet[0][i]\n",
    "    if len(set((p, s, w))) != 1:\n",
    "        print(\"%16s | %16s | %16s | %16s |\" % (doc_filter[0][i], p, s, w))"
   ]
  },
  {
   "cell_type": "markdown",
   "metadata": {},
   "source": [
    "### Snowball Stemmer Chosen\n",
    "> We chose to stem the words with the Snowball Stemmer due to its preservation of important words for this usecase such as 'venus'\n",
    "\n",
    "\n",
    "> The Snowball Stemmmer normalizes these words from its appeared form into their root form"
   ]
  },
  {
   "cell_type": "code",
   "execution_count": 12,
   "metadata": {},
   "outputs": [],
   "source": [
    "# Stem Words in Each Document\n",
    "clean_tokens = [list(map(snowball.stem, sent)) for sent in doc_filter]\n",
    "# clean_tokens"
   ]
  },
  {
   "cell_type": "code",
   "execution_count": 13,
   "metadata": {},
   "outputs": [
    {
     "data": {
      "text/plain": [
       "set()"
      ]
     },
     "execution_count": 13,
     "metadata": {},
     "output_type": "execute_result"
    }
   ],
   "source": [
    "# Check for stray tokens (ones with weird puncs, not alphabetical strings)\n",
    "strays = []\n",
    "for i in range(len(clean_tokens)):\n",
    "#     print(\"--- sentence tokens (lemmatize): {}\".format(tokens_lemmatize[i]))\n",
    "    for word in clean_tokens[i]:\n",
    "        if not word.isalpha():\n",
    "            strays.append(word)\n",
    "set(strays)"
   ]
  },
  {
   "cell_type": "markdown",
   "metadata": {},
   "source": [
    "### Turn Cleaned Tokens into Series"
   ]
  },
  {
   "cell_type": "code",
   "execution_count": 14,
   "metadata": {},
   "outputs": [],
   "source": [
    "# Documents to series\n",
    "document_series = pd.Series([\" \".join(x) for x in clean_tokens])"
   ]
  },
  {
   "cell_type": "code",
   "execution_count": 15,
   "metadata": {},
   "outputs": [
    {
     "data": {
      "text/plain": [
       "\"Light seen over mountain's east of Camp McGregor.  It hovered in one spot.  It looked like a helicopter light at first.  But it was way to bright.  Then it went to a higher height.  Stayed there for a while.  Then disappeared.((NUFORC Note:  Report appears to us to be consistent with the sighting of Venus.  PD))\""
      ]
     },
     "execution_count": 15,
     "metadata": {},
     "output_type": "execute_result"
    }
   ],
   "source": [
    "documents[0]"
   ]
  },
  {
   "cell_type": "code",
   "execution_count": 16,
   "metadata": {},
   "outputs": [
    {
     "data": {
      "text/plain": [
       "'light seen mountain east camp mcgregor hover one spot look like helicopt light first way bright went higher height stay disappear nuforc note report appear us consist sight venus pd'"
      ]
     },
     "execution_count": 16,
     "metadata": {},
     "output_type": "execute_result"
    }
   ],
   "source": [
    "document_series[0]"
   ]
  },
  {
   "cell_type": "markdown",
   "metadata": {},
   "source": [
    "### Get Term Frequency"
   ]
  },
  {
   "cell_type": "code",
   "execution_count": 17,
   "metadata": {},
   "outputs": [],
   "source": [
    "# term occurence = counting distinct words in each bag\n",
    "term_occ = [Counter(doc) for doc in clean_tokens]\n",
    "# term_occ"
   ]
  },
  {
   "cell_type": "markdown",
   "metadata": {},
   "source": [
    "The number of times a term occurs in a specific document:\n",
    "\n",
    "$tf(term,document) = \\frac{\\# \\ of \\ times \\ a \\ term \\ appears \\ in \\ a \\ document}{\\#\\ of\\ terms\\ in\\ the\\ document|}$"
   ]
  },
  {
   "cell_type": "code",
   "execution_count": 18,
   "metadata": {},
   "outputs": [
    {
     "data": {
      "text/plain": [
       "{'light': 0.06666666666666667,\n",
       " 'seen': 0.03333333333333333,\n",
       " 'mountain': 0.03333333333333333,\n",
       " 'east': 0.03333333333333333,\n",
       " 'camp': 0.03333333333333333,\n",
       " 'mcgregor': 0.03333333333333333,\n",
       " 'hover': 0.03333333333333333,\n",
       " 'one': 0.03333333333333333,\n",
       " 'spot': 0.03333333333333333,\n",
       " 'look': 0.03333333333333333,\n",
       " 'like': 0.03333333333333333,\n",
       " 'helicopt': 0.03333333333333333,\n",
       " 'first': 0.03333333333333333,\n",
       " 'way': 0.03333333333333333,\n",
       " 'bright': 0.03333333333333333,\n",
       " 'went': 0.03333333333333333,\n",
       " 'higher': 0.03333333333333333,\n",
       " 'height': 0.03333333333333333,\n",
       " 'stay': 0.03333333333333333,\n",
       " 'disappear': 0.03333333333333333,\n",
       " 'nuforc': 0.03333333333333333,\n",
       " 'note': 0.03333333333333333,\n",
       " 'report': 0.03333333333333333,\n",
       " 'appear': 0.03333333333333333,\n",
       " 'us': 0.03333333333333333,\n",
       " 'consist': 0.03333333333333333,\n",
       " 'sight': 0.03333333333333333,\n",
       " 'venus': 0.03333333333333333,\n",
       " 'pd': 0.03333333333333333}"
      ]
     },
     "execution_count": 18,
     "metadata": {},
     "output_type": "execute_result"
    }
   ],
   "source": [
    "term_freq = list()\n",
    "for i in range(len(clean_tokens)):\n",
    "    term_freq.append( {k: (v / float(len(clean_tokens[i])))\n",
    "                       for k, v in term_occ[i].items()} )\n",
    "term_freq[0]"
   ]
  },
  {
   "cell_type": "markdown",
   "metadata": {},
   "source": [
    "### Get Document Frequencies\n",
    "\n",
    "$df(term,corpus) = \\frac{ \\# \\ of \\ documents \\ that \\ contain \\ a \\ term}{ \\# \\ of \\ documents \\ in \\ the \\ corpus}$"
   ]
  },
  {
   "cell_type": "code",
   "execution_count": 28,
   "metadata": {},
   "outputs": [],
   "source": [
    "doc_occ = Counter( [word for token in clean_tokens for word in set(token)] )\n",
    "\n",
    "doc_freq = {k: (v / float(len(clean_tokens)))\n",
    "            for k, v in doc_occ.items()}\n",
    "\n",
    "# doc_freq"
   ]
  },
  {
   "cell_type": "code",
   "execution_count": 20,
   "metadata": {},
   "outputs": [
    {
     "name": "stdout",
     "output_type": "stream",
     "text": [
      "light:  0.6767676767676768\n",
      "look:  0.5252525252525253\n",
      "sky:  0.5656565656565656\n",
      "saw:  0.5151515151515151\n",
      "move:  0.5858585858585859\n"
     ]
    }
   ],
   "source": [
    "# See words with a high frequency threshhold 50%\n",
    "thresh = 0.5\n",
    "for word, freq in doc_freq.items():\n",
    "    if freq >= thresh:\n",
    "        print(f\"{word}:  {freq}\")"
   ]
  },
  {
   "cell_type": "markdown",
   "metadata": {},
   "source": [
    "### Get Vocabulary"
   ]
  },
  {
   "cell_type": "code",
   "execution_count": 21,
   "metadata": {},
   "outputs": [
    {
     "name": "stdout",
     "output_type": "stream",
     "text": [
      "-- vocabulary (len=5): ['light', 'look', 'sky', 'saw', 'move']\n"
     ]
    }
   ],
   "source": [
    "# the minimum document frequency (in proportion of the length of the corpus)\n",
    "min_df = 0.5\n",
    "\n",
    "# filtering items to obtain the vocabulary\n",
    "vocabulary = [ k for k,v in doc_freq.items() if v >= min_df ]\n",
    "\n",
    "# print vocabulary\n",
    "print (\"-- vocabulary (len={}): {}\".format(len(vocabulary),vocabulary))"
   ]
  },
  {
   "cell_type": "code",
   "execution_count": 22,
   "metadata": {},
   "outputs": [
    {
     "data": {
      "text/plain": [
       "(array([ 0.1,  0.2,  0.3,  0.4,  0.5,  0.6,  0.7,  0.8,  0.9,  1. ]),\n",
       " [157, 54, 15, 10, 5, 1, 0, 0, 0, 0])"
      ]
     },
     "execution_count": 22,
     "metadata": {},
     "output_type": "execute_result"
    },
    {
     "data": {
      "image/png": "[encoded data removed]",
      "text/plain": [
       "<Figure size 792x504 with 1 Axes>"
      ]
     },
     "metadata": {
      "needs_background": "light"
     },
     "output_type": "display_data"
    }
   ],
   "source": [
    "# Plot Minimum Document Frequency Threshold\n",
    "x = np.arange(0.1, 1.1, 0.1)\n",
    "vocab_y = [len([ k for k,v in doc_freq.items() if v >= thresh ]) for thresh in x]\n",
    "\n",
    "fig, ax = plt.subplots(figsize=(11, 7))\n",
    "\n",
    "ax.bar(x, vocab_y, width=0.1)\n",
    "\n",
    "ax.set_xlim([0,1])\n",
    "ax.set_title(\"Minimum Document Frequency Thresholds\")\n",
    "\n",
    "ax.set_xticks(x)\n",
    "\n",
    "ax.set_xlabel(\"DF Threshold\")\n",
    "ax.set_ylabel(\"Length of Vocabulary\")\n",
    "\n",
    "for i, j in zip(x, vocab_y):\n",
    "    ax.axhline(j, color='r')\n",
    "\n",
    "x, vocab_y"
   ]
  },
  {
   "cell_type": "code",
   "execution_count": 23,
   "metadata": {},
   "outputs": [
    {
     "name": "stdout",
     "output_type": "stream",
     "text": [
      "-- vocabulary (len=157): ['light', 'look', 'nuforc', 'helicopt', 'first', 'bright', 'pd', 'disappear', 'way', 'went', 'sight', 'report', 'seen', 'us', 'one', 'like', 'east', 'appear', 'note', 'hover', 'could', 'sky', 'provid', 'elect', 'stationari', 'star', 'inform', 'anonym', 'contact', 'remain', 'sourc', 'travel', 'notic', 'fli', 'someth', 'approxim', 'clear', 'see', 'would', 'wit', 'sound', 'come', 'direct', 'near', 'craft', 'saw', 'west', 'air', 'north', 'feet', 'object', 'tree', 'mayb', 'shape', 'side', 'view', 'size', 'orang', 'circl', 'never', 'hous', 'gone', 'pass', 'time', 'seem', 'move', 'low', 'almost', 'straight', 'white', 'plane', 'still', 'anoth', 'know', 'quick', 'toward', 'made', 'outsid', 'normal', 'stop', 'make', 'flash', 'mile', 'distanc', 'high', 'insid', 'chang', 'thought', 'go', 'minut', 'back', 'second', 'watch', 'show', 'around', 'two', 'ball', 'even', 'away', 'night', 'south', 'thing', 'came', 'point', 'color', 'end', 'green', 'complet', 'take', 'drive', 'reflect', 'window', 'line', 'nois', 'noth', 'ufo', 'blue', 'left', 'speed', 'red', 'behind', 'live', 'area', 'aircraft', 'get', 'slowli', 'head', 'flew', 'glow', 'across', 'right', 'slow', 'phone', 'fast', 'also', 'larg', 'home', 'cloud', 'big', 'tri', 'photo', 'indic', 'turn', 'video', 'three', 'got', 'eye', 'float', 'moon', 'face', 'street', 'later', 'front', 'observ', 'start', 'visibl', 'think']\n",
      "-- vocabulary (len=54): ['light', 'look', 'nuforc', 'first', 'bright', 'pd', 'disappear', 'went', 'sight', 'report', 'seen', 'one', 'like', 'east', 'appear', 'note', 'could', 'sky', 'provid', 'elect', 'inform', 'anonym', 'contact', 'remain', 'sourc', 'notic', 'see', 'would', 'wit', 'sound', 'direct', 'craft', 'saw', 'west', 'object', 'shape', 'time', 'seem', 'move', 'white', 'plane', 'still', 'stop', 'thought', 'go', 'minut', 'back', 'second', 'watch', 'around', 'two', 'night', 'south', 'get']\n",
      "-- vocabulary (len=15): ['light', 'look', 'nuforc', 'bright', 'pd', 'report', 'one', 'like', 'note', 'could', 'sky', 'see', 'saw', 'object', 'move']\n",
      "-- vocabulary (len=10): ['light', 'look', 'nuforc', 'pd', 'like', 'note', 'sky', 'saw', 'object', 'move']\n",
      "-- vocabulary (len=5): ['light', 'look', 'sky', 'saw', 'move']\n",
      "-- vocabulary (len=1): ['light']\n",
      "-- vocabulary (len=0): []\n",
      "-- vocabulary (len=0): []\n",
      "-- vocabulary (len=0): []\n",
      "-- vocabulary (len=0): []\n"
     ]
    }
   ],
   "source": [
    "all_vocabs = [[ k for k,v in doc_freq.items() if v >= thresh ] for thresh in x]\n",
    "for vocab in all_vocabs:\n",
    "    print(\"-- vocabulary (len={}): {}\".format(len(vocab),vocab))"
   ]
  },
  {
   "cell_type": "code",
   "execution_count": 24,
   "metadata": {},
   "outputs": [],
   "source": [
    "state_df = clean_df.groupby('state')[\"content\"]"
   ]
  },
  {
   "cell_type": "markdown",
   "metadata": {},
   "source": [
    "# Language Processing"
   ]
  },
  {
   "cell_type": "markdown",
   "metadata": {},
   "source": [
    "### Create TFIDF Vector\n",
    "\n",
    "$df(term,corpus) = \\frac{ \\# \\ of \\ documents \\ that \\ contain \\ a \\ term}{ \\# \\ of \\ documents \\ in \\ the \\ corpus}$\n",
    "\n",
    "The inverse document frequency is defined in terms of the document frequency as\n",
    "\n",
    "$idf(term,corpus) = \\log{\\frac{1}{df(term,corpus)}}$.\n",
    "\n",
    "\n",
    "TF-IDF is an acronym for the product of two parts: the term frequency tf and what is called the inverse document frequency idf. The term frequency is just the counts in a term frequency vector. \n",
    "\n",
    "tf-idf $ = tf(term,document) * idf(term,corpus)$"
   ]
  },
  {
   "cell_type": "code",
   "execution_count": 25,
   "metadata": {},
   "outputs": [],
   "source": [
    "tf = CountVectorizer()\n",
    "\n",
    "document_tf_matrix = tf.fit_transform(document_series).todense()\n",
    "\n",
    "#print(tf.vocabulary_)\n",
    "#print(document_tf_matrix)"
   ]
  },
  {
   "cell_type": "code",
   "execution_count": 26,
   "metadata": {},
   "outputs": [],
   "source": [
    "def idf(frequency_matrix):\n",
    "    df =  float(len(document_tf_matrix)) / sum(frequency_matrix > 0)\n",
    "    return [log(i) for i in df.getA()[0]]\n",
    "#print(sorted(tf.vocabulary_))\n",
    "#print(idf(document_tf_matrix))"
   ]
  },
  {
   "cell_type": "code",
   "execution_count": 27,
   "metadata": {},
   "outputs": [
    {
     "name": "stdout",
     "output_type": "stream",
     "text": [
      "['abl', 'abrupt', 'absolut', 'acceler', 'accord', 'account', 'acknowledg', 'acr', 'across', 'act', 'activ', 'actual', 'addendum', 'address', 'adjac', 'adrenalin', 'advertis', 'aerial', 'aerodynam', 'afbwhil', 'afraid', 'afternoon', 'againmi', 'agil', 'agl', 'ago', 'agre', 'ahead', 'air', 'aircraft', 'airforc', 'airlin', 'airplan', 'airplanew', 'airport', 'alabama', 'alarm', 'albani', 'albuquerqu', 'alien', 'alleg', 'allow', 'almost', 'alon', 'along', 'alot', 'alreadi', 'also', 'although', 'altitud', 'altitudei', 'aluminum', 'alway', 'amaz', 'amber', 'amend', 'anchorag', 'andi', 'andrew', 'angel', 'angl', 'anniston', 'anonym', 'anoth', 'answer', 'antiqu', 'anxieti', 'anybodi', 'anymor', 'anyon', 'anyth', 'anywher', 'apart', 'appar', 'appear', 'appendag', 'approach', 'approx', 'approxim', 'approximatley', 'april', 'aprox', 'arang', 'arc', 'arch', 'area', 'arizona', 'arm', 'armi', 'around', 'arrang', 'array', 'arrow', 'asap', 'ascertain', 'ask', 'asleep', 'aspirin', 'assum', 'asteroid', 'aswel', 'ate', 'atmospher', 'attach', 'attend', 'attent', 'austin', 'avenu', 'await', 'awaken', 'away', 'az', 'back', 'backdoor', 'backyard', 'baker', 'balconi', 'ball', 'balloon', 'barona', 'base', 'basketbal', 'bc', 'beacon', 'beam', 'beauti', 'becam', 'becker', 'becom', 'bed', 'bedroom', 'befo', 'began', 'behind', 'believ', 'bell', 'bellow', 'belt', 'best', 'better', 'beyond', 'big', 'bigger', 'binocular', 'biologist', 'bird', 'bit', 'bizarr', 'black', 'blackhawk', 'blade', 'blend', 'blew', 'blink', 'block', 'blow', 'blue', 'blueish', 'bluff', 'bluish', 'blurri', 'bob', 'bodi', 'boe', 'bolt', 'bonn', 'boom', 'boon', 'boston', 'bottom', 'bound', 'box', 'boyfriend', 'break', 'breakdown', 'brentwood', 'brick', 'briefli', 'bright', 'brighter', 'brightest', 'brilliant', 'british', 'broad', 'broadway', 'brockvill', 'broke', 'brooklyn', 'brother', 'brown', 'brush', 'buffet', 'bug', 'build', 'bulb', 'bulki', 'bump', 'bunch', 'burbank', 'bus', 'busi', 'button', 'ca', 'caesar', 'california', 'call', 'calm', 'came', 'camera', 'camp', 'campground', 'canada', 'candi', 'candl', 'capsul', 'captur', 'car', 'caravan', 'cari', 'cart', 'casino', 'cast', 'cat', 'caught', 'caus', 'cell', 'cellphon', 'cent', 'center', 'central', 'certain', 'chambersburg', 'chang', 'channel', 'chappell', 'chase', 'cheap', 'check', 'chines', 'chinook', 'christian', 'cigar', 'cigarett', 'circada', 'circl', 'circlei', 'circular', 'cirlc', 'citi', 'claim', 'class', 'clean', 'clear', 'clip', 'clockwis', 'close', 'closer', 'closest', 'cloth', 'cloud', 'cloudi', 'clue', 'colleagu', 'collid', 'colon', 'color', 'colorblind', 'colorit', 'colour', 'columbia', 'combat', 'combin', 'come', 'comet', 'comment', 'commerci', 'common', 'communic', 'compact', 'compani', 'compar', 'comparison', 'compet', 'complet', 'comprehens', 'compris', 'con', 'concentr', 'concern', 'cone', 'confer', 'confirm', 'confus', 'connect', 'consist', 'contact', 'contin', 'continu', 'contrail', 'control', 'convent', 'convinc', 'cook', 'corkscrew', 'corkscrewslook', 'corner', 'cornfield', 'correct', 'cought', 'could', 'couldnt', 'council', 'counter', 'counterclockwis', 'countri', 'coupl', 'cours', 'cover', 'coyot', 'crack', 'craft', 'crash', 'crazi', 'cream', 'creek', 'crescent', 'crest', 'crop', 'cross', 'cruis', 'cruze', 'crystal', 'cst', 'curios', 'current', 'curv', 'dad', 'daddi', 'damond', 'danc', 'dark', 'darker', 'dash', 'date', 'daughter', 'dave', 'davenport', 'day', 'daylight', 'deal', 'decad', 'decend', 'decid', 'deck', 'defeat', 'defi', 'defin', 'definit', 'degre', 'delet', 'deliber', 'demott', 'depend', 'descend', 'describ', 'descript', 'desert', 'desol', 'detail', 'deton', 'detroit', 'develop', 'development', 'diagon', 'diamet', 'diamond', 'differ', 'differenti', 'difficult', 'dim', 'diminish', 'dimmer', 'dinner', 'dip', 'dipper', 'direct', 'dirti', 'disappear', 'discern', 'disk', 'dismiss', 'dispers', 'display', 'dissapear', 'dissip', 'distac', 'distanc', 'distinct', 'dive', 'divin', 'dix', 'dock', 'doctor', 'dodg', 'dog', 'dollar', 'dongl', 'door', 'dot', 'doubt', 'downtown', 'downward', 'dozen', 'draw', 'drink', 'drive', 'driven', 'driver', 'driveway', 'drone', 'drop', 'drove', 'drum', 'duck', 'due', 'durat', 'dusk', 'duti', 'ear', 'earli', 'earlier', 'earth', 'easi', 'easili', 'east', 'eastern', 'eastward', 'ect', 'eden', 'edg', 'edit', 'edmonton', 'edt', 'effortless', 'either', 'elder', 'elect', 'electr', 'elev', 'els', 'elsewher', 'email', 'emit', 'emot', 'encount', 'encourag', 'end', 'engin', 'enjoy', 'enough', 'enter', 'entir', 'equip', 'er', 'errat', 'especi', 'essenti', 'estim', 'etc', 'even', 'event', 'eventu', 'ever', 'everi', 'everyday', 'everyon', 'everyth', 'evid', 'evil', 'exact', 'examin', 'except', 'excit', 'exclaim', 'exercis', 'exhaust', 'exist', 'exit', 'experi', 'experienc', 'explain', 'explod', 'extrem', 'eye', 'face', 'facebook', 'fact', 'fade', 'fail', 'faint', 'fair', 'fall', 'famili', 'far', 'farm', 'farther', 'fashion', 'fast', 'faster', 'favorit', 'fear', 'featur', 'feel', 'feet', 'felt', 'femm', 'ferri', 'fiancé', 'fickler', 'field', 'fifti', 'fighter', 'figur', 'final', 'find', 'finger', 'finish', 'fire', 'firebal', 'first', 'five', 'fl', 'flame', 'flare', 'flash', 'flashingw', 'flashlight', 'flat', 'flaw', 'fleet', 'flew', 'fli', 'flicker', 'flight', 'float', 'flood', 'floodlight', 'flout', 'flown', 'fluffi', 'flutter', 'focus', 'fog', 'follow', 'food', 'footag', 'forc', 'forget', 'forgot', 'form', 'format', 'fort', 'forth', 'forthcom', 'forward', 'found', 'four', 'fraction', 'frame', 'freak', 'freeway', 'fridg', 'friend', 'frog', 'front', 'frozen', 'ft', 'full', 'fulli', 'furthest', 'fuselag', 'fuzzi', 'game', 'garag', 'gave', 'gaze', 'gear', 'general', 'genius', 'germantown', 'get', 'ghostish', 'giant', 'girlfriend', 'give', 'given', 'glanc', 'glass', 'glimps', 'glow', 'go', 'god', 'golf', 'gone', 'good', 'goodby', 'googl', 'goos', 'got', 'govern', 'grab', 'grace', 'grade', 'gradual', 'gray', 'great', 'green', 'greenish', 'grew', 'grey', 'grind', 'ground', 'group', 'grow', 'guess', 'hade', 'haha', 'hair', 'half', 'hand', 'handl', 'hang', 'happen', 'hard', 'hawaii', 'hazi', 'head', 'hear', 'heard', 'hearsay', 'heartbroken', 'heed', 'height', 'held', 'heli', 'helicopt', 'hello', 'help', 'hey', 'hidden', 'high', 'higher', 'highest', 'highland', 'highway', 'hill', 'hinkson', 'histori', 'hit', 'hold', 'hole', 'holi', 'hollywood', 'home', 'honest', 'hope', 'horizon', 'horizont', 'hospit', 'hour', 'hous', 'houston', 'hover', 'howev', 'hue', 'huge', 'hum', 'humid', 'hundr', 'hurt', 'husband', 'hwi', 'ice', 'idea', 'identifi', 'ill', 'illumin', 'imiditley', 'immedi', 'immens', 'import', 'inch', 'increas', 'incred', 'inde', 'index', 'indian', 'indiana', 'indic', 'individu', 'industri', 'inertia', 'inform', 'insid', 'instant', 'instantan', 'instead', 'institut', 'intens', 'intensifi', 'interest', 'intern', 'interrupt', 'investig', 'iphon', 'irrad', 'irredes', 'island', 'item', 'jersey', 'jet', 'job', 'join', 'joint', 'judg', 'jump', 'kci', 'keep', 'kelowna', 'kept', 'keyboard', 'kid', 'kind', 'kinda', 'kitchen', 'kite', 'kiteson', 'knew', 'know', 'known', 'kts', 'laboratori', 'ladi', 'lake', 'land', 'landscap', 'lane', 'lantern', 'lapd', 'lapin', 'laptop', 'larg', 'larger', 'laser', 'last', 'late', 'later', 'laundromat', 'law', 'lawrenc', 'layer', 'lean', 'least', 'leav', 'left', 'length', 'less', 'let', 'level', 'lie', 'life', 'lifetim', 'lift', 'light', 'lightbulb', 'lighter', 'lightlik', 'lightn', 'lightthi', 'lightwhil', 'like', 'line', 'lit', 'liter', 'littl', 'live', 'load', 'local', 'locat', 'lock', 'logic', 'lone', 'long', 'longer', 'look', 'lookout', 'lost', 'lot', 'loud', 'low', 'lower', 'lowest', 'lumin', 'luminari', 'mach', 'made', 'main', 'mainten', 'make', 'mall', 'man', 'mani', 'marana', 'mark', 'massachusett', 'massiv', 'matter', 'may', 'mayb', 'mcgregor', 'mcminnvill', 'md', 'mean', 'mechan', 'medfordwatch', 'media', 'medic', 'mention', 'meow', 'merg', 'mesmer', 'met', 'metal', 'meteor', 'michigan', 'mid', 'midair', 'middl', 'midnight', 'might', 'mile', 'mili', 'militari', 'min', 'mind', 'minivan', 'minneapoli', 'minut', 'mirror', 'miss', 'missouri', 'mn', 'mnjust', 'modern', 'mojav', 'mom', 'moment', 'monday', 'month', 'moon', 'morn', 'most', 'motion', 'motionless', 'mountain', 'mouth', 'move', 'movement', 'movi', 'movingw', 'mph', 'much', 'muggi', 'multicolor', 'multimillion', 'multipl', 'music', 'must', 'name', 'natur', 'navi', 'navig', 'nba', 'ne', 'near', 'neck', 'need', 'neighbor', 'neighborhood', 'neonish', 'nephew', 'nervous', 'netflix', 'neurot', 'never', 'new', 'news', 'next', 'nice', 'night', 'nighti', 'nighttim', 'nobodi', 'nois', 'noisi', 'nonamesset', 'normal', 'north', 'northbound', 'northeast', 'northern', 'northward', 'northwest', 'note', 'noth', 'notic', 'nuforc', 'number', 'object', 'obscur', 'observ', 'obvious', 'occasion', 'occur', 'occurr', 'oceanograph', 'octob', 'odd', 'offic', 'oh', 'ohio', 'oil', 'ok', 'okanagan', 'okanogan', 'old', 'olympia', 'one', 'onlin', 'ontario', 'open', 'oper', 'oposit', 'orang', 'orb', 'orbit', 'order', 'origin', 'orion', 'other', 'otherwis', 'outag', 'outer', 'outlin', 'outshin', 'outsid', 'ov', 'oval', 'overcast', 'overhand', 'overhead', 'overnight', 'overtak', 'own', 'pa', 'pace', 'paint', 'pair', 'palac', 'pale', 'panicki', 'paper', 'parad', 'parallel', 'park', 'part', 'parti', 'particl', 'particular', 'pass', 'passeng', 'past', 'pastur', 'path', 'patio', 'pattern', 'paulsat', 'paus', 'pay', 'pd', 'pea', 'peac', 'peopl', 'perfect', 'perhap', 'period', 'peripher', 'person', 'pet', 'peter', 'phone', 'photo', 'photograph', 'physic', 'pic', 'pick', 'pictur', 'piec', 'pilot', 'pin', 'place', 'plain', 'plan', 'plane', 'planet', 'plate', 'play', 'playoff', 'pleas', 'plenti', 'plus', 'pm', 'point', 'pointer', 'pole', 'polic', 'pond', 'pool', 'porch', 'port', 'portion', 'portland', 'posit', 'positionther', 'possibl', 'post', 'power', 'prairi', 'prank', 'present', 'press', 'pretti', 'previous', 'prior', 'privat', 'probabl', 'proceed', 'process', 'produc', 'profil', 'program', 'project', 'propel', 'propuls', 'protect', 'prove', 'provid', 'proxim', 'pterodactyl', 'public', 'pull', 'puls', 'pure', 'purpl', 'push', 'put', 'quarter', 'question', 'queu', 'quick', 'quiet', 'quit', 'quot', 'race', 'radar', 'radius', 'rain', 'raindrop', 'ran', 'ranch', 'random', 'rang', 'rapid', 'raptor', 'rate', 'ratio', 'ration', 'ray', 'rd', 'reach', 'react', 'reaction', 'read', 'readi', 'real', 'realiz', 'realli', 'reappear', 'rear', 'rearview', 'reason', 'recal', 'reciproc', 'recon', 'record', 'rectangl', 'rectangular', 'red', 'reddish', 'redey', 'reflect', 'refuel', 'regain', 'region', 'regular', 'relat', 'relax', 'remain', 'remark', 'rememb', 'remind', 'report', 'repot', 'request', 'requir', 'research', 'reset', 'rest', 'restaur', 'retangular', 'return', 'reveal', 'revers', 'review', 'revolv', 'ridden', 'ridgeway', 'right', 'ring', 'rise', 'river', 'road', 'rock', 'roof', 'rooftop', 'room', 'root', 'rose', 'rotat', 'rough', 'round', 'rout', 'row', 'rte', 'rule', 'rumbl', 'run', 'rush', 'sacramento', 'said', 'salem', 'sat', 'satellit', 'saturday', 'saucer', 'saw', 'say', 'scare', 'school', 'scream', 'screenshot', 'se', 'seam', 'search', 'sec', 'seclud', 'second', 'secondsaround', 'secret', 'secur', 'see', 'seem', 'seen', 'send', 'senior', 'sens', 'sent', 'separ', 'septemb', 'servic', 'set', 'sever', 'sf', 'shade', 'shake', 'shape', 'share', 'sharp', 'shift', 'shine', 'shini', 'ship', 'shock', 'shone', 'shook', 'shoot', 'short', 'shot', 'show', 'shower', 'side', 'sideway', 'sight', 'sign', 'signifi', 'silent', 'silliwet', 'silver', 'silverish', 'similar', 'simpli', 'simular', 'sinc', 'singl', 'sink', 'sit', 'site', 'situat', 'size', 'skeptic', 'skinni', 'sky', 'skycircl', 'skyon', 'slc', 'slight', 'slim', 'sling', 'slot', 'slow', 'slower', 'slowli', 'small', 'smaller', 'smiley', 'smoke', 'smoki', 'smooth', 'snap', 'snuck', 'soft', 'solid', 'somebodi', 'someon', 'someth', 'somethibg', 'sometim', 'son', 'soon', 'sort', 'sound', 'sourc', 'south', 'southbound', 'southeast', 'southern', 'southward', 'southwest', 'southwestern', 'space', 'sparkl', 'spec', 'speci', 'sped', 'speed', 'spent', 'sperm', 'sphere', 'spheric', 'spin', 'spirit', 'spoke', 'spot', 'spotlight', 'spread', 'spring', 'spun', 'spur', 'squar', 'st', 'stand', 'standstil', 'star', 'stare', 'stargaz', 'starless', 'start', 'starter', 'state', 'station', 'stationari', 'stay', 'steadi', 'steep', 'step', 'stern', 'still', 'stood', 'stop', 'stope', 'storm', 'stormi', 'stove', 'straight', 'strang', 'stream', 'street', 'stretch', 'string', 'strip', 'stripe', 'strobish', 'stroll', 'stronger', 'struck', 'structur', 'stuff', 'stun', 'sucker', 'sudden', 'suggest', 'sun', 'sunset', 'sure', 'surfac', 'surpris', 'surround', 'suspici', 'sw', 'swear', 'sweep', 'swerv', 'swift', 'swir', 'swish', 'switch', 'sylvest', 'symbol', 'taft', 'tag', 'tail', 'take', 'taken', 'talk', 'tall', 'taller', 'tan', 'taught', 'taylor', 'technician', 'techniqu', 'technolog', 'teen', 'telephon', 'telescop', 'tell', 'tempt', 'ten', 'termin', 'terrifi', 'texa', 'text', 'tge', 'th', 'thank', 'therefor', 'thick', 'thin', 'thing', 'think', 'third', 'thirti', 'though', 'thought', 'thousand', 'three', 'threw', 'thrice', 'throughout', 'thru', 'thunderstorm', 'thursday', 'tie', 'till', 'tilt', 'time', 'timei', 'ting', 'tini', 'tint', 'tip', 'today', 'togeth', 'told', 'tone', 'tonight', 'took', 'top', 'tornado', 'total', 'toward', 'town', 'trace', 'track', 'traffic', 'trail', 'trailat', 'train', 'tram', 'transform', 'transmiss', 'travel', 'tree', 'trent', 'tri', 'triangl', 'triangular', 'trimbl', 'trip', 'tripl', 'truck', 'truli', 'trumpet', 'trust', 'tumbl', 'tunrd', 'turn', 'tv', 'tweet', 'twice', 'twink', 'twinkl', 'twist', 'twitter', 'two', 'tylenol', 'type', 'uber', 'ufo', 'ufomig', 'unabl', 'unawar', 'uncomfort', 'uncommon', 'underneath', 'understand', 'unexplain', 'unforgett', 'unfortun', 'unit', 'univers', 'unless', 'unlik', 'unse', 'unsur', 'unusu', 'unveil', 'upon', 'upstream', 'upward', 'us', 'usa', 'use', 'usual', 'ut', 'valley', 'valleyblack', 'vanish', 'vapor', 'vehicl', 'vent', 'venus', 'verifi', 'vers', 'version', 'vertic', 'vessel', 'via', 'vibrat', 'video', 'videotap', 'vidibl', 'view', 'visibl', 'vision', 'visual', 'volum', 'vs', 'wait', 'walk', 'wall', 'walnut', 'wam', 'want', 'warehous', 'warm', 'watch', 'water', 'wave', 'wax', 'way', 'weather', 'web', 'wedg', 'wednesday', 'weird', 'well', 'went', 'west', 'wetland', 'whatev', 'whether', 'white', 'whitish', 'whole', 'wi', 'wide', 'wider', 'wierd', 'wife', 'wifi', 'wildlif', 'wind', 'windi', 'window', 'windshield', 'wing', 'wish', 'wit', 'within', 'without', 'witnessesmi', 'wobbl', 'woke', 'wonder', 'wood', 'woodburn', 'word', 'work', 'world', 'worth', 'would', 'wouldv', 'wow', 'write', 'wrong', 'yard', 'yds', 'year', 'yell', 'yellow', 'yellowish', 'yet', 'ying', 'yoga', 'younger', 'youtub', 'yoyo', 'zip', 'zoom']\n",
      "[[ 0.          0.          0.         ...,  0.          0.          0.        ]\n",
      " [ 0.          0.          0.         ...,  0.          0.          0.        ]\n",
      " [ 0.          0.          0.         ...,  0.          0.          0.        ]\n",
      " ..., \n",
      " [ 0.          0.          0.         ...,  0.          0.          0.        ]\n",
      " [ 0.          0.          0.         ...,  0.          0.          0.        ]\n",
      " [ 0.          0.          0.10840734 ...,  0.          0.          0.        ]]\n"
     ]
    }
   ],
   "source": [
    "tfidf = TfidfVectorizer()\n",
    "document_tfidf_matrix = tfidf.fit_transform(document_series)\n",
    "print(sorted(tfidf.vocabulary_))\n",
    "print(document_tfidf_matrix.todense())"
   ]
  },
  {
   "cell_type": "code",
   "execution_count": null,
   "metadata": {},
   "outputs": [],
   "source": []
  }
 ],
 "metadata": {
  "kernelspec": {
   "display_name": "Python 3",
   "language": "python",
   "name": "python3"
  },
  "language_info": {
   "codemirror_mode": {
    "name": "ipython",
    "version": 3
   },
   "file_extension": ".py",
   "mimetype": "text/x-python",
   "name": "python",
   "nbconvert_exporter": "python",
   "pygments_lexer": "ipython3",
   "version": "3.8.5"
  }
 },
 "nbformat": 4,
 "nbformat_minor": 4
}
