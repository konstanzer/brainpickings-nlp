{
 "cells": [
  {
   "cell_type": "code",
   "execution_count": 1,
   "metadata": {},
   "outputs": [],
   "source": [
    "# Auto Reload\n",
    "%load_ext autoreload\n",
    "%autoreload 2"
   ]
  },
  {
   "cell_type": "code",
   "execution_count": 2,
   "metadata": {},
   "outputs": [],
   "source": [
    "# Import Modules\n",
    "from collections import Counter\n",
    "import numpy as np\n",
    "import pandas as pd\n",
    "import re\n",
    "import matplotlib.pyplot as plt\n",
    "from bs4 import BeautifulSoup\n",
    "import json\n",
    "from pprint import pprint\n",
    "import string\n",
    "from sklearn.feature_extraction.text import TfidfVectorizer\n",
    "from sklearn.feature_extraction.text import CountVectorizer\n",
    "from math import log"
   ]
  },
  {
   "cell_type": "code",
   "execution_count": 3,
   "metadata": {},
   "outputs": [
    {
     "name": "stderr",
     "output_type": "stream",
     "text": [
      "[nltk_data] Downloading package punkt to /home/jovyan/nltk_data...\n",
      "[nltk_data]   Package punkt is already up-to-date!\n",
      "[nltk_data] Downloading package stopwords to /home/jovyan/nltk_data...\n",
      "[nltk_data]   Package stopwords is already up-to-date!\n",
      "[nltk_data] Downloading package wordnet to /home/jovyan/nltk_data...\n",
      "[nltk_data]   Package wordnet is already up-to-date!\n"
     ]
    }
   ],
   "source": [
    "# NLTK Modules\n",
    "import nltk\n",
    "nltk.download('punkt')\n",
    "nltk.download('stopwords')\n",
    "nltk.download('wordnet')\n",
    "from nltk.stem.porter import PorterStemmer\n",
    "from nltk.tokenize import word_tokenize\n",
    "from nltk.stem.snowball import SnowballStemmer\n",
    "from nltk.stem.wordnet import WordNetLemmatizer\n",
    "from nltk.corpus import stopwords"
   ]
  },
  {
   "cell_type": "code",
   "execution_count": 4,
   "metadata": {},
   "outputs": [],
   "source": [
    "# Import Custom Modules\n",
    "from src.cleaner import clean_data\n",
    "from src.helpers import *"
   ]
  },
  {
   "cell_type": "code",
   "execution_count": 5,
   "metadata": {},
   "outputs": [],
   "source": [
    "# Import Data\n",
    "df = pd.read_csv('data/ufo_csv.csv')"
   ]
  },
  {
   "cell_type": "code",
   "execution_count": 6,
   "metadata": {},
   "outputs": [
    {
     "data": {
      "text/plain": [
       " Circle       17\n",
       " Light        13\n",
       " Other        12\n",
       " Sphere        8\n",
       " Disk          8\n",
       " Unknown       8\n",
       " Oval          7\n",
       " Triangle      6\n",
       " Rectangle     4\n",
       " Changing      3\n",
       " Formation     3\n",
       " Cylinder      2\n",
       " Fireball      2\n",
       " Diamond       2\n",
       " Flash         1\n",
       " Chevron       1\n",
       " Teardrop      1\n",
       "               1\n",
       "Name: shape, dtype: int64"
      ]
     },
     "execution_count": 6,
     "metadata": {},
     "output_type": "execute_result"
    }
   ],
   "source": [
    "# Clean Data\n",
    "clean_df = clean_data(df)\n",
    "clean_df['shape'].value_counts()"
   ]
  },
  {
   "cell_type": "code",
   "execution_count": 7,
   "metadata": {},
   "outputs": [],
   "source": [
    "# Create Documents\n",
    "documents = clean_df['content']"
   ]
  },
  {
   "cell_type": "code",
   "execution_count": 8,
   "metadata": {},
   "outputs": [],
   "source": [
    "# Set Stop Words\n",
    "stop = set(stopwords.words('english'))\n",
    "# Set Stop Punctuations\n",
    "puncs = set(string.punctuation)\n",
    "# Merge Stops\n",
    "full_stop = stop.union(puncs)\n",
    "# full_stop"
   ]
  },
  {
   "cell_type": "code",
   "execution_count": 9,
   "metadata": {},
   "outputs": [],
   "source": [
    "# Tokenize Words from Documents\n",
    "tokens = [word_tokenize(doc.lower()) for doc in documents]\n",
    "\n",
    "# Filter each token for stop words\n",
    "doc_filter = [filter_tokens(token, full_stop) for token in tokens]"
   ]
  },
  {
   "cell_type": "markdown",
   "metadata": {},
   "source": [
    "# Compare Stemming/Lemmatization"
   ]
  },
  {
   "cell_type": "code",
   "execution_count": 10,
   "metadata": {},
   "outputs": [],
   "source": [
    "porter = PorterStemmer()\n",
    "snowball = SnowballStemmer('english')\n",
    "wordnet = WordNetLemmatizer()\n",
    "\n",
    "docs_porter = [[porter.stem(word) for word in words]\n",
    "               for words in doc_filter]\n",
    "docs_snowball = [[snowball.stem(word) for word in words]\n",
    "                 for words in doc_filter]\n",
    "docs_wordnet = [[wordnet.lemmatize(word) for word in words]\n",
    "                for words in doc_filter]"
   ]
  },
  {
   "cell_type": "markdown",
   "metadata": {},
   "source": [
    "### Results"
   ]
  },
  {
   "cell_type": "code",
   "execution_count": 11,
   "metadata": {},
   "outputs": [
    {
     "name": "stdout",
     "output_type": "stream",
     "text": [
      "            WORD |           PORTER |         SNOWBALL |       LEMMATIZER |\n",
      "         hovered |            hover |            hover |          hovered |\n",
      "          looked |             look |             look |           looked |\n",
      "      helicopter |         helicopt |         helicopt |       helicopter |\n",
      "          stayed |             stay |             stay |           stayed |\n",
      "     disappeared |        disappear |        disappear |      disappeared |\n",
      "         appears |           appear |           appear |          appears |\n",
      "              us |               us |               us |                u |\n",
      "      consistent |          consist |          consist |       consistent |\n",
      "        sighting |            sight |            sight |         sighting |\n",
      "           venus |             venu |            venus |            venus |\n"
     ]
    }
   ],
   "source": [
    "## Print the stemmed and lemmatized words from the first document\n",
    "print(\"%16s | %16s | %16s | %16s |\" % (\"WORD\", \"PORTER\", \"SNOWBALL\", \"LEMMATIZER\"))\n",
    "for i in range(min(len(docs_porter[0]), len(docs_snowball[0]), len(docs_wordnet[0]))):\n",
    "    p, s, w = docs_porter[0][i], docs_snowball[0][i], docs_wordnet[0][i]\n",
    "    if len(set((p, s, w))) != 1:\n",
    "        print(\"%16s | %16s | %16s | %16s |\" % (doc_filter[0][i], p, s, w))"
   ]
  },
  {
   "cell_type": "markdown",
   "metadata": {},
   "source": [
    "### Snowball Stemmer Chosen\n",
    "> We chose to stem the words with the Snowball Stemmer due to its preservation of important words for this usecase such as 'venus'\n",
    "\n",
    "\n",
    "> The Snowball Stemmmer normalizes these words from its appeared form into their root form"
   ]
  },
  {
   "cell_type": "code",
   "execution_count": 12,
   "metadata": {},
   "outputs": [],
   "source": [
    "# Stem Words in Each Document\n",
    "clean_tokens = [list(map(snowball.stem, sent)) for sent in doc_filter]\n",
    "# clean_tokens"
   ]
  },
  {
   "cell_type": "code",
   "execution_count": 13,
   "metadata": {},
   "outputs": [
    {
     "data": {
      "text/plain": [
       "set()"
      ]
     },
     "execution_count": 13,
     "metadata": {},
     "output_type": "execute_result"
    }
   ],
   "source": [
    "# Check for stray tokens (ones with weird puncs, not alphabetical strings)\n",
    "strays = []\n",
    "for i in range(len(clean_tokens)):\n",
    "#     print(\"--- sentence tokens (lemmatize): {}\".format(tokens_lemmatize[i]))\n",
    "    for word in clean_tokens[i]:\n",
    "        if not word.isalpha():\n",
    "            strays.append(word)\n",
    "set(strays)"
   ]
  },
  {
   "cell_type": "markdown",
   "metadata": {},
   "source": [
    "### Turn Cleaned Tokens into Series"
   ]
  },
  {
   "cell_type": "code",
   "execution_count": 14,
   "metadata": {},
   "outputs": [],
   "source": [
    "# Documents to series\n",
    "document_series = pd.Series([\" \".join(x) for x in clean_tokens])"
   ]
  },
  {
   "cell_type": "code",
   "execution_count": 15,
   "metadata": {},
   "outputs": [
    {
     "data": {
      "text/plain": [
       "\"Light seen over mountain's east of Camp McGregor.  It hovered in one spot.  It looked like a helicopter light at first.  But it was way to bright.  Then it went to a higher height.  Stayed there for a while.  Then disappeared.((NUFORC Note:  Report appears to us to be consistent with the sighting of Venus.  PD))\""
      ]
     },
     "execution_count": 15,
     "metadata": {},
     "output_type": "execute_result"
    }
   ],
   "source": [
    "documents[0]"
   ]
  },
  {
   "cell_type": "code",
   "execution_count": 16,
   "metadata": {},
   "outputs": [
    {
     "data": {
      "text/plain": [
       "'light seen mountain east camp mcgregor hover one spot look like helicopt light first way bright went higher height stay disappear nuforc note report appear us consist sight venus pd'"
      ]
     },
     "execution_count": 16,
     "metadata": {},
     "output_type": "execute_result"
    }
   ],
   "source": [
    "document_series[0]"
   ]
  },
  {
   "cell_type": "markdown",
   "metadata": {},
   "source": [
    "### Get Term Frequency"
   ]
  },
  {
   "cell_type": "code",
   "execution_count": 17,
   "metadata": {},
   "outputs": [],
   "source": [
    "# term occurence = counting distinct words in each bag\n",
    "term_occ = [Counter(doc) for doc in clean_tokens]\n",
    "# term_occ"
   ]
  },
  {
   "cell_type": "markdown",
   "metadata": {},
   "source": [
    "The number of times a term occurs in a specific document:\n",
    "\n",
    "$tf(term,document) = \\frac{\\# \\ of \\ times \\ a \\ term \\ appears \\ in \\ a \\ document}{\\#\\ of\\ terms\\ in\\ the\\ document|}$"
   ]
  },
  {
   "cell_type": "code",
   "execution_count": 18,
   "metadata": {},
   "outputs": [
    {
     "data": {
      "text/plain": [
       "{'light': 0.06666666666666667,\n",
       " 'seen': 0.03333333333333333,\n",
       " 'mountain': 0.03333333333333333,\n",
       " 'east': 0.03333333333333333,\n",
       " 'camp': 0.03333333333333333,\n",
       " 'mcgregor': 0.03333333333333333,\n",
       " 'hover': 0.03333333333333333,\n",
       " 'one': 0.03333333333333333,\n",
       " 'spot': 0.03333333333333333,\n",
       " 'look': 0.03333333333333333,\n",
       " 'like': 0.03333333333333333,\n",
       " 'helicopt': 0.03333333333333333,\n",
       " 'first': 0.03333333333333333,\n",
       " 'way': 0.03333333333333333,\n",
       " 'bright': 0.03333333333333333,\n",
       " 'went': 0.03333333333333333,\n",
       " 'higher': 0.03333333333333333,\n",
       " 'height': 0.03333333333333333,\n",
       " 'stay': 0.03333333333333333,\n",
       " 'disappear': 0.03333333333333333,\n",
       " 'nuforc': 0.03333333333333333,\n",
       " 'note': 0.03333333333333333,\n",
       " 'report': 0.03333333333333333,\n",
       " 'appear': 0.03333333333333333,\n",
       " 'us': 0.03333333333333333,\n",
       " 'consist': 0.03333333333333333,\n",
       " 'sight': 0.03333333333333333,\n",
       " 'venus': 0.03333333333333333,\n",
       " 'pd': 0.03333333333333333}"
      ]
     },
     "execution_count": 18,
     "metadata": {},
     "output_type": "execute_result"
    }
   ],
   "source": [
    "term_freq = list()\n",
    "for i in range(len(clean_tokens)):\n",
    "    term_freq.append( {k: (v / float(len(clean_tokens[i])))\n",
    "                       for k, v in term_occ[i].items()} )\n",
    "term_freq[0]"
   ]
  },
  {
   "cell_type": "markdown",
   "metadata": {},
   "source": [
    "### Get Document Frequencies\n",
    "\n",
    "$df(term,corpus) = \\frac{ \\# \\ of \\ documents \\ that \\ contain \\ a \\ term}{ \\# \\ of \\ documents \\ in \\ the \\ corpus}$"
   ]
  },
  {
   "cell_type": "code",
   "execution_count": 28,
   "metadata": {},
   "outputs": [],
   "source": [
    "doc_occ = Counter( [word for token in clean_tokens for word in set(token)] )\n",
    "\n",
    "doc_freq = {k: (v / float(len(clean_tokens)))\n",
    "            for k, v in doc_occ.items()}\n",
    "\n",
    "# doc_freq"
   ]
  },
  {
   "cell_type": "code",
   "execution_count": 20,
   "metadata": {},
   "outputs": [
    {
     "name": "stdout",
     "output_type": "stream",
     "text": [
      "light:  0.6767676767676768\n",
      "look:  0.5252525252525253\n",
      "sky:  0.5656565656565656\n",
      "saw:  0.5151515151515151\n",
      "move:  0.5858585858585859\n"
     ]
    }
   ],
   "source": [
    "# See words with a high frequency threshhold 50%\n",
    "thresh = 0.5\n",
    "for word, freq in doc_freq.items():\n",
    "    if freq >= thresh:\n",
    "        print(f\"{word}:  {freq}\")"
   ]
  },
  {
   "cell_type": "markdown",
   "metadata": {},
   "source": [
    "### Get Vocabulary"
   ]
  },
  {
   "cell_type": "code",
   "execution_count": 21,
   "metadata": {},
   "outputs": [
    {
     "name": "stdout",
     "output_type": "stream",
     "text": [
      "-- vocabulary (len=5): ['light', 'look', 'sky', 'saw', 'move']\n"
     ]
    }
   ],
   "source": [
    "# the minimum document frequency (in proportion of the length of the corpus)\n",
    "min_df = 0.5\n",
    "\n",
    "# filtering items to obtain the vocabulary\n",
    "vocabulary = [ k for k,v in doc_freq.items() if v >= min_df ]\n",
    "\n",
    "# print vocabulary\n",
    "print (\"-- vocabulary (len={}): {}\".format(len(vocabulary),vocabulary))"
   ]
  },
  {
   "cell_type": "code",
   "execution_count": 22,
   "metadata": {},
   "outputs": [
    {
     "data": {
      "text/plain": [
       "(array([ 0.1,  0.2,  0.3,  0.4,  0.5,  0.6,  0.7,  0.8,  0.9,  1. ]),\n",
       " [157, 54, 15, 10, 5, 1, 0, 0, 0, 0])"
      ]
     },
     "execution_count": 22,
     "metadata": {},
     "output_type": "execute_result"
    },
    {
     "data": {
      "image/png": "[encoded data removed]",
      "text/plain": [
       "<Figure size 792x504 with 1 Axes>"
      ]
     },
     "metadata": {
      "needs_background": "light"
     },
     "output_type": "display_data"
    }
   ],
   "source": [
    "# Plot Minimum Document Frequency Threshold\n",
    "x = np.arange(0.1, 1.1, 0.1)\n",
    "vocab_y = [len([ k for k,v in doc_freq.items() if v >= thresh ]) for thresh in x]\n",
    "\n",
    "fig, ax = plt.subplots(figsize=(11, 7))\n",
    "\n",
    "ax.bar(x, vocab_y, width=0.1)\n",
    "\n",
    "ax.set_xlim([0,1])\n",
    "ax.set_title(\"Minimum Document Frequency Thresholds\")\n",
    "\n",
    "ax.set_xticks(x)\n",
    "\n",
    "ax.set_xlabel(\"DF Threshold\")\n",
    "ax.set_ylabel(\"Length of Vocabulary\")\n",
    "\n",
    "for i, j in zip(x, vocab_y):\n",
    "    ax.axhline(j, color='r')\n",
    "\n",
    "x, vocab_y"
   ]
  },
  {
   "cell_type": "code",
   "execution_count": 23,
   "metadata": {},
   "outputs": [
    {
     "name": "stdout",
     "output_type": "stream",
     "text": [
      "-- vocabulary (len=157): ['light', 'look', 'nuforc', 'helicopt', 'first', 'bright', 'pd', 'disappear', 'way', 'went', 'sight', 'report', 'seen', 'us', 'one', 'like', 'east', 'appear', 'note', 'hover', 'could', 'sky', 'provid', 'elect', 'stationari', 'star', 'inform', 'anonym', 'contact', 'remain', 'sourc', 'travel', 'notic', 'fli', 'someth', 'approxim', 'clear', 'see', 'would', 'wit', 'sound', 'come', 'direct', 'near', 'craft', 'saw', 'west', 'air', 'north', 'feet', 'object', 'tree', 'mayb', 'shape', 'side', 'view', 'size', 'orang', 'circl', 'never', 'hous', 'gone', 'pass', 'time', 'seem', 'move', 'low', 'almost', 'straight', 'white', 'plane', 'still', 'anoth', 'know', 'quick', 'toward', 'made', 'outsid', 'normal', 'stop', 'make', 'flash', 'mile', 'distanc', 'high', 'insid', 'chang', 'thought', 'go', 'minut', 'back', 'second', 'watch', 'show', 'around', 'two', 'ball', 'even', 'away', 'night', 'south', 'thing', 'came', 'point', 'color', 'end', 'green', 'complet', 'take', 'drive', 'reflect', 'window', 'line', 'nois', 'noth', 'ufo', 'blue', 'left', 'speed', 'red', 'behind', 'live', 'area', 'aircraft', 'get', 'slowli', 'head', 'flew', 'glow', 'across', 'right', 'slow', 'phone', 'fast', 'also', 'larg', 'home', 'cloud', 'big', 'tri', 'photo', 'indic', 'turn', 'video', 'three', 'got', 'eye', 'float', 'moon', 'face', 'street', 'later', 'front', 'observ', 'start', 'visibl', 'think']\n",
      "-- vocabulary (len=54): ['light', 'look', 'nuforc', 'first', 'bright', 'pd', 'disappear', 'went', 'sight', 'report', 'seen', 'one', 'like', 'east', 'appear', 'note', 'could', 'sky', 'provid', 'elect', 'inform', 'anonym', 'contact', 'remain', 'sourc', 'notic', 'see', 'would', 'wit', 'sound', 'direct', 'craft', 'saw', 'west', 'object', 'shape', 'time', 'seem', 'move', 'white', 'plane', 'still', 'stop', 'thought', 'go', 'minut', 'back', 'second', 'watch', 'around', 'two', 'night', 'south', 'get']\n",
      "-- vocabulary (len=15): ['light', 'look', 'nuforc', 'bright', 'pd', 'report', 'one', 'like', 'note', 'could', 'sky', 'see', 'saw', 'object', 'move']\n",
      "-- vocabulary (len=10): ['light', 'look', 'nuforc', 'pd', 'like', 'note', 'sky', 'saw', 'object', 'move']\n",
      "-- vocabulary (len=5): ['light', 'look', 'sky', 'saw', 'move']\n",
      "-- vocabulary (len=1): ['light']\n",
      "-- vocabulary (len=0): []\n",
      "-- vocabulary (len=0): []\n",
      "-- vocabulary (len=0): []\n",
      "-- vocabulary (len=0): []\n"
     ]
    }
   ],
   "source": [
    "all_vocabs = [[ k for k,v in doc_freq.items() if v >= thresh ] for thresh in x]\n",
    "for vocab in all_vocabs:\n",
    "    print(\"-- vocabulary (len={}): {}\".format(len(vocab),vocab))"
   ]
  },
  {
   "cell_type": "code",
   "execution_count": 24,
   "metadata": {},
   "outputs": [],
   "source": [
    "state_df = clean_df.groupby('state')[\"content\"]"
   ]
  },
  {
   "cell_type": "markdown",
   "metadata": {},
   "source": [
    "# Language Processing"
   ]
  },
  {
   "cell_type": "markdown",
   "metadata": {},
   "source": [
    "### Create TFIDF Vector\n",
    "\n",
    "$df(term,corpus) = \\frac{ \\# \\ of \\ documents \\ that \\ contain \\ a \\ term}{ \\# \\ of \\ documents \\ in \\ the \\ corpus}$\n",
    "\n",
    "The inverse document frequency is defined in terms of the document frequency as\n",
    "\n",
    "$idf(term,corpus) = \\log{\\frac{1}{df(term,corpus)}}$.\n",
    "\n",
    "\n",
    "TF-IDF is an acronym for the product of two parts: the term frequency tf and what is called the inverse document frequency idf. The term frequency is just the counts in a term frequency vector. \n",
    "\n",
    "tf-idf $ = tf(term,document) * idf(term,corpus)$"
   ]
  },
  {
   "cell_type": "code",
   "execution_count": 25,
   "metadata": {},
   "outputs": [],
   "source": [
    "tf = CountVectorizer()\n",
    "\n",
    "document_tf_matrix = tf.fit_transform(document_series).todense()\n",
    "\n",
    "#print(tf.vocabulary_)\n",
    "#print(document_tf_matrix)"
   ]
  },
  {
   "cell_type": "code",
   "execution_count": 26,
   "metadata": {},
   "outputs": [],
   "source": [
    "def idf(frequency_matrix):\n",
    "    df =  float(len(document_tf_matrix)) / sum(frequency_matrix > 0)\n",
    "    return [log(i) for i in df.getA()[0]]\n",
    "#print(sorted(tf.vocabulary_))\n",
    "#print(idf(document_tf_matrix))"
   ]
  },
  {
   "cell_type": "code",
   "execution_count": 27,
   "metadata": {},
   "outputs": [
    {
     "name": "stdout",
     "output_type": "stream",
     "text": [
      "['abl', 'abrupt', 'absolut', 'acceler', 'accord', 'account', 'acknowledg', 'acr', 'across', 'act', 'activ', 'actual', 'addendum', 'address', 'adjac', 'adrenalin', 'advertis', 'aerial', 'aerodynam', 'afbwhil', 'afraid', 'afternoon', 'againmi', 'agil', 'agl', 'ago', 'agre', 'ahead', 'air', 'aircraft', 'airforc', 'airlin', 'airplan', 'airplanew', 'airport', 'alabama', 'alarm', 'albani', 'albuquerqu', 'alien', 'alleg', 'allow', 'almost', 'alon', 'along', 'alot', 'alreadi', 'also', 'although', 'altitud', 'altitudei', 'aluminum', 'alway', 'amaz', 'amber', 'amend', 'anchorag', 'andi', 'andrew', 'angel', 'angl', 'anniston', 'anonym', 'anoth', 'answer', 'antiqu', 'anxieti', 'anybodi', 'anymor', 'anyon', 'anyth', 'anywher', 'apart', 'appar', 'appear', 'appendag', 'approach', 'approx', 'approxim', 'approximatley', 'april', 'aprox', 'arang', 'arc', 'arch', 'area', 'arizona', 'arm', 'armi', 'around', 'arrang', 'array', 'arrow', 'asap', 'ascertain', 'ask', 'asleep', 'aspirin', 'assum', 'asteroid', 'aswel', 'ate', 'atmospher', 'attach', 'attend', 'attent', 'austin', 'avenu', 'await', 'awaken', 'away', 'az', 'back', 'backdoor', 'backyard', 'baker', 'balconi', 'ball', 'balloon', 'barona', 'base', 'basketbal', 'bc', 'beacon', 'beam', 'beauti', 'becam', 'becker', 'becom', 'bed', 'bedroom', 'befo', 'began', 'behind', 'believ', 'bell', 'bellow', 'belt', 'best', 'better', 'beyond', 'big', 'bigger', 'binocular', 'biologist', 'bird', 'bit', 'bizarr', 'black', 'blackhawk', 'blade', 'blend', 'blew', 'blink', 'block', 'blow', 'blue', 'blueish', 'bluff', 'bluish', 'blurri', 'bob', 'bodi', 'boe', 'bolt', 'bonn', 'boom', 'boon', 'boston', 'bottom', 'bound', 'box', 'boyfriend', 'break', 'breakdown', 'brentwood', 'brick', 'briefli', 'bright', 'brighter', 'brightest', 'brilliant', 'british', 'broad', 'broadway', 'brockvill', 'broke', 'brooklyn', 'brother', 'brown', 'brush', 'buffet', 'bug', 'build', 'bulb', 'bulki', 'bump', 'bunch', 'burbank', 'bus', 'busi', 'button', 'ca', 'caesar', 'california', 'call', 'calm', 'came', 'camera', 'camp', 'campground', 'canada', 'candi', 'candl', 'capsul', 'captur', 'car', 'caravan', 'cari', 'cart', 'casino', 'cast', 'cat', 'caught', 'caus', 'cell', 'cellphon', 'cent', 'center', 'central', 'certain', 'chambersburg', 'chang', 'channel', 'chappell', 'chase', 'cheap', 'check', 'chines', 'chinook', 'christian', 'cigar', 'cigarett', 'circada', 'circl', 'circlei', 'circular', 'cirlc', 'citi', 'claim', 'class', 'clean', 'clear', 'clip', 'clockwis', 'close', 'closer', 'closest', 'cloth', 'cloud', 'cloudi', 'clue', 'colleagu', 'collid', 'colon', 'color', 'colorblind', 'colorit', 'colour', 'columbia', 'combat', 'combin', 'come', 'comet', 'comment', 'commerci', 'common', 'communic', 'compact', 'compani', 'compar', 'comparison', 'compet', 'complet', 'comprehens', 'compris', 'con', 'concentr', 'concern', 'cone', 'confer', 'confirm', 'confus', 'connect', 'consist', 'contact', 'contin', 'continu', 'contrail', 'control', 'convent', 'convinc', 'cook', 'corkscrew', 'corkscrewslook', 'corner', 'cornfield', 'correct', 'cought', 'could', 'couldnt', 'council', 'counter', 'counterclockwis', 'countri', 'coupl', 'cours', 'cover', 'coyot', 'crack', 'craft', 'crash', 'crazi', 'cream', 'creek', 'crescent', 'crest', 'crop', 'cross', 'cruis', 'cruze', 'crystal', 'cst', 'curios', 'current', 'curv', 'dad', 'daddi', 'damond', 'danc', 'dark', 'darker', 'dash', 'date', 'daughter', 'dave', 'davenport', 'day', 'daylight', 'deal', 'decad', 'decend', 'decid', 'deck', 'defeat', 'defi', 'defin', 'definit', 'degre', 'delet', 'deliber', 'demott', 'depend', 'descend', 'describ', 'descript', 'desert', 'desol', 'detail', 'deton', 'detroit', 'develop', 'development', 'diagon', 'diamet', 'diamond', 'differ', 'differenti', 'difficult', 'dim', 'diminish', 'dimmer', 'dinner', 'dip', 'dipper', 'direct', 'dirti', 'disappear', 'discern', 'disk', 'dismiss', 'dispers', 'display', 'dissapear', 'dissip', 'distac', 'distanc', 'distinct', 'dive', 'divin', 'dix', 'dock', 'doctor', 'dodg', 'dog', 'dollar', 'dongl', 'door', 'dot', 'doubt', 'downtown', 'downward', 'dozen', 'draw', 'drink', 'drive', 'driven', 'driver', 'driveway', 'drone', 'drop', 'drove', 'drum', 'duck', 'due', 'durat', 'dusk', 'duti', 'ear', 'earli', 'earlier', 'earth', 'easi', 'easili', 'east', 'eastern', 'eastward', 'ect', 'eden', 'edg', 'edit', 'edmonton', 'edt', 'effortless', 'either', 'elder', 'elect', 'electr', 'elev', 'els', 'elsewher', 'email', 'emit', 'emot', 'encount', 'encourag', 'end', 'engin', 'enjoy', 'enough', 'enter', 'entir', 'equip', 'er', 'errat', 'especi', 'essenti', 'estim', 'etc', 'even', 'event', 'eventu', 'ever', 'everi', 'everyday', 'everyon', 'everyth', 'evid', 'evil', 'exact', 'examin', 'except', 'excit', 'exclaim', 'exercis', 'exhaust', 'exist', 'exit', 'experi', 'experienc', 'explain', 'explod', 'extrem', 'eye', 'face', 'facebook', 'fact', 'fade', 'fail', 'faint', 'fair', 'fall', 'famili', 'far', 'farm', 'farther', 'fashion', 'fast', 'faster', 'favorit', 'fear', 'featur', 'feel', 'feet', 'felt', 'femm', 'ferri', 'fiancé', 'fickler', 'field', 'fifti', 'fighter', 'figur', 'final', 'find', 'finger', 'finish', 'fire', 'firebal', 'first', 'five', 'fl', 'flame', 'flare', 'flash', 'flashingw', 'flashlight', 'flat', 'flaw', 'fleet', 'flew', 'fli', 'flicker', 'flight', 'float', 'flood', 'floodlight', 'flout', 'flown', 'fluffi', 'flutter', 'focus', 'fog', 'follow', 'food', 'footag', 'forc', 'forget', 'forgot', 'form', 'format', 'fort', 'forth', 'forthcom', 'forward', 'found', 'four', 'fraction', 'frame', 'freak', 'freeway', 'fridg', 'friend', 'frog', 'front', 'frozen', 'ft', 'full', 'fulli', 'furthest', 'fuselag', 'fuzzi', 'game', 'garag', 'gave', 'gaze', 'gear', 'general', 'genius', 'germantown', 'get', 'ghostish', 'giant', 'girlfriend', 'give', 'given', 'glanc', 'glass', 'glimps', 'glow', 'go', 'god', 'golf', 'gone', 'good', 'goodby', 'googl', 'goos', 'got', 'govern', 'grab', 'grace', 'grade', 'gradual', 'gray', 'great', 'green', 'greenish', 'grew', 'grey', 'grind', 'ground', 'group', 'grow', 'guess', 'hade', 'haha', 'hair', 'half', 'hand', 'handl', 'hang', 'happen', 'hard', 'hawaii', 'hazi', 'head', 'hear', 'heard', 'hearsay', 'heartbroken', 'heed', 'height', 'held', 'heli', 'helicopt', 'hello', 'help', 'hey', 'hidden', 'high', 'higher', 'highest', 'highland', 'highway', 'hill', 'hinkson', 'histori', 'hit', 'hold', 'hole', 'holi', 'hollywood', 'home', 'honest', 'hope', 'horizon', 'horizont', 'hospit', 'hour', 'hous', 'houston', 'hover', 'howev', 'hue', 'huge', 'hum', 'humid', 'hundr', 'hurt', 'husband', 'hwi', 'ice', 'idea', 'identifi', 'ill', 'illumin', 'imiditley', 'immedi', 'immens', 'import', 'inch', 'increas', 'incred', 'inde', 'index', 'indian', 'indiana', 'indic', 'individu', 'industri', 'inertia', 'inform', 'insid', 'instant', 'instantan', 'instead', 'institut', 'intens', 'intensifi', 'interest', 'intern', 'interrupt', 'investig', 'iphon', 'irrad', 'irredes', 'island', 'item', 'jersey', 'jet', 'job', 'join', 'joint', 'judg', 'jump', 'kci', 'keep', 'kelowna', 'kept', 'keyboard', 'kid', 'kind', 'kinda', 'kitchen', 'kite', 'kiteson', 'knew', 'know', 'known', 'kts', 'laboratori', 'ladi', 'lake', 'land', 'landscap', 'lane', 'lantern', 'lapd', 'lapin', 'laptop', 'larg', 'larger', 'laser', 'last', 'late', 'later', 'laundromat', 'law', 'lawrenc', 'layer', 'lean', 'least', 'leav', 'left', 'length', 'less', 'let', 'level', 'lie', 'life', 'lifetim', 'lift', 'light', 'lightbulb', 'lighter', 'lightlik', 'lightn', 'lightthi', 'lightwhil', 'like', 'line', 'lit', 'liter', 'littl', 'live', 'load', 'local', 'locat', 'lock', 'logic', 'lone', 'long', 'longer', 'look', 'lookout', 'lost', 'lot', 'loud', 'low', 'lower', 'lowest', 'lumin', 'luminari', 'mach', 'made', 'main', 'mainten', 'make', 'mall', 'man', 'mani', 'marana', 'mark', 'massachusett', 'massiv', 'matter', 'may', 'mayb', 'mcgregor', 'mcminnvill', 'md', 'mean', 'mechan', 'medfordwatch', 'media', 'medic', 'mention', 'meow', 'merg', 'mesmer', 'met', 'metal', 'meteor', 'michigan', 'mid', 'midair', 'middl', 'midnight', 'might', 'mile', 'mili', 'militari', 'min', 'mind', 'minivan', 'minneapoli', 'minut', 'mirror', 'miss', 'missouri', 'mn', 'mnjust', 'modern', 'mojav', 'mom', 'moment', 'monday', 'month', 'moon', 'morn', 'most', 'motion', 'motionless', 'mountain', 'mouth', 'move', 'movement', 'movi', 'movingw', 'mph', 'much', 'muggi', 'multicolor', 'multimillion', 'multipl', 'music', 'must', 'name', 'natur', 'navi', 'navig', 'nba', 'ne', 'near', 'neck', 'need', 'neighbor', 'neighborhood', 'neonish', 'nephew', 'nervous', 'netflix', 'neurot', 'never', 'new', 'news', 'next', 'nice', 'night', 'nighti', 'nighttim', 'nobodi', 'nois', 'noisi', 'nonamesset', 'normal', 'north', 'northbound', 'northeast', 'northern', 'northward', 'northwest', 'note', 'noth', 'notic', 'nuforc', 'number', 'object', 'obscur', 'observ', 'obvious', 'occasion', 'occur', 'occurr', 'oceanograph', 'octob', 'odd', 'offic', 'oh', 'ohio', 'oil', 'ok', 'okanagan', 'okanogan', 'old', 'olympia', 'one', 'onlin', 'ontario', 'open', 'oper', 'oposit', 'orang', 'orb', 'orbit', 'order', 'origin', 'orion', 'other', 'otherwis', 'outag', 'outer', 'outlin', 'outshin', 'outsid', 'ov', 'oval', 'overcast', 'overhand', 'overhead', 'overnight', 'overtak', 'own', 'pa', 'pace', 'paint', 'pair', 'palac', 'pale', 'panicki', 'paper', 'parad', 'parallel', 'park', 'part', 'parti', 'particl', 'particular', 'pass', 'passeng', 'past', 'pastur', 'path', 'patio', 'pattern', 'paulsat', 'paus', 'pay', 'pd', 'pea', 'peac', 'peopl', 'perfect', 'perhap', 'period', 'peripher', 'person', 'pet', 'peter', 'phone', 'photo', 'photograph', 'physic', 'pic', 'pick', 'pictur', 'piec', 'pilot', 'pin', 'place', 'plain', 'plan', 'plane', 'planet', 'plate', 'play', 'playoff', 'pleas', 'plenti', 'plus', 'pm', 'point', 'pointer', 'pole', 'polic', 'pond', 'pool', 'porch', 'port', 'portion', 'portland', 'posit', 'positionther', 'possibl', 'post', 'power', 'prairi', 'prank', 'present', 'press', 'pretti', 'previous', 'prior', 'privat', 'probabl', 'proceed', 'process', 'produc', 'profil', 'program', 'project', 'propel', 'propuls', 'protect', 'prove', 'provid', 'proxim', 'pterodactyl', 'public', 'pull', 'puls', 'pure', 'purpl', 'push', 'put', 'quarter', 'question', 'queu', 'quick', 'quiet', 'quit', 'quot', 'race', 'radar', 'radius', 'rain', 'raindrop', 'ran', 'ranch', 'random', 'rang', 'rapid', 'raptor', 'rate', 'ratio', 'ration', 'ray', 'rd', 'reach', 'react', 'reaction', 'read', 'readi', 'real', 'realiz', 'realli', 'reappear', 'rear', 'rearview', 'reason', 'recal', 'reciproc', 'recon', 'record', 'rectangl', 'rectangular', 'red', 'reddish', 'redey', 'reflect', 'refuel', 'regain', 'region', 'regular', 'relat', 'relax', 'remain', 'remark', 'rememb', 'remind', 'report', 'repot', 'request', 'requir', 'research', 'reset', 'rest', 'restaur', 'retangular', 'return', 'reveal', 'revers', 'review', 'revolv', 'ridden', 'ridgeway', 'right', 'ring', 'rise', 'river', 'road', 'rock', 'roof', 'rooftop', 'room', 'root', 'rose', 'rotat', 'rough', 'round', 'rout', 'row', 'rte', 'rule', 'rumbl', 'run', 'rush', 'sacramento', 'said', 'salem', 'sat', 'satellit', 'saturday', 'saucer', 'saw', 'say', 'scare', 'school', 'scream', 'screenshot', 'se', 'seam', 'search', 'sec', 'seclud', 'second', 'secondsaround', 'secret', 'secur', 'see', 'seem', 'seen', 'send', 'senior', 'sens', 'sent', 'separ', 'septemb', 'servic', 'set', 'sever', 'sf', 'shade', 'shake', 'shape', 'share', 'sharp', 'shift', 'shine', 'shini', 'ship', 'shock', 'shone', 'shook', 'shoot', 'short', 'shot', 'show', 'shower', 'side', 'sideway', 'sight', 'sign', 'signifi', 'silent', 'silliwet', 'silver', 'silverish', 'similar', 'simpli', 'simular', 'sinc', 'singl', 'sink', 'sit', 'site', 'situat', 'size', 'skeptic', 'skinni', 'sky', 'skycircl', 'skyon', 'slc', 'slight', 'slim', 'sling', 'slot', 'slow', 'slower', 'slowli', 'small', 'smaller', 'smiley', 'smoke', 'smoki', 'smooth', 'snap', 'snuck', 'soft', 'solid', 'somebodi', 'someon', 'someth', 'somethibg', 'sometim', 'son', 'soon', 'sort', 'sound', 'sourc', 'south', 'southbound', 'southeast', 'southern', 'southward', 'southwest', 'southwestern', 'space', 'sparkl', 'spec', 'speci', 'sped', 'speed', 'spent', 'sperm', 'sphere', 'spheric', 'spin', 'spirit', 'spoke', 'spot', 'spotlight', 'spread', 'spring', 'spun', 'spur', 'squar', 'st', 'stand', 'standstil', 'star', 'stare', 'stargaz', 'starless', 'start', 'starter', 'state', 'station', 'stationari', 'stay', 'steadi', 'steep', 'step', 'stern', 'still', 'stood', 'stop', 'stope', 'storm', 'stormi', 'stove', 'straight', 'strang', 'stream', 'street', 'stretch', 'string', 'strip', 'stripe', 'strobish', 'stroll', 'stronger', 'struck', 'structur', 'stuff', 'stun', 'sucker', 'sudden', 'suggest', 'sun', 'sunset', 'sure', 'surfac', 'surpris', 'surround', 'suspici', 'sw', 'swear', 'sweep', 'swerv', 'swift', 'swir', 'swish', 'switch', 'sylvest', 'symbol', 'taft', 'tag', 'tail', 'take', 'taken', 'talk', 'tall', 'taller', 'tan', 'taught', 'taylor', 'technician', 'techniqu', 'technolog', 'teen', 'telephon', 'telescop', 'tell', 'tempt', 'ten', 'termin', 'terrifi', 'texa', 'text', 'tge', 'th', 'thank', 'therefor', 'thick', 'thin', 'thing', 'think', 'third', 'thirti', 'though', 'thought', 'thousand', 'three', 'threw', 'thrice', 'throughout', 'thru', 'thunderstorm', 'thursday', 'tie', 'till', 'tilt', 'time', 'timei', 'ting', 'tini', 'tint', 'tip', 'today', 'togeth', 'told', 'tone', 'tonight', 'took', 'top', 'tornado', 'total', 'toward', 'town', 'trace', 'track', 'traffic', 'trail', 'trailat', 'train', 'tram', 'transform', 'transmiss', 'travel', 'tree', 'trent', 'tri', 'triangl', 'triangular', 'trimbl', 'trip', 'tripl', 'truck', 'truli', 'trumpet', 'trust', 'tumbl', 'tunrd', 'turn', 'tv', 'tweet', 'twice', 'twink', 'twinkl', 'twist', 'twitter', 'two', 'tylenol', 'type', 'uber', 'ufo', 'ufomig', 'unabl', 'unawar', 'uncomfort', 'uncommon', 'underneath', 'understand', 'unexplain', 'unforgett', 'unfortun', 'unit', 'univers', 'unless', 'unlik', 'unse', 'unsur', 'unusu', 'unveil', 'upon', 'upstream', 'upward', 'us', 'usa', 'use', 'usual', 'ut', 'valley', 'valleyblack', 'vanish', 'vapor', 'vehicl', 'vent', 'venus', 'verifi', 'vers', 'version', 'vertic', 'vessel', 'via', 'vibrat', 'video', 'videotap', 'vidibl', 'view', 'visibl', 'vision', 'visual', 'volum', 'vs', 'wait', 'walk', 'wall', 'walnut', 'wam', 'want', 'warehous', 'warm', 'watch', 'water', 'wave', 'wax', 'way', 'weather', 'web', 'wedg', 'wednesday', 'weird', 'well', 'went', 'west', 'wetland', 'whatev', 'whether', 'white', 'whitish', 'whole', 'wi', 'wide', 'wider', 'wierd', 'wife', 'wifi', 'wildlif', 'wind', 'windi', 'window', 'windshield', 'wing', 'wish', 'wit', 'within', 'without', 'witnessesmi', 'wobbl', 'woke', 'wonder', 'wood', 'woodburn', 'word', 'work', 'world', 'worth', 'would', 'wouldv', 'wow', 'write', 'wrong', 'yard', 'yds', 'year', 'yell', 'yellow', 'yellowish', 'yet', 'ying', 'yoga', 'younger', 'youtub', 'yoyo', 'zip', 'zoom']\n",
      "[[ 0.          0.          0.         ...,  0.          0.          0.        ]\n",
      " [ 0.          0.          0.         ...,  0.          0.          0.        ]\n",
      " [ 0.          0.          0.         ...,  0.          0.          0.        ]\n",
      " ..., \n",
      " [ 0.          0.          0.         ...,  0.          0.          0.        ]\n",
      " [ 0.          0.          0.         ...,  0.          0.          0.        ]\n",
      " [ 0.          0.          0.10840734 ...,  0.          0.          0.        ]]\n"
     ]
    }
   ],
   "source": [
    "tfidf = TfidfVectorizer()\n",
    "document_tfidf_matrix = tfidf.fit_transform(document_series)\n",
    "print(sorted(tfidf.vocabulary_))\n",
    "print(document_tfidf_matrix.todense())"
   ]
  },
  {
   "cell_type": "code",
   "execution_count": null,
   "metadata": {},
   "outputs": [],
   "source": []
  }
 ],
 "metadata": {
  "kernelspec": {
   "display_name": "Python 3",
   "language": "python",
   "name": "python3"
  },
  "language_info": {
   "codemirror_mode": {
    "name": "ipython",
    "version": 3
   },
   "file_extension": ".py",
   "mimetype": "text/x-python",
   "name": "python",
   "nbconvert_exporter": "python",
   "pygments_lexer": "ipython3",
   "version": "3.8.5"
  }
 },
 "nbformat": 4,
 "nbformat_minor": 4
}
